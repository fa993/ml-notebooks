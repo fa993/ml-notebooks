{
 "cells": [
  {
   "cell_type": "raw",
   "id": "c84a257e-fa1c-418d-b7f1-9bcd6e4d3c75",
   "metadata": {},
   "source": [
    "Gradient Descent\n",
    "\n",
    "Iterative,\n",
    "Works by trying to minimize a cost function every time. \n",
    "bn+1 = bn - alpha . f(err)\n",
    "\n",
    "alpha=learning rate\n",
    "f(err) is a function which examines the error at current iteration and returns an appropriate value denoting the distance from possible mean\n",
    "\n",
    "Minimization algo\n",
    "\n",
    "Types:\n",
    "Batch: Updates coefficients after examine the entire batch\n",
    "Stochastic: Updates coefficients after examining every dataset individually\n",
    "\n",
    "Problems: \n",
    "For the algo to converge we should pick an appropriate learning parameter. Too high and you might overshoot the min point. Too less and the number of iterations required to converge will be too high."
   ]
  },
  {
   "cell_type": "code",
   "execution_count": 2,
   "id": "31606a06-2832-471a-aa5f-d1894fa9cc8c",
   "metadata": {},
   "outputs": [],
   "source": [
    "import numpy as np # linear algebra\n",
    "import pandas as pd # data processing, CSV file I/O (e.g. pd.read_csv)\n",
    "from matplotlib import pyplot as plt\n",
    "import seaborn as sns"
   ]
  },
  {
   "cell_type": "code",
   "execution_count": 4,
   "id": "6a23e227-68c2-4f08-81cf-07fa426dd1ce",
   "metadata": {},
   "outputs": [],
   "source": [
    "tvinf = pd.read_csv('data/tvmarketing.csv')"
   ]
  },
  {
   "cell_type": "code",
   "execution_count": 5,
   "id": "9bdba592-547d-4cc2-8e24-eab04e4c7ed8",
   "metadata": {},
   "outputs": [
    {
     "name": "stdout",
     "output_type": "stream",
     "text": [
      "<class 'pandas.core.frame.DataFrame'>\n",
      "RangeIndex: 200 entries, 0 to 199\n",
      "Data columns (total 2 columns):\n",
      " #   Column  Non-Null Count  Dtype  \n",
      "---  ------  --------------  -----  \n",
      " 0   TV      200 non-null    float64\n",
      " 1   Sales   200 non-null    float64\n",
      "dtypes: float64(2)\n",
      "memory usage: 3.3 KB\n"
     ]
    }
   ],
   "source": [
    "tvinf.info()"
   ]
  },
  {
   "cell_type": "code",
   "execution_count": 7,
   "id": "4dcf74c3-ced6-44c8-a1fb-9cebe56fb9dc",
   "metadata": {},
   "outputs": [],
   "source": [
    "m = 0\n",
    "c = 0"
   ]
  },
  {
   "cell_type": "code",
   "execution_count": 8,
   "id": "a40cf89f-7303-4461-ba0c-437cdd53b189",
   "metadata": {},
   "outputs": [],
   "source": [
    "import io, os, sys, types\n",
    "from IPython import get_ipython\n",
    "from nbformat import read\n",
    "from IPython.core.interactiveshell import InteractiveShell\n",
    "\n",
    "def find_notebook(fullname, path=None):\n",
    "    \"\"\"find a notebook, given its fully qualified name and an optional path\n",
    "\n",
    "    This turns \"foo.bar\" into \"foo/bar.ipynb\"\n",
    "    and tries turning \"Foo_Bar\" into \"Foo Bar\" if Foo_Bar\n",
    "    does not exist.\n",
    "    \"\"\"\n",
    "    name = fullname.rsplit('.', 1)[-1]\n",
    "    if not path:\n",
    "        path = ['']\n",
    "    for d in path:\n",
    "        nb_path = os.path.join(d, name + \".ipynb\")\n",
    "        if os.path.isfile(nb_path):\n",
    "            return nb_path\n",
    "        # let import Notebook_Name find \"Notebook Name.ipynb\"\n",
    "        nb_path = nb_path.replace(\"_\", \" \")\n",
    "        if os.path.isfile(nb_path):\n",
    "            return nb_path\n",
    "\n",
    "class NotebookLoader(object):\n",
    "    \"\"\"Module Loader for Jupyter Notebooks\"\"\"\n",
    "\n",
    "    def __init__(self, path=None):\n",
    "        self.shell = InteractiveShell.instance()\n",
    "        self.path = path\n",
    "\n",
    "    def load_module(self, fullname):\n",
    "        \"\"\"import a notebook as a module\"\"\"\n",
    "        path = find_notebook(fullname, self.path)\n",
    "\n",
    "        print(\"importing Jupyter notebook from %s\" % path)\n",
    "\n",
    "        # load the notebook object\n",
    "        with io.open(path, 'r', encoding='utf-8') as f:\n",
    "            nb = read(f, 4)\n",
    "\n",
    "        # create the module and add it to sys.modules\n",
    "        # if name in sys.modules:\n",
    "        #    return sys.modules[name]\n",
    "        mod = types.ModuleType(fullname)\n",
    "        mod.__file__ = path\n",
    "        mod.__loader__ = self\n",
    "        mod.__dict__['get_ipython'] = get_ipython\n",
    "        sys.modules[fullname] = mod\n",
    "\n",
    "        # extra work to ensure that magics that would affect the user_ns\n",
    "        # actually affect the notebook module's ns\n",
    "        save_user_ns = self.shell.user_ns\n",
    "        self.shell.user_ns = mod.__dict__\n",
    "\n",
    "        try:\n",
    "            for cell in nb.cells:\n",
    "                if cell.cell_type == 'code':\n",
    "                    # transform the input to executable Python\n",
    "                    code = self.shell.input_transformer_manager.transform_cell(cell.source)\n",
    "                    # run the code in themodule\n",
    "                    exec(code, mod.__dict__)\n",
    "        finally:\n",
    "            self.shell.user_ns = save_user_ns\n",
    "        return mod\n",
    "\n",
    "class NotebookFinder(object):\n",
    "    \"\"\"Module finder that locates Jupyter Notebooks\"\"\"\n",
    "\n",
    "    def __init__(self):\n",
    "        self.loaders = {}\n",
    "\n",
    "    def find_module(self, fullname, path=None):\n",
    "        nb_path = find_notebook(fullname, path)\n",
    "        if not nb_path:\n",
    "            return\n",
    "\n",
    "        key = path\n",
    "        if path:\n",
    "            # lists aren't hashable\n",
    "            key = os.path.sep.join(path)\n",
    "\n",
    "        if key not in self.loaders:\n",
    "            self.loaders[key] = NotebookLoader(path)\n",
    "        return self.loaders[key]\n",
    "\n",
    "sys.meta_path.append(NotebookFinder())"
   ]
  },
  {
   "cell_type": "code",
   "execution_count": 9,
   "id": "5009efa1-72ad-4bae-b7f4-341dab56d7f8",
   "metadata": {},
   "outputs": [
    {
     "name": "stdout",
     "output_type": "stream",
     "text": [
      "importing Jupyter notebook from RegrMetrics.ipynb\n"
     ]
    }
   ],
   "source": [
    "import RegrMetrics    "
   ]
  },
  {
   "cell_type": "code",
   "execution_count": 93,
   "id": "04906a25-2fce-49d5-82a0-1fff08ba75ab",
   "metadata": {},
   "outputs": [],
   "source": [
    "X = tvinf['TV']\n",
    "Y = tvinf['Sales']\n",
    "m = 0\n",
    "c = 0\n",
    "alpha = 0.00001\n",
    "def errfuncM(ypr, y, x):\n",
    "    return ((ypr - y) * x).mean()\n",
    "def errfuncC(ypr, y):\n",
    "    return (ypr - y).mean()"
   ]
  },
  {
   "cell_type": "code",
   "execution_count": 94,
   "id": "9c9f4582-4ed2-4e79-be7b-17303ad4368e",
   "metadata": {},
   "outputs": [],
   "source": [
    "costs = []\n",
    "ypr\n",
    "for i in range(100000):\n",
    "    #generate ypr\n",
    "    ypr = m * X + c\n",
    "    m = m - alpha * errfuncM(ypr, Y, X)\n",
    "    c = c - alpha * errfuncC(ypr, Y)\n",
    "    rm = RegrMetrics.rmse(ypr, Y)\n",
    "    costs.append(rm)"
   ]
  },
  {
   "cell_type": "code",
   "execution_count": 96,
   "id": "8d772427-d575-4dea-bcc7-7e8ab8e2a215",
   "metadata": {},
   "outputs": [
    {
     "data": {
      "text/plain": [
       "(0.07525738482806373, 1.5738755450761157)"
      ]
     },
     "execution_count": 96,
     "metadata": {},
     "output_type": "execute_result"
    }
   ],
   "source": [
    "m, c"
   ]
  },
  {
   "cell_type": "code",
   "execution_count": 97,
   "id": "85e2b0cf-5c24-4c9d-820d-b2dc31b9729a",
   "metadata": {},
   "outputs": [
    {
     "data": {
      "text/plain": [
       "[<matplotlib.lines.Line2D at 0x16d149f90>]"
      ]
     },
     "execution_count": 97,
     "metadata": {},
     "output_type": "execute_result"
    },
    {
     "data": {
      "image/png": "[encoded data removed]",
      "text/plain": [
       "<Figure size 640x480 with 1 Axes>"
      ]
     },
     "metadata": {},
     "output_type": "display_data"
    }
   ],
   "source": [
    "plt.plot(costs)"
   ]
  },
  {
   "cell_type": "code",
   "execution_count": 103,
   "id": "ddaea258-9c53-40c5-9dd5-808f7d1d18ee",
   "metadata": {
    "scrolled": true
   },
   "outputs": [
    {
     "data": {
      "text/plain": [
       "<matplotlib.collections.PathCollection at 0x16d666350>"
      ]
     },
     "execution_count": 103,
     "metadata": {},
     "output_type": "execute_result"
    },
    {
     "data": {
      "image/png": "[encoded data removed]",
      "text/plain": [
       "<Figure size 640x480 with 1 Axes>"
      ]
     },
     "metadata": {},
     "output_type": "display_data"
    }
   ],
   "source": [
    "plt.plot(X, ypr)\n",
    "plt.scatter(X, Y)"
   ]
  },
  {
   "cell_type": "code",
   "execution_count": 100,
   "id": "72d439bd-35f2-43e9-b6f5-648c1c3390f7",
   "metadata": {},
   "outputs": [
    {
     "data": {
      "text/plain": [
       "4.249712595093028"
      ]
     },
     "execution_count": 100,
     "metadata": {},
     "output_type": "execute_result"
    }
   ],
   "source": [
    "costs[100000-1]"
   ]
  },
  {
   "cell_type": "code",
   "execution_count": null,
   "id": "ef765678-3da5-4c8a-9bf3-8719e2b0ddd5",
   "metadata": {},
   "outputs": [],
   "source": []
  }
 ],
 "metadata": {
  "kernelspec": {
   "display_name": "Python 3 (ipykernel)",
   "language": "python",
   "name": "python3"
  },
  "language_info": {
   "codemirror_mode": {
    "name": "ipython",
    "version": 3
   },
   "file_extension": ".py",
   "mimetype": "text/x-python",
   "name": "python",
   "nbconvert_exporter": "python",
   "pygments_lexer": "ipython3",
   "version": "3.11.5"
  }
 },
 "nbformat": 4,
 "nbformat_minor": 5
}
