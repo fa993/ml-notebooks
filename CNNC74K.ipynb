{
 "cells": [
  {
   "cell_type": "code",
   "execution_count": 1,
   "id": "00613f22-4783-4708-b90c-9302e2a85ad4",
   "metadata": {},
   "outputs": [],
   "source": [
    "import tensorflow as tf\n",
    "import matplotlib.pyplot as plt\n",
    "import pathlib\n",
    "from PIL import Image, ImageOps\n",
    "import numpy as np\n",
    "import os\n",
    "from sklearn.utils import shuffle\n",
    "from sklearn.model_selection import train_test_split\n",
    "import random"
   ]
  },
  {
   "cell_type": "code",
   "execution_count": 2,
   "id": "70f982d3-9bca-480a-9c66-0e392634bfb3",
   "metadata": {},
   "outputs": [],
   "source": [
    "def process_folder(dirpath, samp=100):\n",
    "    dirpath = dirpath.joinpath('Bmp')\n",
    "    x_data = []\n",
    "    y_data = []\n",
    "    for it in dirpath.iterdir():\n",
    "        if not it.is_dir():\n",
    "            continue\n",
    "        y_label = int(it.stem[-3:]) - 1\n",
    "        # print(y_label)\n",
    "        # print(len(os.listdir(it)))\n",
    "        lst = random.choices(list(it.iterdir()), k=samp)\n",
    "        for it2 in lst:\n",
    "            img = Image.open(it2)\n",
    "            img = ImageOps.grayscale(img)\n",
    "            img = img.resize((32, 32))\n",
    "            arr = np.asarray(img) / 255.0\n",
    "            arr = arr.reshape(arr.shape + (1,))\n",
    "            y_d = np.zeros((62,))\n",
    "            y_d[y_label] = 1\n",
    "            y_data.append(y_d.copy())\n",
    "            x_data.append(arr.copy())\n",
    "    return  np.array(x_data),  np.array(y_data)"
   ]
  },
  {
   "cell_type": "code",
   "execution_count": 3,
   "id": "e1f9b9c8-3c9c-45bf-8ab3-bce75abad47b",
   "metadata": {},
   "outputs": [],
   "source": [
    "dirpath = pathlib.Path.cwd().joinpath('data/c74k/GoodImg/')\n",
    "x_train, y_train = process_folder(dirpath)\n",
    "\n",
    "dirpath = pathlib.Path.cwd().joinpath('data/c74k/BadImag/')\n",
    "x_train_2, y_train_2 = process_folder(dirpath, samp=20)\n",
    "\n",
    "x_train, y_train = np.concatenate((x_train, x_train_2)), np.concatenate((y_train, y_train_2))\n",
    "\n",
    "dirpath = pathlib.Path.cwd().joinpath('data/c74k/BadImag/')\n",
    "x_test, y_test = process_folder(dirpath, samp=20)\n"
   ]
  },
  {
   "cell_type": "code",
   "execution_count": 4,
   "id": "a8299fd9-92b4-49b1-8fd7-15d5a2496c88",
   "metadata": {},
   "outputs": [],
   "source": [
    "x_train, y_train = shuffle(x_train, y_train, random_state=0)\n",
    "x_test, y_test = shuffle(x_test, y_test, random_state=0)"
   ]
  },
  {
   "cell_type": "code",
   "execution_count": 5,
   "id": "4e5c3145-863b-4a94-aeca-aac861c5c7c1",
   "metadata": {},
   "outputs": [],
   "source": [
    "x_test, x_val, y_test, y_val = train_test_split(x_test, y_test, test_size=0.5)"
   ]
  },
  {
   "cell_type": "code",
   "execution_count": 6,
   "id": "3e9c03cd-0420-4e6d-a68a-057c23035713",
   "metadata": {},
   "outputs": [
    {
     "data": {
      "text/plain": [
       "(7440, 620)"
      ]
     },
     "execution_count": 6,
     "metadata": {},
     "output_type": "execute_result"
    }
   ],
   "source": [
    "len(x_train), len(x_test)"
   ]
  },
  {
   "cell_type": "code",
   "execution_count": 7,
   "id": "05bfafa3-f37c-40e9-9f7f-6a4eba53bd17",
   "metadata": {},
   "outputs": [],
   "source": [
    "image = Image.fromarray(x_train[0].reshape((32, 32)) * 255.0)\n",
    "image = image.convert('L')"
   ]
  },
  {
   "cell_type": "code",
   "execution_count": 8,
   "id": "925beda7-574c-4001-8076-f2b455083945",
   "metadata": {},
   "outputs": [
    {
     "data": {
      "image/jpeg": "[encoded data removed]",
      "image/png": "[encoded data removed]",
      "text/plain": [
       "<PIL.Image.Image image mode=L size=32x32>"
      ]
     },
     "execution_count": 8,
     "metadata": {},
     "output_type": "execute_result"
    }
   ],
   "source": [
    "image"
   ]
  },
  {
   "cell_type": "code",
   "execution_count": 9,
   "id": "9c528b85-3c43-4a6a-a812-d19a31f2e228",
   "metadata": {},
   "outputs": [
    {
     "ename": "",
     "evalue": "",
     "output_type": "error",
     "traceback": [
      "\u001b[1;31mThe Kernel crashed while executing code in the the current cell or a previous cell. Please review the code in the cell(s) to identify a possible cause of the failure. Click <a href='https://aka.ms/vscodeJupyterKernelCrash'>here</a> for more info. View Jupyter <a href='command:jupyter.viewOutput'>log</a> for further details."
     ]
    }
   ],
   "source": [
    "model = tf.keras.models.Sequential()\n",
    "model.add(tf.keras.layers.Conv2D(32, (3, 3), activation='relu', padding=\"same\",input_shape=(32, 32, 1)))\n",
    "model.add(tf.keras.layers.MaxPooling2D((2, 2)))\n",
    "model.add(tf.keras.layers.Dropout(0.25))\n",
    "model.add(tf.keras.layers.BatchNormalization())\n",
    "model.add(tf.keras.layers.Conv2D(64, (3, 3), activation='relu', padding=\"same\"))\n",
    "model.add(tf.keras.layers.MaxPooling2D((2, 2)))\n",
    "model.add(tf.keras.layers.Dropout(0.25))\n",
    "model.add(tf.keras.layers.BatchNormalization())\n",
    "# model.add(tf.keras.layers.Conv2D(64, (3, 3), activation='relu', padding=\"same\"))\n",
    "# model.add(tf.keras.layers.MaxPooling2D((2, 2)))\n",
    "# model.add(tf.keras.layers.Conv2D(128, (3, 3), activation='relu', padding=\"same\"))\n",
    "# model.add(tf.keras.layers.MaxPooling2D((2, 2)))\n",
    "# model.add(tf.keras.layers.BatchNormalization())\n",
    "# model.add(tf.keras.layers.Conv2D(128, (3, 3), activation='relu', padding=\"same\"))\n",
    "# model.add(tf.keras.layers.BatchNormalization())"
   ]
  },
  {
   "cell_type": "code",
   "execution_count": 10,
   "id": "90d0b5e3-2920-41f5-b32e-4cf2a9745731",
   "metadata": {},
   "outputs": [
    {
     "name": "stdout",
     "output_type": "stream",
     "text": [
      "Model: \"sequential\"\n",
      "_________________________________________________________________\n",
      " Layer (type)                Output Shape              Param #   \n",
      "=================================================================\n",
      " conv2d (Conv2D)             (None, 32, 32, 32)        320       \n",
      "                                                                 \n",
      " max_pooling2d (MaxPooling2  (None, 16, 16, 32)        0         \n",
      " D)                                                              \n",
      "                                                                 \n",
      " dropout (Dropout)           (None, 16, 16, 32)        0         \n",
      "                                                                 \n",
      " batch_normalization (Batch  (None, 16, 16, 32)        128       \n",
      " Normalization)                                                  \n",
      "                                                                 \n",
      " conv2d_1 (Conv2D)           (None, 16, 16, 64)        18496     \n",
      "                                                                 \n",
      " max_pooling2d_1 (MaxPoolin  (None, 8, 8, 64)          0         \n",
      " g2D)                                                            \n",
      "                                                                 \n",
      " dropout_1 (Dropout)         (None, 8, 8, 64)          0         \n",
      "                                                                 \n",
      " batch_normalization_1 (Bat  (None, 8, 8, 64)          256       \n",
      " chNormalization)                                                \n",
      "                                                                 \n",
      "=================================================================\n",
      "Total params: 19200 (75.00 KB)\n",
      "Trainable params: 19008 (74.25 KB)\n",
      "Non-trainable params: 192 (768.00 Byte)\n",
      "_________________________________________________________________\n"
     ]
    }
   ],
   "source": [
    "model.summary()"
   ]
  },
  {
   "cell_type": "code",
   "execution_count": 11,
   "id": "b26f8189-6b3e-48a9-8d3b-16feeb4696b2",
   "metadata": {},
   "outputs": [],
   "source": [
    "model.add(tf.keras.layers.Flatten())\n",
    "model.add(tf.keras.layers.Dense(128, activation=\"relu\"))\n",
    "model.add(tf.keras.layers.Dense(62, activation=\"softmax\"))"
   ]
  },
  {
   "cell_type": "code",
   "execution_count": 12,
   "id": "6b2d597c-8d4b-4e56-8353-352662d87873",
   "metadata": {},
   "outputs": [
    {
     "name": "stdout",
     "output_type": "stream",
     "text": [
      "Model: \"sequential\"\n",
      "_________________________________________________________________\n",
      " Layer (type)                Output Shape              Param #   \n",
      "=================================================================\n",
      " conv2d (Conv2D)             (None, 32, 32, 32)        320       \n",
      "                                                                 \n",
      " max_pooling2d (MaxPooling2  (None, 16, 16, 32)        0         \n",
      " D)                                                              \n",
      "                                                                 \n",
      " dropout (Dropout)           (None, 16, 16, 32)        0         \n",
      "                                                                 \n",
      " batch_normalization (Batch  (None, 16, 16, 32)        128       \n",
      " Normalization)                                                  \n",
      "                                                                 \n",
      " conv2d_1 (Conv2D)           (None, 16, 16, 64)        18496     \n",
      "                                                                 \n",
      " max_pooling2d_1 (MaxPoolin  (None, 8, 8, 64)          0         \n",
      " g2D)                                                            \n",
      "                                                                 \n",
      " dropout_1 (Dropout)         (None, 8, 8, 64)          0         \n",
      "                                                                 \n",
      " batch_normalization_1 (Bat  (None, 8, 8, 64)          256       \n",
      " chNormalization)                                                \n",
      "                                                                 \n",
      " flatten (Flatten)           (None, 4096)              0         \n",
      "                                                                 \n",
      " dense (Dense)               (None, 128)               524416    \n",
      "                                                                 \n",
      " dense_1 (Dense)             (None, 62)                7998      \n",
      "                                                                 \n",
      "=================================================================\n",
      "Total params: 551614 (2.10 MB)\n",
      "Trainable params: 551422 (2.10 MB)\n",
      "Non-trainable params: 192 (768.00 Byte)\n",
      "_________________________________________________________________\n"
     ]
    }
   ],
   "source": [
    "model.summary()"
   ]
  },
  {
   "cell_type": "code",
   "execution_count": 13,
   "id": "e2b65dc1-b2ea-4d08-851f-d8c45988889a",
   "metadata": {},
   "outputs": [
    {
     "name": "stdout",
     "output_type": "stream",
     "text": [
      "Epoch 1/20\n",
      "59/59 [==============================] - 2s 39ms/step - loss: 3.9175 - accuracy: 0.0966 - val_loss: 4.1550 - val_accuracy: 0.0161\n",
      "Epoch 2/20\n",
      "59/59 [==============================] - 2s 37ms/step - loss: 2.2699 - accuracy: 0.4208 - val_loss: 4.6350 - val_accuracy: 0.0242\n",
      "Epoch 3/20\n",
      "59/59 [==============================] - 2s 40ms/step - loss: 1.1930 - accuracy: 0.6762 - val_loss: 5.1075 - val_accuracy: 0.0226\n",
      "Epoch 4/20\n",
      "59/59 [==============================] - 2s 38ms/step - loss: 0.8014 - accuracy: 0.7722 - val_loss: 5.1078 - val_accuracy: 0.0210\n",
      "Epoch 5/20\n",
      "59/59 [==============================] - 2s 39ms/step - loss: 0.5854 - accuracy: 0.8423 - val_loss: 5.2870 - val_accuracy: 0.0371\n",
      "Epoch 6/20\n",
      "59/59 [==============================] - 2s 37ms/step - loss: 0.4480 - accuracy: 0.8792 - val_loss: 5.3488 - val_accuracy: 0.0565\n",
      "Epoch 7/20\n",
      "59/59 [==============================] - 2s 38ms/step - loss: 0.3654 - accuracy: 0.9007 - val_loss: 5.5874 - val_accuracy: 0.0516\n",
      "Epoch 8/20\n",
      "59/59 [==============================] - 2s 40ms/step - loss: 0.2986 - accuracy: 0.9140 - val_loss: 4.2763 - val_accuracy: 0.1403\n",
      "Epoch 9/20\n",
      "59/59 [==============================] - 2s 37ms/step - loss: 0.2593 - accuracy: 0.9231 - val_loss: 3.3783 - val_accuracy: 0.2935\n",
      "Epoch 10/20\n",
      "59/59 [==============================] - 2s 38ms/step - loss: 0.2043 - accuracy: 0.9440 - val_loss: 2.6402 - val_accuracy: 0.4371\n",
      "Epoch 11/20\n",
      "59/59 [==============================] - 2s 38ms/step - loss: 0.1939 - accuracy: 0.9473 - val_loss: 2.4809 - val_accuracy: 0.4661\n",
      "Epoch 12/20\n",
      "59/59 [==============================] - 2s 39ms/step - loss: 0.1385 - accuracy: 0.9606 - val_loss: 1.9631 - val_accuracy: 0.5710\n",
      "Epoch 13/20\n",
      "59/59 [==============================] - 2s 42ms/step - loss: 0.1131 - accuracy: 0.9692 - val_loss: 1.8973 - val_accuracy: 0.6032\n",
      "Epoch 14/20\n",
      "59/59 [==============================] - 2s 39ms/step - loss: 0.1101 - accuracy: 0.9700 - val_loss: 1.6654 - val_accuracy: 0.6710\n",
      "Epoch 15/20\n",
      "59/59 [==============================] - 2s 39ms/step - loss: 0.0967 - accuracy: 0.9745 - val_loss: 1.7043 - val_accuracy: 0.6919\n",
      "Epoch 16/20\n",
      "59/59 [==============================] - 2s 39ms/step - loss: 0.0886 - accuracy: 0.9720 - val_loss: 1.6926 - val_accuracy: 0.6935\n",
      "Epoch 17/20\n",
      "59/59 [==============================] - 2s 40ms/step - loss: 0.0753 - accuracy: 0.9801 - val_loss: 1.6682 - val_accuracy: 0.6968\n",
      "Epoch 18/20\n",
      "59/59 [==============================] - 3s 44ms/step - loss: 0.0625 - accuracy: 0.9841 - val_loss: 1.7127 - val_accuracy: 0.6952\n",
      "Epoch 19/20\n",
      "59/59 [==============================] - 2s 40ms/step - loss: 0.0656 - accuracy: 0.9809 - val_loss: 1.6851 - val_accuracy: 0.7016\n",
      "Epoch 20/20\n",
      "59/59 [==============================] - 2s 39ms/step - loss: 0.0632 - accuracy: 0.9815 - val_loss: 1.7468 - val_accuracy: 0.7016\n"
     ]
    }
   ],
   "source": [
    "model.compile(optimizer='adam',\n",
    "              loss=tf.keras.losses.categorical_crossentropy,\n",
    "              metrics=['accuracy'])\n",
    "\n",
    "history = model.fit(x_train, y_train, batch_size=128, validation_data=(x_val, y_val), epochs=20)"
   ]
  },
  {
   "cell_type": "code",
   "execution_count": 14,
   "id": "018098da-ba43-4fa6-8d9d-72da39eeb542",
   "metadata": {},
   "outputs": [
    {
     "data": {
      "text/plain": [
       "<matplotlib.legend.Legend at 0x2a0167cd0>"
      ]
     },
     "execution_count": 14,
     "metadata": {},
     "output_type": "execute_result"
    },
    {
     "data": {
      "image/png": "[encoded data removed]",
      "text/plain": [
       "<Figure size 640x480 with 1 Axes>"
      ]
     },
     "metadata": {},
     "output_type": "display_data"
    }
   ],
   "source": [
    "plt.plot(history.history['accuracy'], label='accuracy')\n",
    "plt.plot(history.history['val_accuracy'], label = 'val_accuracy')\n",
    "plt.xlabel('Epoch')\n",
    "plt.ylabel('Accuracy')\n",
    "plt.ylim([0.5, 1])\n",
    "plt.legend(loc='lower right')"
   ]
  },
  {
   "cell_type": "code",
   "execution_count": 15,
   "id": "4047c58f-465b-4605-9ba0-a62fb657f68e",
   "metadata": {},
   "outputs": [
    {
     "name": "stdout",
     "output_type": "stream",
     "text": [
      "20/20 - 0s - loss: 1.7346 - accuracy: 0.7016 - 120ms/epoch - 6ms/step\n"
     ]
    }
   ],
   "source": [
    "test_loss, test_acc = model.evaluate(x_test,  y_test, verbose=2)"
   ]
  },
  {
   "cell_type": "code",
   "execution_count": 16,
   "id": "844d46ec-34ab-4c03-855a-e3b2cc621699",
   "metadata": {},
   "outputs": [
    {
     "data": {
      "text/plain": [
       "0.7016128897666931"
      ]
     },
     "execution_count": 16,
     "metadata": {},
     "output_type": "execute_result"
    }
   ],
   "source": [
    "test_acc"
   ]
  },
  {
   "cell_type": "code",
   "execution_count": 17,
   "id": "11d98f00-a48b-4073-ba98-6a3a4a734b91",
   "metadata": {},
   "outputs": [
    {
     "data": {
      "text/plain": [
       "1.734621524810791"
      ]
     },
     "execution_count": 17,
     "metadata": {},
     "output_type": "execute_result"
    }
   ],
   "source": [
    "test_loss"
   ]
  },
  {
   "cell_type": "code",
   "execution_count": 18,
   "id": "eee10492-be36-4fe7-be50-49329b9c20e8",
   "metadata": {},
   "outputs": [
    {
     "data": {
      "text/plain": [
       "620"
      ]
     },
     "execution_count": 18,
     "metadata": {},
     "output_type": "execute_result"
    }
   ],
   "source": [
    "len(x_test)"
   ]
  },
  {
   "cell_type": "code",
   "execution_count": null,
   "id": "27973966-1e2a-4046-9e63-409b1f4db57b",
   "metadata": {},
   "outputs": [],
   "source": []
  },
  {
   "cell_type": "code",
   "execution_count": null,
   "id": "d8578fba-5097-4243-87f2-34393a4877c2",
   "metadata": {},
   "outputs": [],
   "source": []
  }
 ],
 "metadata": {
  "kernelspec": {
   "display_name": "Python 3 (ipykernel)",
   "language": "python",
   "name": "python3"
  },
  "language_info": {
   "codemirror_mode": {
    "name": "ipython",
    "version": 3
   },
   "file_extension": ".py",
   "mimetype": "text/x-python",
   "name": "python",
   "nbconvert_exporter": "python",
   "pygments_lexer": "ipython3",
   "version": "3.11.5"
  }
 },
 "nbformat": 4,
 "nbformat_minor": 5
}
