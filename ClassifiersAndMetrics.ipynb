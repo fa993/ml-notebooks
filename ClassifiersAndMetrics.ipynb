{
 "cells": [
  {
   "cell_type": "code",
   "execution_count": 9,
   "id": "2a7c5d0d-b119-4b25-9d44-1a329eccd8b3",
   "metadata": {},
   "outputs": [],
   "source": [
    "import numpy as np # linear algebra\n",
    "import pandas as pd # data processing, CSV file I/O (e.g. pd.read_csv)\n",
    "from matplotlib import pyplot as plt\n",
    "import seaborn as sns   \n",
    "import math"
   ]
  },
  {
   "cell_type": "code",
   "execution_count": 1,
   "id": "7c89c82d-ccce-4b83-a399-e62467306ecf",
   "metadata": {},
   "outputs": [],
   "source": [
    "def accuracy(y, ypr):\n",
    "    # TP/AP\n",
    "    t = 0\n",
    "    a = 0\n",
    "    for lhs, rhs in zip(ypr, y):\n",
    "        if lhs == rhs:\n",
    "            t+=1\n",
    "        a+=1\n",
    "    if a == 0:\n",
    "        return None\n",
    "    else:\n",
    "        return t / a"
   ]
  },
  {
   "cell_type": "code",
   "execution_count": 2,
   "id": "deaf3fe7-d452-4df1-bd25-ee17b4669537",
   "metadata": {},
   "outputs": [],
   "source": [
    "def precision(y, ypr, p_for=1):\n",
    "    # TP / TP + FP\n",
    "    # imaginary de duplication of multi-class columns into \n",
    "    # individual n binary classifier columns indicated by p_for variable\n",
    "    t = 0\n",
    "    a = 0\n",
    "    for lhs, rhs in zip(ypr, y):\n",
    "        if lhs != p_for:\n",
    "            continue\n",
    "        elif lhs == rhs:\n",
    "            t+=1\n",
    "            a+=1\n",
    "        else:\n",
    "            a+=1\n",
    "    if a == 0:\n",
    "        return None\n",
    "    else:\n",
    "        return t / a"
   ]
  },
  {
   "cell_type": "code",
   "execution_count": 3,
   "id": "c0a28927-3f82-416f-aa7c-9273a8f947ef",
   "metadata": {},
   "outputs": [],
   "source": [
    "def recall(y, ypr, p_for=1):\n",
    "    # TP / TP + FN\n",
    "    # imaginary de duplication of multi-class columns into \n",
    "    # individual n binary classifier columns indicated by p_for variable\n",
    "    t = 0\n",
    "    a = 0\n",
    "    for lhs, rhs in zip(ypr, y):\n",
    "        if rhs != p_for:\n",
    "            continue\n",
    "        if lhs == rhs:\n",
    "            t+=1\n",
    "            a+=1\n",
    "        else:\n",
    "            a+=1\n",
    "    if a == 0:\n",
    "        return None\n",
    "    else:\n",
    "        return t / a"
   ]
  },
  {
   "cell_type": "code",
   "execution_count": 12,
   "id": "5f7b9e96-9c52-44ef-9b3c-e16fde9b0008",
   "metadata": {},
   "outputs": [],
   "source": [
    "def f1_score(y, ypr, p_for=1):\n",
    "    pr = precision(y, ypr, p_for)\n",
    "    re = recall(y, ypr, p_for)\n",
    "    if pr is None or re is None or (pr + re) == 0:\n",
    "        return None\n",
    "    else:\n",
    "        return 2 * pr * re / (pr + re)"
   ]
  },
  {
   "cell_type": "code",
   "execution_count": 14,
   "id": "4ce690ba-9076-4ed9-a8c4-24c219b0e1c4",
   "metadata": {},
   "outputs": [],
   "source": [
    "def confusion_matrix(y, ypr):\n",
    "    max = np.max(y)\n",
    "    min = np.min(y)\n",
    "    conf_mat = np.zeros((max-min + 1, max-min + 1))\n",
    "    for lhs, rhs in zip(y, ypr):\n",
    "        conf_mat[lhs - min, rhs - min]+=1\n",
    "    return conf_mat"
   ]
  },
  {
   "cell_type": "code",
   "execution_count": null,
   "id": "73888af7-8a3c-4090-8c4f-c974bfd13732",
   "metadata": {},
   "outputs": [],
   "source": []
  }
 ],
 "metadata": {
  "kernelspec": {
   "display_name": "Python 3 (ipykernel)",
   "language": "python",
   "name": "python3"
  },
  "language_info": {
   "codemirror_mode": {
    "name": "ipython",
    "version": 3
   },
   "file_extension": ".py",
   "mimetype": "text/x-python",
   "name": "python",
   "nbconvert_exporter": "python",
   "pygments_lexer": "ipython3",
   "version": "3.11.5"
  }
 },
 "nbformat": 4,
 "nbformat_minor": 5
}
