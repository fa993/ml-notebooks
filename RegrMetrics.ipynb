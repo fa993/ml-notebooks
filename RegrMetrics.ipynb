{
 "cells": [
  {
   "cell_type": "raw",
   "id": "d0f88ca1-df91-42c5-baa5-bf08fe815e3b",
   "metadata": {},
   "source": [
    "Types of Error Metrics:\n",
    "MAE: Mean Absolute Error: sum(|ypr - y|) / n (not differentiable since abs)\n",
    "MSE: Mean Square Error: sum((ypr-y)^2)/n (more graph-y as distance funcion basically unit change)\n",
    "RMSE: root(MSE) (same unit)\n",
    "RMSLE: log(RMSE) (can see change in order of magnitude)\n",
    "R^2: performance metric, 1 - SSR/SSM,\n",
    "SSR - sum square error of prediction\n",
    "SSM - sum square error of mean\n",
    "R^2 score 1 is best 0 is bad\n",
    "Adjusted R^2 is for multiple variables where one variable may not contribute to output\n",
    "R^2a = 1 - (((n - 1) / (n - k -1)) * ( 1 - R^2))\n",
    "n - no. of obs\n",
    "k - no. of independent vars"
   ]
  },
  {
   "cell_type": "code",
   "execution_count": 6,
   "id": "9e1d46e8-53fb-446f-9f71-59d0a578d0e5",
   "metadata": {},
   "outputs": [],
   "source": [
    "import numpy as np # linear algebra\n",
    "import pandas as pd # data processing, CSV file I/O (e.g. pd.read_csv)\n",
    "from matplotlib import pyplot as plt\n",
    "import seaborn as sns\n",
    "import math"
   ]
  },
  {
   "cell_type": "code",
   "execution_count": 9,
   "id": "13939c00-bc31-400e-bf12-7994ee719e2b",
   "metadata": {},
   "outputs": [],
   "source": [
    "def mae(ypr, y):\n",
    "    return (ypr - y).abs().sum() / ypr.count()"
   ]
  },
  {
   "cell_type": "code",
   "execution_count": 4,
   "id": "3708fe97-2209-4994-96ea-9857b5f189ae",
   "metadata": {},
   "outputs": [],
   "source": [
    "def mse(ypr, y):\n",
    "    op = ypr - y\n",
    "    op = op * op\n",
    "    return op.sum() / ypr.count()"
   ]
  },
  {
   "cell_type": "code",
   "execution_count": 7,
   "id": "7a8ed2c5-d75e-4d18-b381-6a2a0f4ff892",
   "metadata": {},
   "outputs": [],
   "source": [
    "def rmse(ypr, y):\n",
    "    return math.sqrt(mse(ypr, y))"
   ]
  },
  {
   "cell_type": "code",
   "execution_count": 8,
   "id": "fee13702-32c4-4c85-88e8-d8e069b48882",
   "metadata": {},
   "outputs": [],
   "source": [
    "def rmsle(ypr, y):\n",
    "    return math.log(rmse(ypr, y))"
   ]
  },
  {
   "cell_type": "code",
   "execution_count": 10,
   "id": "729a2088-97b0-4e20-b1a0-f6d1317b6ffe",
   "metadata": {},
   "outputs": [],
   "source": [
    "def rsqr(ypr, y, ybar):\n",
    "    return 1 - mse(ypr, y) / mse(y, pd.DataFrame(np.repeat(ybar, y.count()))[0])"
   ]
  }
 ],
 "metadata": {
  "kernelspec": {
   "display_name": "Python 3 (ipykernel)",
   "language": "python",
   "name": "python3"
  },
  "language_info": {
   "codemirror_mode": {
    "name": "ipython",
    "version": 3
   },
   "file_extension": ".py",
   "mimetype": "text/x-python",
   "name": "python",
   "nbconvert_exporter": "python",
   "pygments_lexer": "ipython3",
   "version": "3.11.5"
  }
 },
 "nbformat": 4,
 "nbformat_minor": 5
}
