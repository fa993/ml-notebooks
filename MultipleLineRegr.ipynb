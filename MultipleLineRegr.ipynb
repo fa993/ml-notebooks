{
 "cells": [
  {
   "cell_type": "code",
   "execution_count": 1,
   "id": "92a96d99-4dc4-43f8-a9c0-e4f2db36cc92",
   "metadata": {},
   "outputs": [],
   "source": [
    "import numpy as np # linear algebra\n",
    "import pandas as pd # data processing, CSV file I/O (e.g. pd.read_csv)\n",
    "from matplotlib import pyplot as plt\n",
    "import seaborn as sns"
   ]
  },
  {
   "cell_type": "code",
   "execution_count": 2,
   "id": "1b5cb8d4-564d-42e6-83e2-4f9eea6e765a",
   "metadata": {},
   "outputs": [],
   "source": [
    "smth = pd.read_csv('data/multiple_linear_regression_dataset.csv')"
   ]
  },
  {
   "cell_type": "code",
   "execution_count": 3,
   "id": "42642b6f-d8dc-4580-978f-6bc66b4e0049",
   "metadata": {},
   "outputs": [
    {
     "name": "stdout",
     "output_type": "stream",
     "text": [
      "<class 'pandas.core.frame.DataFrame'>\n",
      "RangeIndex: 20 entries, 0 to 19\n",
      "Data columns (total 3 columns):\n",
      " #   Column      Non-Null Count  Dtype\n",
      "---  ------      --------------  -----\n",
      " 0   age         20 non-null     int64\n",
      " 1   experience  20 non-null     int64\n",
      " 2   income      20 non-null     int64\n",
      "dtypes: int64(3)\n",
      "memory usage: 612.0 bytes\n"
     ]
    }
   ],
   "source": [
    "smth.info()"
   ]
  },
  {
   "cell_type": "code",
   "execution_count": 4,
   "id": "ccb2794c-9c02-46e3-b0a5-23e971e84a66",
   "metadata": {},
   "outputs": [
    {
     "data": {
      "text/html": [
       "<div>\n",
       "<style scoped>\n",
       "    .dataframe tbody tr th:only-of-type {\n",
       "        vertical-align: middle;\n",
       "    }\n",
       "\n",
       "    .dataframe tbody tr th {\n",
       "        vertical-align: top;\n",
       "    }\n",
       "\n",
       "    .dataframe thead th {\n",
       "        text-align: right;\n",
       "    }\n",
       "</style>\n",
       "<table border=\"1\" class=\"dataframe\">\n",
       "  <thead>\n",
       "    <tr style=\"text-align: right;\">\n",
       "      <th></th>\n",
       "      <th>age</th>\n",
       "      <th>experience</th>\n",
       "      <th>income</th>\n",
       "    </tr>\n",
       "  </thead>\n",
       "  <tbody>\n",
       "    <tr>\n",
       "      <th>0</th>\n",
       "      <td>25</td>\n",
       "      <td>1</td>\n",
       "      <td>30450</td>\n",
       "    </tr>\n",
       "    <tr>\n",
       "      <th>1</th>\n",
       "      <td>30</td>\n",
       "      <td>3</td>\n",
       "      <td>35670</td>\n",
       "    </tr>\n",
       "    <tr>\n",
       "      <th>2</th>\n",
       "      <td>47</td>\n",
       "      <td>2</td>\n",
       "      <td>31580</td>\n",
       "    </tr>\n",
       "    <tr>\n",
       "      <th>3</th>\n",
       "      <td>32</td>\n",
       "      <td>5</td>\n",
       "      <td>40130</td>\n",
       "    </tr>\n",
       "    <tr>\n",
       "      <th>4</th>\n",
       "      <td>43</td>\n",
       "      <td>10</td>\n",
       "      <td>47830</td>\n",
       "    </tr>\n",
       "    <tr>\n",
       "      <th>5</th>\n",
       "      <td>51</td>\n",
       "      <td>7</td>\n",
       "      <td>41630</td>\n",
       "    </tr>\n",
       "    <tr>\n",
       "      <th>6</th>\n",
       "      <td>28</td>\n",
       "      <td>5</td>\n",
       "      <td>41340</td>\n",
       "    </tr>\n",
       "    <tr>\n",
       "      <th>7</th>\n",
       "      <td>33</td>\n",
       "      <td>4</td>\n",
       "      <td>37650</td>\n",
       "    </tr>\n",
       "    <tr>\n",
       "      <th>8</th>\n",
       "      <td>37</td>\n",
       "      <td>5</td>\n",
       "      <td>40250</td>\n",
       "    </tr>\n",
       "    <tr>\n",
       "      <th>9</th>\n",
       "      <td>39</td>\n",
       "      <td>8</td>\n",
       "      <td>45150</td>\n",
       "    </tr>\n",
       "    <tr>\n",
       "      <th>10</th>\n",
       "      <td>29</td>\n",
       "      <td>1</td>\n",
       "      <td>27840</td>\n",
       "    </tr>\n",
       "    <tr>\n",
       "      <th>11</th>\n",
       "      <td>47</td>\n",
       "      <td>9</td>\n",
       "      <td>46110</td>\n",
       "    </tr>\n",
       "    <tr>\n",
       "      <th>12</th>\n",
       "      <td>54</td>\n",
       "      <td>5</td>\n",
       "      <td>36720</td>\n",
       "    </tr>\n",
       "    <tr>\n",
       "      <th>13</th>\n",
       "      <td>51</td>\n",
       "      <td>4</td>\n",
       "      <td>34800</td>\n",
       "    </tr>\n",
       "    <tr>\n",
       "      <th>14</th>\n",
       "      <td>44</td>\n",
       "      <td>12</td>\n",
       "      <td>51300</td>\n",
       "    </tr>\n",
       "    <tr>\n",
       "      <th>15</th>\n",
       "      <td>41</td>\n",
       "      <td>6</td>\n",
       "      <td>38900</td>\n",
       "    </tr>\n",
       "    <tr>\n",
       "      <th>16</th>\n",
       "      <td>58</td>\n",
       "      <td>17</td>\n",
       "      <td>63600</td>\n",
       "    </tr>\n",
       "    <tr>\n",
       "      <th>17</th>\n",
       "      <td>23</td>\n",
       "      <td>1</td>\n",
       "      <td>30870</td>\n",
       "    </tr>\n",
       "    <tr>\n",
       "      <th>18</th>\n",
       "      <td>44</td>\n",
       "      <td>9</td>\n",
       "      <td>44190</td>\n",
       "    </tr>\n",
       "    <tr>\n",
       "      <th>19</th>\n",
       "      <td>37</td>\n",
       "      <td>10</td>\n",
       "      <td>48700</td>\n",
       "    </tr>\n",
       "  </tbody>\n",
       "</table>\n",
       "</div>"
      ],
      "text/plain": [
       "    age  experience  income\n",
       "0    25           1   30450\n",
       "1    30           3   35670\n",
       "2    47           2   31580\n",
       "3    32           5   40130\n",
       "4    43          10   47830\n",
       "5    51           7   41630\n",
       "6    28           5   41340\n",
       "7    33           4   37650\n",
       "8    37           5   40250\n",
       "9    39           8   45150\n",
       "10   29           1   27840\n",
       "11   47           9   46110\n",
       "12   54           5   36720\n",
       "13   51           4   34800\n",
       "14   44          12   51300\n",
       "15   41           6   38900\n",
       "16   58          17   63600\n",
       "17   23           1   30870\n",
       "18   44           9   44190\n",
       "19   37          10   48700"
      ]
     },
     "execution_count": 4,
     "metadata": {},
     "output_type": "execute_result"
    }
   ],
   "source": [
    "smth"
   ]
  },
  {
   "cell_type": "code",
   "execution_count": 5,
   "id": "3b285db5-2a3b-4bc0-932f-7f8b0efad637",
   "metadata": {},
   "outputs": [],
   "source": [
    "# Predict income(y) vs age(x1) + experience (x2)\n",
    "# multiple linear is like linear but with more vars\n",
    "# Y = B1x1 + B2x2 + C"
   ]
  },
  {
   "cell_type": "code",
   "execution_count": 6,
   "id": "68949430-56b7-496c-8bdb-d4dbba53092b",
   "metadata": {},
   "outputs": [
    {
     "data": {
      "text/plain": [
       "<matplotlib.collections.PathCollection at 0x12ef8ff90>"
      ]
     },
     "execution_count": 6,
     "metadata": {},
     "output_type": "execute_result"
    },
    {
     "data": {
      "image/png": "[encoded data removed]",
      "text/plain": [
       "<Figure size 640x480 with 1 Axes>"
      ]
     },
     "metadata": {},
     "output_type": "display_data"
    }
   ],
   "source": [
    "plt.scatter(smth['experience'], smth['income'])"
   ]
  },
  {
   "cell_type": "code",
   "execution_count": 7,
   "id": "30eb59e3-849d-4962-b80c-a8e9fc2ecd52",
   "metadata": {},
   "outputs": [
    {
     "data": {
      "text/plain": [
       "<matplotlib.collections.PathCollection at 0x16b036e50>"
      ]
     },
     "execution_count": 7,
     "metadata": {},
     "output_type": "execute_result"
    },
    {
     "data": {
      "image/png": "[encoded data removed]",
      "text/plain": [
       "<Figure size 640x480 with 1 Axes>"
      ]
     },
     "metadata": {},
     "output_type": "display_data"
    }
   ],
   "source": [
    "plt.scatter(smth['age'], smth['income'])"
   ]
  },
  {
   "cell_type": "code",
   "execution_count": 8,
   "id": "46ee71d1-62ff-4f8b-8e69-72a63423a96f",
   "metadata": {},
   "outputs": [],
   "source": [
    "# From eyeball we can see that experience is a dominant variable rather than age\n",
    "# because of the shape of the plot (straight line vs random scatter)"
   ]
  },
  {
   "cell_type": "code",
   "execution_count": 9,
   "id": "2319e111-5679-456b-97dc-7aab29d318c1",
   "metadata": {},
   "outputs": [],
   "source": [
    "smth['y'] = smth['income']\n",
    "smth['x1'] = smth['experience']\n",
    "smth['x2'] = smth['age']"
   ]
  },
  {
   "cell_type": "code",
   "execution_count": 10,
   "id": "b49a2932-1e9a-497b-bc68-2f3d19e93130",
   "metadata": {},
   "outputs": [],
   "source": [
    "smth['x12'] = smth['x1']**2\n",
    "smth['x22'] = smth['x2']**2\n",
    "smth['x1x2'] = smth['x1'] * smth['x2']\n",
    "smth['x1y'] = smth['x1'] * smth['y']\n",
    "smth['x2y'] = smth['x2'] * smth['y']"
   ]
  },
  {
   "cell_type": "code",
   "execution_count": 11,
   "id": "2be34916-294a-4a67-8392-9c01bf63380f",
   "metadata": {},
   "outputs": [],
   "source": [
    "b1 = (smth['x22'].sum() * smth['x1y'].sum() - smth['x1x2'].sum() * smth['x2y'].sum()) / ( smth['x12'].sum() * smth['x22'].sum() - smth['x1x2'].sum() ** 2)\n",
    "b2 = (smth['x12'].sum() * smth['x2y'].sum() - smth['x1x2'].sum() * smth['x1y'].sum()) / ( smth['x12'].sum() * smth['x22'].sum() - smth['x1x2'].sum() ** 2)\n"
   ]
  },
  {
   "cell_type": "code",
   "execution_count": 12,
   "id": "fb994289-e652-4d11-8c35-a97b71401b19",
   "metadata": {},
   "outputs": [
    {
     "data": {
      "text/plain": [
       "(1532.010767507873, 746.1452299780375)"
      ]
     },
     "execution_count": 12,
     "metadata": {},
     "output_type": "execute_result"
    }
   ],
   "source": [
    "b1, b2"
   ]
  },
  {
   "cell_type": "code",
   "execution_count": 13,
   "id": "83d156a5-efde-4842-9127-97e053124716",
   "metadata": {},
   "outputs": [
    {
     "data": {
      "text/plain": [
       "1652.3748728220016"
      ]
     },
     "execution_count": 13,
     "metadata": {},
     "output_type": "execute_result"
    }
   ],
   "source": [
    "c = smth['y'].mean() - b1 * smth['x1'].mean() - b2 * smth['x2'].mean()\n",
    "c"
   ]
  },
  {
   "cell_type": "code",
   "execution_count": 14,
   "id": "2ef5f689-f82c-4574-9411-e0b8f0f74bfc",
   "metadata": {},
   "outputs": [],
   "source": [
    "smth['ypr'] = b1 * smth['x1'] + b2 * smth['x2'] + c"
   ]
  },
  {
   "cell_type": "code",
   "execution_count": 15,
   "id": "d9ec246d-8ec9-4324-95bf-f555f1477bcd",
   "metadata": {},
   "outputs": [
    {
     "data": {
      "text/plain": [
       "<matplotlib.collections.PathCollection at 0x16b16aa10>"
      ]
     },
     "execution_count": 15,
     "metadata": {},
     "output_type": "execute_result"
    },
    {
     "data": {
      "image/png": "[encoded data removed]",
      "text/plain": [
       "<Figure size 640x480 with 1 Axes>"
      ]
     },
     "metadata": {},
     "output_type": "display_data"
    }
   ],
   "source": [
    "plt.scatter(smth['y'], smth['ypr'])"
   ]
  },
  {
   "cell_type": "code",
   "execution_count": 16,
   "id": "58965bf6-0547-4fed-b421-f2fd90327ade",
   "metadata": {},
   "outputs": [],
   "source": [
    "# No idea how to visualise graphically"
   ]
  },
  {
   "cell_type": "code",
   "execution_count": 17,
   "id": "25e52e0f-96b2-434c-a475-62ba878a612a",
   "metadata": {
    "editable": true,
    "slideshow": {
     "slide_type": ""
    },
    "tags": []
   },
   "outputs": [],
   "source": [
    "import io, os, sys, types\n",
    "from IPython import get_ipython\n",
    "from nbformat import read\n",
    "from IPython.core.interactiveshell import InteractiveShell\n",
    "\n",
    "def find_notebook(fullname, path=None):\n",
    "    \"\"\"find a notebook, given its fully qualified name and an optional path\n",
    "\n",
    "    This turns \"foo.bar\" into \"foo/bar.ipynb\"\n",
    "    and tries turning \"Foo_Bar\" into \"Foo Bar\" if Foo_Bar\n",
    "    does not exist.\n",
    "    \"\"\"\n",
    "    name = fullname.rsplit('.', 1)[-1]\n",
    "    if not path:\n",
    "        path = ['']\n",
    "    for d in path:\n",
    "        nb_path = os.path.join(d, name + \".ipynb\")\n",
    "        if os.path.isfile(nb_path):\n",
    "            return nb_path\n",
    "        # let import Notebook_Name find \"Notebook Name.ipynb\"\n",
    "        nb_path = nb_path.replace(\"_\", \" \")\n",
    "        if os.path.isfile(nb_path):\n",
    "            return nb_path\n",
    "\n",
    "class NotebookLoader(object):\n",
    "    \"\"\"Module Loader for Jupyter Notebooks\"\"\"\n",
    "\n",
    "    def __init__(self, path=None):\n",
    "        self.shell = InteractiveShell.instance()\n",
    "        self.path = path\n",
    "\n",
    "    def load_module(self, fullname):\n",
    "        \"\"\"import a notebook as a module\"\"\"\n",
    "        path = find_notebook(fullname, self.path)\n",
    "\n",
    "        print(\"importing Jupyter notebook from %s\" % path)\n",
    "\n",
    "        # load the notebook object\n",
    "        with io.open(path, 'r', encoding='utf-8') as f:\n",
    "            nb = read(f, 4)\n",
    "\n",
    "        # create the module and add it to sys.modules\n",
    "        # if name in sys.modules:\n",
    "        #    return sys.modules[name]\n",
    "        mod = types.ModuleType(fullname)\n",
    "        mod.__file__ = path\n",
    "        mod.__loader__ = self\n",
    "        mod.__dict__['get_ipython'] = get_ipython\n",
    "        sys.modules[fullname] = mod\n",
    "\n",
    "        # extra work to ensure that magics that would affect the user_ns\n",
    "        # actually affect the notebook module's ns\n",
    "        save_user_ns = self.shell.user_ns\n",
    "        self.shell.user_ns = mod.__dict__\n",
    "\n",
    "        try:\n",
    "            for cell in nb.cells:\n",
    "                if cell.cell_type == 'code':\n",
    "                    # transform the input to executable Python\n",
    "                    code = self.shell.input_transformer_manager.transform_cell(cell.source)\n",
    "                    # run the code in themodule\n",
    "                    exec(code, mod.__dict__)\n",
    "        finally:\n",
    "            self.shell.user_ns = save_user_ns\n",
    "        return mod\n",
    "\n",
    "class NotebookFinder(object):\n",
    "    \"\"\"Module finder that locates Jupyter Notebooks\"\"\"\n",
    "\n",
    "    def __init__(self):\n",
    "        self.loaders = {}\n",
    "\n",
    "    def find_module(self, fullname, path=None):\n",
    "        nb_path = find_notebook(fullname, path)\n",
    "        if not nb_path:\n",
    "            return\n",
    "\n",
    "        key = path\n",
    "        if path:\n",
    "            # lists aren't hashable\n",
    "            key = os.path.sep.join(path)\n",
    "\n",
    "        if key not in self.loaders:\n",
    "            self.loaders[key] = NotebookLoader(path)\n",
    "        return self.loaders[key]\n",
    "\n",
    "sys.meta_path.append(NotebookFinder())"
   ]
  },
  {
   "cell_type": "code",
   "execution_count": 18,
   "id": "99719d8d-2de1-4462-b904-321622fd555f",
   "metadata": {},
   "outputs": [
    {
     "name": "stdout",
     "output_type": "stream",
     "text": [
      "importing Jupyter notebook from RegrMetrics.ipynb\n"
     ]
    }
   ],
   "source": [
    "import RegrMetrics"
   ]
  },
  {
   "cell_type": "code",
   "execution_count": 19,
   "id": "d3e93be3-e9e0-4b0f-97dc-d60ab98ef439",
   "metadata": {},
   "outputs": [
    {
     "data": {
      "text/plain": [
       "6210.633128581571"
      ]
     },
     "execution_count": 19,
     "metadata": {},
     "output_type": "execute_result"
    }
   ],
   "source": [
    "RegrMetrics.mae(smth['ypr'], smth['y'])"
   ]
  },
  {
   "cell_type": "code",
   "execution_count": 20,
   "id": "4384f359-31f7-4b0c-b2c5-915f2efba44a",
   "metadata": {},
   "outputs": [
    {
     "data": {
      "text/plain": [
       "50459322.05525205"
      ]
     },
     "execution_count": 20,
     "metadata": {},
     "output_type": "execute_result"
    }
   ],
   "source": [
    "RegrMetrics.mse(smth['ypr'], smth['y'])"
   ]
  },
  {
   "cell_type": "code",
   "execution_count": 21,
   "id": "1ed07f92-1193-47f9-8b94-7effe9c3742b",
   "metadata": {},
   "outputs": [
    {
     "data": {
      "text/plain": [
       "7103.472534982595"
      ]
     },
     "execution_count": 21,
     "metadata": {},
     "output_type": "execute_result"
    }
   ],
   "source": [
    "RegrMetrics.rmse(smth['ypr'], smth['y'])"
   ]
  },
  {
   "cell_type": "code",
   "execution_count": 22,
   "id": "d8d79763-83b9-4897-9cc6-97f6124bcb60",
   "metadata": {},
   "outputs": [
    {
     "data": {
      "text/plain": [
       "8.868339032898321"
      ]
     },
     "execution_count": 22,
     "metadata": {},
     "output_type": "execute_result"
    }
   ],
   "source": [
    "RegrMetrics.rmsle(smth['ypr'], smth['y'])"
   ]
  },
  {
   "cell_type": "code",
   "execution_count": 23,
   "id": "c33b0e5f-b923-46b1-939c-39ff56481db4",
   "metadata": {},
   "outputs": [
    {
     "data": {
      "text/plain": [
       "0.2543178621175516"
      ]
     },
     "execution_count": 23,
     "metadata": {},
     "output_type": "execute_result"
    }
   ],
   "source": [
    "RegrMetrics.rsqr(smth['ypr'], smth['y'], smth['y'].mean())"
   ]
  },
  {
   "cell_type": "code",
   "execution_count": null,
   "id": "9f711485-aa7b-4acf-947c-0dd15943d25b",
   "metadata": {},
   "outputs": [],
   "source": []
  }
 ],
 "metadata": {
  "kernelspec": {
   "display_name": "Python 3 (ipykernel)",
   "language": "python",
   "name": "python3"
  },
  "language_info": {
   "codemirror_mode": {
    "name": "ipython",
    "version": 3
   },
   "file_extension": ".py",
   "mimetype": "text/x-python",
   "name": "python",
   "nbconvert_exporter": "python",
   "pygments_lexer": "ipython3",
   "version": "3.11.5"
  }
 },
 "nbformat": 4,
 "nbformat_minor": 5
}
