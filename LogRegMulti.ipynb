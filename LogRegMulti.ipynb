{
 "cells": [
  {
   "cell_type": "code",
   "execution_count": 1,
   "id": "b1dd6fea-ea7b-4a1b-80fd-e656b6ca7d85",
   "metadata": {},
   "outputs": [],
   "source": [
    "import numpy as np # linear algebra\n",
    "import pandas as pd # data processing, CSV file I/O (e.g. pd.read_csv)\n",
    "from matplotlib import pyplot as plt\n",
    "import seaborn as sns   \n",
    "import math"
   ]
  },
  {
   "cell_type": "code",
   "execution_count": 2,
   "id": "62a77618-b5d0-435e-961f-8cef893de91c",
   "metadata": {
    "editable": true,
    "slideshow": {
     "slide_type": ""
    },
    "tags": []
   },
   "outputs": [],
   "source": [
    "import io, os, sys, types\n",
    "from IPython import get_ipython\n",
    "from nbformat import read\n",
    "from IPython.core.interactiveshell import InteractiveShell\n",
    "\n",
    "def find_notebook(fullname, path=None):\n",
    "    \"\"\"find a notebook, given its fully qualified name and an optional path\n",
    "\n",
    "    This turns \"foo.bar\" into \"foo/bar.ipynb\"\n",
    "    and tries turning \"Foo_Bar\" into \"Foo Bar\" if Foo_Bar\n",
    "    does not exist.\n",
    "    \"\"\"\n",
    "    name = fullname.rsplit('.', 1)[-1]\n",
    "    if not path:\n",
    "        path = ['']\n",
    "    for d in path:\n",
    "        nb_path = os.path.join(d, name + \".ipynb\")\n",
    "        if os.path.isfile(nb_path):\n",
    "            return nb_path\n",
    "        # let import Notebook_Name find \"Notebook Name.ipynb\"\n",
    "        nb_path = nb_path.replace(\"_\", \" \")\n",
    "        if os.path.isfile(nb_path):\n",
    "            return nb_path\n",
    "\n",
    "class NotebookLoader(object):\n",
    "    \"\"\"Module Loader for Jupyter Notebooks\"\"\"\n",
    "\n",
    "    def __init__(self, path=None):\n",
    "        self.shell = InteractiveShell.instance()\n",
    "        self.path = path\n",
    "\n",
    "    def load_module(self, fullname):\n",
    "        \"\"\"import a notebook as a module\"\"\"\n",
    "        path = find_notebook(fullname, self.path)\n",
    "\n",
    "        print(\"importing Jupyter notebook from %s\" % path)\n",
    "\n",
    "        # load the notebook object\n",
    "        with io.open(path, 'r', encoding='utf-8') as f:\n",
    "            nb = read(f, 4)\n",
    "\n",
    "        # create the module and add it to sys.modules\n",
    "        # if name in sys.modules:\n",
    "        #    return sys.modules[name]\n",
    "        mod = types.ModuleType(fullname)\n",
    "        mod.__file__ = path\n",
    "        mod.__loader__ = self\n",
    "        mod.__dict__['get_ipython'] = get_ipython\n",
    "        sys.modules[fullname] = mod\n",
    "\n",
    "        # extra work to ensure that magics that would affect the user_ns\n",
    "        # actually affect the notebook module's ns\n",
    "        save_user_ns = self.shell.user_ns\n",
    "        self.shell.user_ns = mod.__dict__\n",
    "\n",
    "        try:\n",
    "            for cell in nb.cells:\n",
    "                if cell.cell_type == 'code':\n",
    "                    # transform the input to executable Python\n",
    "                    code = self.shell.input_transformer_manager.transform_cell(cell.source)\n",
    "                    # run the code in themodule\n",
    "                    exec(code, mod.__dict__)\n",
    "        finally:\n",
    "            self.shell.user_ns = save_user_ns\n",
    "        return mod\n",
    "\n",
    "class NotebookFinder(object):\n",
    "    \"\"\"Module finder that locates Jupyter Notebooks\"\"\"\n",
    "\n",
    "    def __init__(self):\n",
    "        self.loaders = {}\n",
    "\n",
    "    def find_module(self, fullname, path=None):\n",
    "        nb_path = find_notebook(fullname, path)\n",
    "        if not nb_path:\n",
    "            return\n",
    "\n",
    "        key = path\n",
    "        if path:\n",
    "            # lists aren't hashable\n",
    "            key = os.path.sep.join(path)\n",
    "\n",
    "        if key not in self.loaders:\n",
    "            self.loaders[key] = NotebookLoader(path)\n",
    "        return self.loaders[key]\n",
    "\n",
    "sys.meta_path.append(NotebookFinder())"
   ]
  },
  {
   "cell_type": "code",
   "execution_count": 3,
   "id": "529cf6fa-281b-4399-96b7-6a03a8ed6348",
   "metadata": {},
   "outputs": [
    {
     "name": "stdout",
     "output_type": "stream",
     "text": [
      "importing Jupyter notebook from ClassifiersAndMetrics.ipynb\n"
     ]
    }
   ],
   "source": [
    "import ClassifiersAndMetrics"
   ]
  },
  {
   "cell_type": "code",
   "execution_count": 4,
   "id": "e16d9db4-63f7-481f-b0d0-4d2ace2d3318",
   "metadata": {},
   "outputs": [],
   "source": [
    "infori = pd.read_csv('data/winequality-red.csv')"
   ]
  },
  {
   "cell_type": "code",
   "execution_count": 5,
   "id": "6932742d-93d9-46ba-bbae-771a9a79fed8",
   "metadata": {},
   "outputs": [
    {
     "name": "stdout",
     "output_type": "stream",
     "text": [
      "<class 'pandas.core.frame.DataFrame'>\n",
      "RangeIndex: 1599 entries, 0 to 1598\n",
      "Data columns (total 12 columns):\n",
      " #   Column                Non-Null Count  Dtype  \n",
      "---  ------                --------------  -----  \n",
      " 0   fixed acidity         1599 non-null   float64\n",
      " 1   volatile acidity      1599 non-null   float64\n",
      " 2   citric acid           1599 non-null   float64\n",
      " 3   residual sugar        1599 non-null   float64\n",
      " 4   chlorides             1599 non-null   float64\n",
      " 5   free sulfur dioxide   1599 non-null   float64\n",
      " 6   total sulfur dioxide  1599 non-null   float64\n",
      " 7   density               1599 non-null   float64\n",
      " 8   pH                    1599 non-null   float64\n",
      " 9   sulphates             1599 non-null   float64\n",
      " 10  alcohol               1599 non-null   float64\n",
      " 11  quality               1599 non-null   int64  \n",
      "dtypes: float64(11), int64(1)\n",
      "memory usage: 150.0 KB\n"
     ]
    }
   ],
   "source": [
    "infori.info()"
   ]
  },
  {
   "cell_type": "code",
   "execution_count": 6,
   "id": "fa3b7bd4-9f67-4ed2-8ef0-fb513c57c1a7",
   "metadata": {},
   "outputs": [
    {
     "data": {
      "text/html": [
       "<div>\n",
       "<style scoped>\n",
       "    .dataframe tbody tr th:only-of-type {\n",
       "        vertical-align: middle;\n",
       "    }\n",
       "\n",
       "    .dataframe tbody tr th {\n",
       "        vertical-align: top;\n",
       "    }\n",
       "\n",
       "    .dataframe thead th {\n",
       "        text-align: right;\n",
       "    }\n",
       "</style>\n",
       "<table border=\"1\" class=\"dataframe\">\n",
       "  <thead>\n",
       "    <tr style=\"text-align: right;\">\n",
       "      <th></th>\n",
       "      <th>fixed acidity</th>\n",
       "      <th>volatile acidity</th>\n",
       "      <th>citric acid</th>\n",
       "      <th>residual sugar</th>\n",
       "      <th>chlorides</th>\n",
       "      <th>free sulfur dioxide</th>\n",
       "      <th>total sulfur dioxide</th>\n",
       "      <th>density</th>\n",
       "      <th>pH</th>\n",
       "      <th>sulphates</th>\n",
       "      <th>alcohol</th>\n",
       "      <th>quality</th>\n",
       "    </tr>\n",
       "  </thead>\n",
       "  <tbody>\n",
       "    <tr>\n",
       "      <th>count</th>\n",
       "      <td>1599.000000</td>\n",
       "      <td>1599.000000</td>\n",
       "      <td>1599.000000</td>\n",
       "      <td>1599.000000</td>\n",
       "      <td>1599.000000</td>\n",
       "      <td>1599.000000</td>\n",
       "      <td>1599.000000</td>\n",
       "      <td>1599.000000</td>\n",
       "      <td>1599.000000</td>\n",
       "      <td>1599.000000</td>\n",
       "      <td>1599.000000</td>\n",
       "      <td>1599.000000</td>\n",
       "    </tr>\n",
       "    <tr>\n",
       "      <th>mean</th>\n",
       "      <td>8.319637</td>\n",
       "      <td>0.527821</td>\n",
       "      <td>0.270976</td>\n",
       "      <td>2.538806</td>\n",
       "      <td>0.087467</td>\n",
       "      <td>15.874922</td>\n",
       "      <td>46.467792</td>\n",
       "      <td>0.996747</td>\n",
       "      <td>3.311113</td>\n",
       "      <td>0.658149</td>\n",
       "      <td>10.422983</td>\n",
       "      <td>5.636023</td>\n",
       "    </tr>\n",
       "    <tr>\n",
       "      <th>std</th>\n",
       "      <td>1.741096</td>\n",
       "      <td>0.179060</td>\n",
       "      <td>0.194801</td>\n",
       "      <td>1.409928</td>\n",
       "      <td>0.047065</td>\n",
       "      <td>10.460157</td>\n",
       "      <td>32.895324</td>\n",
       "      <td>0.001887</td>\n",
       "      <td>0.154386</td>\n",
       "      <td>0.169507</td>\n",
       "      <td>1.065668</td>\n",
       "      <td>0.807569</td>\n",
       "    </tr>\n",
       "    <tr>\n",
       "      <th>min</th>\n",
       "      <td>4.600000</td>\n",
       "      <td>0.120000</td>\n",
       "      <td>0.000000</td>\n",
       "      <td>0.900000</td>\n",
       "      <td>0.012000</td>\n",
       "      <td>1.000000</td>\n",
       "      <td>6.000000</td>\n",
       "      <td>0.990070</td>\n",
       "      <td>2.740000</td>\n",
       "      <td>0.330000</td>\n",
       "      <td>8.400000</td>\n",
       "      <td>3.000000</td>\n",
       "    </tr>\n",
       "    <tr>\n",
       "      <th>25%</th>\n",
       "      <td>7.100000</td>\n",
       "      <td>0.390000</td>\n",
       "      <td>0.090000</td>\n",
       "      <td>1.900000</td>\n",
       "      <td>0.070000</td>\n",
       "      <td>7.000000</td>\n",
       "      <td>22.000000</td>\n",
       "      <td>0.995600</td>\n",
       "      <td>3.210000</td>\n",
       "      <td>0.550000</td>\n",
       "      <td>9.500000</td>\n",
       "      <td>5.000000</td>\n",
       "    </tr>\n",
       "    <tr>\n",
       "      <th>50%</th>\n",
       "      <td>7.900000</td>\n",
       "      <td>0.520000</td>\n",
       "      <td>0.260000</td>\n",
       "      <td>2.200000</td>\n",
       "      <td>0.079000</td>\n",
       "      <td>14.000000</td>\n",
       "      <td>38.000000</td>\n",
       "      <td>0.996750</td>\n",
       "      <td>3.310000</td>\n",
       "      <td>0.620000</td>\n",
       "      <td>10.200000</td>\n",
       "      <td>6.000000</td>\n",
       "    </tr>\n",
       "    <tr>\n",
       "      <th>75%</th>\n",
       "      <td>9.200000</td>\n",
       "      <td>0.640000</td>\n",
       "      <td>0.420000</td>\n",
       "      <td>2.600000</td>\n",
       "      <td>0.090000</td>\n",
       "      <td>21.000000</td>\n",
       "      <td>62.000000</td>\n",
       "      <td>0.997835</td>\n",
       "      <td>3.400000</td>\n",
       "      <td>0.730000</td>\n",
       "      <td>11.100000</td>\n",
       "      <td>6.000000</td>\n",
       "    </tr>\n",
       "    <tr>\n",
       "      <th>max</th>\n",
       "      <td>15.900000</td>\n",
       "      <td>1.580000</td>\n",
       "      <td>1.000000</td>\n",
       "      <td>15.500000</td>\n",
       "      <td>0.611000</td>\n",
       "      <td>72.000000</td>\n",
       "      <td>289.000000</td>\n",
       "      <td>1.003690</td>\n",
       "      <td>4.010000</td>\n",
       "      <td>2.000000</td>\n",
       "      <td>14.900000</td>\n",
       "      <td>8.000000</td>\n",
       "    </tr>\n",
       "  </tbody>\n",
       "</table>\n",
       "</div>"
      ],
      "text/plain": [
       "       fixed acidity  volatile acidity  citric acid  residual sugar  \\\n",
       "count    1599.000000       1599.000000  1599.000000     1599.000000   \n",
       "mean        8.319637          0.527821     0.270976        2.538806   \n",
       "std         1.741096          0.179060     0.194801        1.409928   \n",
       "min         4.600000          0.120000     0.000000        0.900000   \n",
       "25%         7.100000          0.390000     0.090000        1.900000   \n",
       "50%         7.900000          0.520000     0.260000        2.200000   \n",
       "75%         9.200000          0.640000     0.420000        2.600000   \n",
       "max        15.900000          1.580000     1.000000       15.500000   \n",
       "\n",
       "         chlorides  free sulfur dioxide  total sulfur dioxide      density  \\\n",
       "count  1599.000000          1599.000000           1599.000000  1599.000000   \n",
       "mean      0.087467            15.874922             46.467792     0.996747   \n",
       "std       0.047065            10.460157             32.895324     0.001887   \n",
       "min       0.012000             1.000000              6.000000     0.990070   \n",
       "25%       0.070000             7.000000             22.000000     0.995600   \n",
       "50%       0.079000            14.000000             38.000000     0.996750   \n",
       "75%       0.090000            21.000000             62.000000     0.997835   \n",
       "max       0.611000            72.000000            289.000000     1.003690   \n",
       "\n",
       "                pH    sulphates      alcohol      quality  \n",
       "count  1599.000000  1599.000000  1599.000000  1599.000000  \n",
       "mean      3.311113     0.658149    10.422983     5.636023  \n",
       "std       0.154386     0.169507     1.065668     0.807569  \n",
       "min       2.740000     0.330000     8.400000     3.000000  \n",
       "25%       3.210000     0.550000     9.500000     5.000000  \n",
       "50%       3.310000     0.620000    10.200000     6.000000  \n",
       "75%       3.400000     0.730000    11.100000     6.000000  \n",
       "max       4.010000     2.000000    14.900000     8.000000  "
      ]
     },
     "execution_count": 6,
     "metadata": {},
     "output_type": "execute_result"
    }
   ],
   "source": [
    "infori.describe()"
   ]
  },
  {
   "cell_type": "code",
   "execution_count": 7,
   "id": "01fb3f39-e3df-4c22-b6ab-d210019f42e9",
   "metadata": {},
   "outputs": [],
   "source": [
    "# interpret each of value of the qualities as a class\n",
    "# and factor each of the feature as independent"
   ]
  },
  {
   "cell_type": "code",
   "execution_count": 8,
   "id": "05006b53-0d6d-4b33-9ae5-a2a51302d358",
   "metadata": {},
   "outputs": [
    {
     "data": {
      "text/plain": [
       "(array([ 10.,   0.,  53.,   0., 681.,   0., 638.,   0., 199.,  18.]),\n",
       " array([3. , 3.5, 4. , 4.5, 5. , 5.5, 6. , 6.5, 7. , 7.5, 8. ]),\n",
       " <BarContainer object of 10 artists>)"
      ]
     },
     "execution_count": 8,
     "metadata": {},
     "output_type": "execute_result"
    },
    {
     "data": {
      "image/png": "[encoded data removed]",
      "text/plain": [
       "<Figure size 640x480 with 1 Axes>"
      ]
     },
     "metadata": {},
     "output_type": "display_data"
    }
   ],
   "source": [
    "plt.hist(infori['quality'])"
   ]
  },
  {
   "cell_type": "code",
   "execution_count": 9,
   "id": "57d5d06a-a3ff-4621-a89d-bcadcf29c8e3",
   "metadata": {},
   "outputs": [],
   "source": [
    "from sklearn.model_selection import train_test_split\n",
    "\n",
    "inf, X_test, y_train, y_test = train_test_split(infori, infori['quality'], test_size=0.25, random_state=0)"
   ]
  },
  {
   "cell_type": "code",
   "execution_count": 10,
   "id": "9243d6bf-9332-470a-b9f2-631e86c8e3b5",
   "metadata": {},
   "outputs": [],
   "source": [
    "# Create artificial column for quality\n",
    "inf['q_3'] = inf['quality'] == 3\n",
    "inf['q_4'] = inf['quality'] == 4\n",
    "inf['q_5'] = inf['quality'] == 5\n",
    "inf['q_6'] = inf['quality'] == 6\n",
    "inf['q_7'] = inf['quality'] == 7\n",
    "inf['q_8'] = inf['quality'] == 8"
   ]
  },
  {
   "cell_type": "code",
   "execution_count": 11,
   "id": "4015fb9f-7c9c-4e9f-ba74-161d365a4f55",
   "metadata": {},
   "outputs": [
    {
     "data": {
      "text/plain": [
       "0"
      ]
     },
     "execution_count": 11,
     "metadata": {},
     "output_type": "execute_result"
    }
   ],
   "source": [
    "(inf['quality'] > 8).sum() + (inf['quality'] < 3).sum()"
   ]
  },
  {
   "cell_type": "code",
   "execution_count": 12,
   "id": "a30fad4f-00c0-4d7c-a24f-9cfd4ef68da8",
   "metadata": {},
   "outputs": [],
   "source": [
    "# perform previous example on this column basically"
   ]
  },
  {
   "cell_type": "code",
   "execution_count": 13,
   "id": "2dc86f4c-c919-4bd1-a979-ca1066e1e46b",
   "metadata": {},
   "outputs": [],
   "source": [
    "allY = inf[['q_3', 'q_4', 'q_5', 'q_6', 'q_7', 'q_8']]"
   ]
  },
  {
   "cell_type": "code",
   "execution_count": 14,
   "id": "d1015ab0-ea8a-47e9-94fd-27a2bf498ed1",
   "metadata": {},
   "outputs": [],
   "source": [
    "# eqn changes a little bit to\n",
    "# p(x) = 1/(1 + e^-(b0 + b1x1 + b2x2 ... bnxn)\n",
    "# also we will need standardize all the x0...xns\n",
    "\n",
    "def get_lin_eqn(params, xs):\n",
    "    return np.dot(params, np.concatenate(([1], xs)))\n",
    "\n",
    "def get_p(params, xs):\n",
    "    return 1/(1 + math.e**-(np.sum(get_lin_eqn(params, xs))))\n",
    "\n",
    "def get_all_p(params, ds):\n",
    "    return ds.apply(lambda x: get_p(params, np.array(x)[:11]), axis=1)\n",
    "\n",
    "def errfuncBN(ypr, y, x=1):\n",
    "    return ((ypr - y) * x).mean()\n",
    "\n",
    "def get_fit(params, ds):\n",
    "    return (Y * get_all_p(params, ds).apply(lambda x: math.log(x)) + Y.apply(lambda x: 1 - x) * get_all_p(params, ds).apply(lambda x: math.log(1 - x))).sum()\n",
    "\n",
    "def get_cost(params, ds):\n",
    "    return - get_fit(params, ds) / Y.count()"
   ]
  },
  {
   "cell_type": "code",
   "execution_count": 15,
   "id": "15b072a1-84c7-42b0-a7cb-60b324d784d0",
   "metadata": {},
   "outputs": [
    {
     "data": {
      "text/plain": [
       "140      8.4\n",
       "1232     7.6\n",
       "720      8.4\n",
       "77       6.8\n",
       "39       7.3\n",
       "        ... \n",
       "763      9.3\n",
       "835      7.6\n",
       "1216     7.9\n",
       "559     13.0\n",
       "684      9.8\n",
       "Name: fixed acidity, Length: 1199, dtype: float64"
      ]
     },
     "execution_count": 15,
     "metadata": {},
     "output_type": "execute_result"
    }
   ],
   "source": [
    "inf[inf.columns[0]]"
   ]
  },
  {
   "cell_type": "code",
   "execution_count": 16,
   "id": "dd5de5a4-e383-470b-92db-74820ec58388",
   "metadata": {},
   "outputs": [
    {
     "data": {
      "image/png": "[encoded data removed]",
      "text/plain": [
       "<Figure size 640x480 with 1 Axes>"
      ]
     },
     "metadata": {},
     "output_type": "display_data"
    },
    {
     "data": {
      "image/png": "[encoded data removed]",
      "text/plain": [
       "<Figure size 640x480 with 1 Axes>"
      ]
     },
     "metadata": {},
     "output_type": "display_data"
    },
    {
     "data": {
      "image/png": "[encoded data removed]",
      "text/plain": [
       "<Figure size 640x480 with 1 Axes>"
      ]
     },
     "metadata": {},
     "output_type": "display_data"
    },
    {
     "data": {
      "image/png": "[encoded data removed]",
      "text/plain": [
       "<Figure size 640x480 with 1 Axes>"
      ]
     },
     "metadata": {},
     "output_type": "display_data"
    },
    {
     "data": {
      "image/png": "[encoded data removed]",
      "text/plain": [
       "<Figure size 640x480 with 1 Axes>"
      ]
     },
     "metadata": {},
     "output_type": "display_data"
    },
    {
     "data": {
      "image/png": "[encoded data removed]",
      "text/plain": [
       "<Figure size 640x480 with 1 Axes>"
      ]
     },
     "metadata": {},
     "output_type": "display_data"
    }
   ],
   "source": [
    "for i in range(0, 11):\n",
    "    t3 = inf.columns[i]\n",
    "    inf[t3] = (inf[t3] - inf[t3].mean()) / inf[t3].std()\n",
    "\n",
    "params_all = []\n",
    "alphas_all = [0.8, 0.3, 0.3, 0.5, 0.9, 0.9]\n",
    "i0 = 0\n",
    "for t2 in allY.columns:\n",
    "    Y = allY[t2]\n",
    "    params = np.zeros(11 + 1)\n",
    "    alpha = alphas_all[i0]\n",
    "    costs = []\n",
    "    fig, ax = plt.subplots()\n",
    "    for i in range(200):\n",
    "        #generate ypr\n",
    "        ypr = get_all_p(params, inf)\n",
    "        for idx, x in np.ndenumerate(params):\n",
    "            if idx == 0:\n",
    "                params[0] = x - alpha * errfuncBN(ypr, Y)\n",
    "            else:\n",
    "                params[idx] = x - alpha * errfuncBN(ypr, Y, inf[inf.columns[idx[0] - 1]])\n",
    "        rm = get_cost(params, inf)\n",
    "        costs.append(rm)\n",
    "    inf['p_' + t2] = get_all_p(params, inf)\n",
    "    params_all.append(params)\n",
    "    ax.plot(costs)\n",
    "    i0 += 1"
   ]
  },
  {
   "cell_type": "code",
   "execution_count": 17,
   "id": "02296690-3088-4945-9388-317d1d75b4c5",
   "metadata": {},
   "outputs": [],
   "source": [
    "# descent looks good\n",
    "# Now do this for every class and assign a class number \n",
    "# according to probability"
   ]
  },
  {
   "cell_type": "code",
   "execution_count": 18,
   "id": "90803bf6-773c-4828-bf05-b031ebe5e04f",
   "metadata": {},
   "outputs": [
    {
     "data": {
      "text/html": [
       "<div>\n",
       "<style scoped>\n",
       "    .dataframe tbody tr th:only-of-type {\n",
       "        vertical-align: middle;\n",
       "    }\n",
       "\n",
       "    .dataframe tbody tr th {\n",
       "        vertical-align: top;\n",
       "    }\n",
       "\n",
       "    .dataframe thead th {\n",
       "        text-align: right;\n",
       "    }\n",
       "</style>\n",
       "<table border=\"1\" class=\"dataframe\">\n",
       "  <thead>\n",
       "    <tr style=\"text-align: right;\">\n",
       "      <th></th>\n",
       "      <th>fixed acidity</th>\n",
       "      <th>volatile acidity</th>\n",
       "      <th>citric acid</th>\n",
       "      <th>residual sugar</th>\n",
       "      <th>chlorides</th>\n",
       "      <th>free sulfur dioxide</th>\n",
       "      <th>total sulfur dioxide</th>\n",
       "      <th>density</th>\n",
       "      <th>pH</th>\n",
       "      <th>sulphates</th>\n",
       "      <th>...</th>\n",
       "      <th>q_5</th>\n",
       "      <th>q_6</th>\n",
       "      <th>q_7</th>\n",
       "      <th>q_8</th>\n",
       "      <th>p_q_3</th>\n",
       "      <th>p_q_4</th>\n",
       "      <th>p_q_5</th>\n",
       "      <th>p_q_6</th>\n",
       "      <th>p_q_7</th>\n",
       "      <th>p_q_8</th>\n",
       "    </tr>\n",
       "  </thead>\n",
       "  <tbody>\n",
       "    <tr>\n",
       "      <th>140</th>\n",
       "      <td>0.035686</td>\n",
       "      <td>1.169651</td>\n",
       "      <td>-0.827626</td>\n",
       "      <td>-0.445166</td>\n",
       "      <td>0.057612</td>\n",
       "      <td>-0.012491</td>\n",
       "      <td>0.459672</td>\n",
       "      <td>-0.136860</td>\n",
       "      <td>-0.770363</td>\n",
       "      <td>0.911572</td>\n",
       "      <td>...</td>\n",
       "      <td>True</td>\n",
       "      <td>False</td>\n",
       "      <td>False</td>\n",
       "      <td>False</td>\n",
       "      <td>0.343831</td>\n",
       "      <td>0.083425</td>\n",
       "      <td>0.615475</td>\n",
       "      <td>0.303095</td>\n",
       "      <td>0.021834</td>\n",
       "      <td>0.042915</td>\n",
       "    </tr>\n",
       "    <tr>\n",
       "      <th>1232</th>\n",
       "      <td>-0.425017</td>\n",
       "      <td>-0.547120</td>\n",
       "      <td>0.097474</td>\n",
       "      <td>-0.309833</td>\n",
       "      <td>-0.254013</td>\n",
       "      <td>0.270093</td>\n",
       "      <td>0.547912</td>\n",
       "      <td>0.224689</td>\n",
       "      <td>0.590541</td>\n",
       "      <td>-0.106043</td>\n",
       "      <td>...</td>\n",
       "      <td>True</td>\n",
       "      <td>False</td>\n",
       "      <td>False</td>\n",
       "      <td>False</td>\n",
       "      <td>0.320450</td>\n",
       "      <td>0.057452</td>\n",
       "      <td>0.686224</td>\n",
       "      <td>0.311974</td>\n",
       "      <td>0.036817</td>\n",
       "      <td>0.037945</td>\n",
       "    </tr>\n",
       "    <tr>\n",
       "      <th>720</th>\n",
       "      <td>0.035686</td>\n",
       "      <td>0.161388</td>\n",
       "      <td>-1.187388</td>\n",
       "      <td>-0.377500</td>\n",
       "      <td>-0.108588</td>\n",
       "      <td>-0.577660</td>\n",
       "      <td>-0.746275</td>\n",
       "      <td>0.447998</td>\n",
       "      <td>-0.575948</td>\n",
       "      <td>-1.236726</td>\n",
       "      <td>...</td>\n",
       "      <td>True</td>\n",
       "      <td>False</td>\n",
       "      <td>False</td>\n",
       "      <td>False</td>\n",
       "      <td>0.329325</td>\n",
       "      <td>0.070979</td>\n",
       "      <td>0.654808</td>\n",
       "      <td>0.447000</td>\n",
       "      <td>0.016205</td>\n",
       "      <td>0.035619</td>\n",
       "    </tr>\n",
       "    <tr>\n",
       "      <th>77</th>\n",
       "      <td>-0.885720</td>\n",
       "      <td>1.387654</td>\n",
       "      <td>-1.392965</td>\n",
       "      <td>-0.106833</td>\n",
       "      <td>0.348462</td>\n",
       "      <td>-0.200881</td>\n",
       "      <td>-0.510968</td>\n",
       "      <td>-0.083691</td>\n",
       "      <td>1.368200</td>\n",
       "      <td>-0.614850</td>\n",
       "      <td>...</td>\n",
       "      <td>False</td>\n",
       "      <td>True</td>\n",
       "      <td>False</td>\n",
       "      <td>False</td>\n",
       "      <td>0.360740</td>\n",
       "      <td>0.127956</td>\n",
       "      <td>0.503357</td>\n",
       "      <td>0.390306</td>\n",
       "      <td>0.021384</td>\n",
       "      <td>0.039804</td>\n",
       "    </tr>\n",
       "    <tr>\n",
       "      <th>39</th>\n",
       "      <td>-0.597781</td>\n",
       "      <td>-0.438119</td>\n",
       "      <td>0.457235</td>\n",
       "      <td>2.261498</td>\n",
       "      <td>-0.274788</td>\n",
       "      <td>-0.389271</td>\n",
       "      <td>1.165593</td>\n",
       "      <td>0.554336</td>\n",
       "      <td>0.136907</td>\n",
       "      <td>0.968106</td>\n",
       "      <td>...</td>\n",
       "      <td>True</td>\n",
       "      <td>False</td>\n",
       "      <td>False</td>\n",
       "      <td>False</td>\n",
       "      <td>0.316379</td>\n",
       "      <td>0.053376</td>\n",
       "      <td>0.458904</td>\n",
       "      <td>0.280599</td>\n",
       "      <td>0.135286</td>\n",
       "      <td>0.051788</td>\n",
       "    </tr>\n",
       "    <tr>\n",
       "      <th>...</th>\n",
       "      <td>...</td>\n",
       "      <td>...</td>\n",
       "      <td>...</td>\n",
       "      <td>...</td>\n",
       "      <td>...</td>\n",
       "      <td>...</td>\n",
       "      <td>...</td>\n",
       "      <td>...</td>\n",
       "      <td>...</td>\n",
       "      <td>...</td>\n",
       "      <td>...</td>\n",
       "      <td>...</td>\n",
       "      <td>...</td>\n",
       "      <td>...</td>\n",
       "      <td>...</td>\n",
       "      <td>...</td>\n",
       "      <td>...</td>\n",
       "      <td>...</td>\n",
       "      <td>...</td>\n",
       "      <td>...</td>\n",
       "      <td>...</td>\n",
       "    </tr>\n",
       "    <tr>\n",
       "      <th>763</th>\n",
       "      <td>0.553977</td>\n",
       "      <td>0.679145</td>\n",
       "      <td>-0.056710</td>\n",
       "      <td>-0.377500</td>\n",
       "      <td>0.182262</td>\n",
       "      <td>-1.048634</td>\n",
       "      <td>-0.363901</td>\n",
       "      <td>0.331027</td>\n",
       "      <td>-0.381533</td>\n",
       "      <td>-1.349794</td>\n",
       "      <td>...</td>\n",
       "      <td>True</td>\n",
       "      <td>False</td>\n",
       "      <td>False</td>\n",
       "      <td>False</td>\n",
       "      <td>0.347539</td>\n",
       "      <td>0.093917</td>\n",
       "      <td>0.754518</td>\n",
       "      <td>0.249249</td>\n",
       "      <td>0.013487</td>\n",
       "      <td>0.035870</td>\n",
       "    </tr>\n",
       "    <tr>\n",
       "      <th>835</th>\n",
       "      <td>-0.425017</td>\n",
       "      <td>0.733646</td>\n",
       "      <td>-0.879021</td>\n",
       "      <td>-0.715833</td>\n",
       "      <td>-0.440988</td>\n",
       "      <td>1.023652</td>\n",
       "      <td>0.224366</td>\n",
       "      <td>-0.110276</td>\n",
       "      <td>0.525736</td>\n",
       "      <td>-0.840987</td>\n",
       "      <td>...</td>\n",
       "      <td>True</td>\n",
       "      <td>False</td>\n",
       "      <td>False</td>\n",
       "      <td>False</td>\n",
       "      <td>0.343207</td>\n",
       "      <td>0.088090</td>\n",
       "      <td>0.753082</td>\n",
       "      <td>0.311122</td>\n",
       "      <td>0.011439</td>\n",
       "      <td>0.033834</td>\n",
       "    </tr>\n",
       "    <tr>\n",
       "      <th>1216</th>\n",
       "      <td>-0.252253</td>\n",
       "      <td>0.215889</td>\n",
       "      <td>0.200263</td>\n",
       "      <td>-0.377500</td>\n",
       "      <td>-0.170913</td>\n",
       "      <td>-0.577660</td>\n",
       "      <td>0.930286</td>\n",
       "      <td>0.006696</td>\n",
       "      <td>-0.122313</td>\n",
       "      <td>0.176628</td>\n",
       "      <td>...</td>\n",
       "      <td>False</td>\n",
       "      <td>True</td>\n",
       "      <td>False</td>\n",
       "      <td>False</td>\n",
       "      <td>0.327377</td>\n",
       "      <td>0.065402</td>\n",
       "      <td>0.770770</td>\n",
       "      <td>0.209931</td>\n",
       "      <td>0.022421</td>\n",
       "      <td>0.041005</td>\n",
       "    </tr>\n",
       "    <tr>\n",
       "      <th>559</th>\n",
       "      <td>2.684730</td>\n",
       "      <td>-0.329118</td>\n",
       "      <td>1.125363</td>\n",
       "      <td>1.178833</td>\n",
       "      <td>-0.046263</td>\n",
       "      <td>-0.954440</td>\n",
       "      <td>-0.010941</td>\n",
       "      <td>2.840602</td>\n",
       "      <td>-0.057508</td>\n",
       "      <td>0.120094</td>\n",
       "      <td>...</td>\n",
       "      <td>False</td>\n",
       "      <td>True</td>\n",
       "      <td>False</td>\n",
       "      <td>False</td>\n",
       "      <td>0.329014</td>\n",
       "      <td>0.056829</td>\n",
       "      <td>0.108713</td>\n",
       "      <td>0.558666</td>\n",
       "      <td>0.392302</td>\n",
       "      <td>0.056278</td>\n",
       "    </tr>\n",
       "    <tr>\n",
       "      <th>684</th>\n",
       "      <td>0.841917</td>\n",
       "      <td>2.450417</td>\n",
       "      <td>0.251657</td>\n",
       "      <td>-0.174500</td>\n",
       "      <td>-0.191688</td>\n",
       "      <td>1.777211</td>\n",
       "      <td>3.077460</td>\n",
       "      <td>0.660674</td>\n",
       "      <td>-0.381533</td>\n",
       "      <td>-1.010589</td>\n",
       "      <td>...</td>\n",
       "      <td>True</td>\n",
       "      <td>False</td>\n",
       "      <td>False</td>\n",
       "      <td>False</td>\n",
       "      <td>0.359826</td>\n",
       "      <td>0.104249</td>\n",
       "      <td>0.956976</td>\n",
       "      <td>0.074051</td>\n",
       "      <td>0.001860</td>\n",
       "      <td>0.029763</td>\n",
       "    </tr>\n",
       "  </tbody>\n",
       "</table>\n",
       "<p>1199 rows × 24 columns</p>\n",
       "</div>"
      ],
      "text/plain": [
       "      fixed acidity  volatile acidity  citric acid  residual sugar  chlorides  \\\n",
       "140        0.035686          1.169651    -0.827626       -0.445166   0.057612   \n",
       "1232      -0.425017         -0.547120     0.097474       -0.309833  -0.254013   \n",
       "720        0.035686          0.161388    -1.187388       -0.377500  -0.108588   \n",
       "77        -0.885720          1.387654    -1.392965       -0.106833   0.348462   \n",
       "39        -0.597781         -0.438119     0.457235        2.261498  -0.274788   \n",
       "...             ...               ...          ...             ...        ...   \n",
       "763        0.553977          0.679145    -0.056710       -0.377500   0.182262   \n",
       "835       -0.425017          0.733646    -0.879021       -0.715833  -0.440988   \n",
       "1216      -0.252253          0.215889     0.200263       -0.377500  -0.170913   \n",
       "559        2.684730         -0.329118     1.125363        1.178833  -0.046263   \n",
       "684        0.841917          2.450417     0.251657       -0.174500  -0.191688   \n",
       "\n",
       "      free sulfur dioxide  total sulfur dioxide   density        pH  \\\n",
       "140             -0.012491              0.459672 -0.136860 -0.770363   \n",
       "1232             0.270093              0.547912  0.224689  0.590541   \n",
       "720             -0.577660             -0.746275  0.447998 -0.575948   \n",
       "77              -0.200881             -0.510968 -0.083691  1.368200   \n",
       "39              -0.389271              1.165593  0.554336  0.136907   \n",
       "...                   ...                   ...       ...       ...   \n",
       "763             -1.048634             -0.363901  0.331027 -0.381533   \n",
       "835              1.023652              0.224366 -0.110276  0.525736   \n",
       "1216            -0.577660              0.930286  0.006696 -0.122313   \n",
       "559             -0.954440             -0.010941  2.840602 -0.057508   \n",
       "684              1.777211              3.077460  0.660674 -0.381533   \n",
       "\n",
       "      sulphates  ...    q_5    q_6    q_7    q_8     p_q_3     p_q_4  \\\n",
       "140    0.911572  ...   True  False  False  False  0.343831  0.083425   \n",
       "1232  -0.106043  ...   True  False  False  False  0.320450  0.057452   \n",
       "720   -1.236726  ...   True  False  False  False  0.329325  0.070979   \n",
       "77    -0.614850  ...  False   True  False  False  0.360740  0.127956   \n",
       "39     0.968106  ...   True  False  False  False  0.316379  0.053376   \n",
       "...         ...  ...    ...    ...    ...    ...       ...       ...   \n",
       "763   -1.349794  ...   True  False  False  False  0.347539  0.093917   \n",
       "835   -0.840987  ...   True  False  False  False  0.343207  0.088090   \n",
       "1216   0.176628  ...  False   True  False  False  0.327377  0.065402   \n",
       "559    0.120094  ...  False   True  False  False  0.329014  0.056829   \n",
       "684   -1.010589  ...   True  False  False  False  0.359826  0.104249   \n",
       "\n",
       "         p_q_5     p_q_6     p_q_7     p_q_8  \n",
       "140   0.615475  0.303095  0.021834  0.042915  \n",
       "1232  0.686224  0.311974  0.036817  0.037945  \n",
       "720   0.654808  0.447000  0.016205  0.035619  \n",
       "77    0.503357  0.390306  0.021384  0.039804  \n",
       "39    0.458904  0.280599  0.135286  0.051788  \n",
       "...        ...       ...       ...       ...  \n",
       "763   0.754518  0.249249  0.013487  0.035870  \n",
       "835   0.753082  0.311122  0.011439  0.033834  \n",
       "1216  0.770770  0.209931  0.022421  0.041005  \n",
       "559   0.108713  0.558666  0.392302  0.056278  \n",
       "684   0.956976  0.074051  0.001860  0.029763  \n",
       "\n",
       "[1199 rows x 24 columns]"
      ]
     },
     "execution_count": 18,
     "metadata": {},
     "output_type": "execute_result"
    }
   ],
   "source": [
    "inf"
   ]
  },
  {
   "cell_type": "code",
   "execution_count": 19,
   "id": "7add86db-733c-4a3b-bfb7-6eaf161a040a",
   "metadata": {},
   "outputs": [],
   "source": [
    "def sortacctoprob(x):\n",
    "    nm = x[['p_q_3', 'p_q_4', 'p_q_5', 'p_q_6', 'p_q_7', 'p_q_8']].idxmax()\n",
    "    return int(nm[4])"
   ]
  },
  {
   "cell_type": "code",
   "execution_count": 20,
   "id": "54eb130f-3d97-4b09-9394-7bc6ed6f5c74",
   "metadata": {},
   "outputs": [],
   "source": [
    "ypred = inf.apply(sortacctoprob, axis=1)"
   ]
  },
  {
   "cell_type": "code",
   "execution_count": 21,
   "id": "9aa4d860-8304-453b-b9d3-ddbe73da0ebd",
   "metadata": {},
   "outputs": [
    {
     "data": {
      "text/plain": [
       "count    1199.000000\n",
       "mean        5.478732\n",
       "std         0.651957\n",
       "min         3.000000\n",
       "25%         5.000000\n",
       "50%         5.000000\n",
       "75%         6.000000\n",
       "max         7.000000\n",
       "dtype: float64"
      ]
     },
     "execution_count": 21,
     "metadata": {},
     "output_type": "execute_result"
    }
   ],
   "source": [
    "ypred.describe()"
   ]
  },
  {
   "cell_type": "code",
   "execution_count": 22,
   "id": "d562caff-3b0a-4720-bdb9-2de6c0bcb685",
   "metadata": {},
   "outputs": [
    {
     "data": {
      "text/plain": [
       "140     5\n",
       "1232    5\n",
       "720     5\n",
       "77      6\n",
       "39      5\n",
       "       ..\n",
       "763     5\n",
       "835     5\n",
       "1216    6\n",
       "559     6\n",
       "684     5\n",
       "Name: quality, Length: 1199, dtype: int64"
      ]
     },
     "execution_count": 22,
     "metadata": {},
     "output_type": "execute_result"
    }
   ],
   "source": [
    "inf['quality']"
   ]
  },
  {
   "cell_type": "code",
   "execution_count": 23,
   "id": "7f8a0e1f-245f-44a0-916f-396f571fcc13",
   "metadata": {},
   "outputs": [
    {
     "data": {
      "text/plain": [
       "0.5871559633027523"
      ]
     },
     "execution_count": 23,
     "metadata": {},
     "output_type": "execute_result"
    }
   ],
   "source": [
    "from sklearn.metrics import accuracy_score\n",
    "from sklearn.metrics import precision_score\n",
    "from sklearn.metrics import recall_score\n",
    "from sklearn.metrics import roc_auc_score\n",
    "from sklearn.metrics import confusion_matrix\n",
    "from sklearn.metrics import classification_report\n",
    "from sklearn.metrics import f1_score\n",
    "accuracy_score(inf['quality'], ypred)"
   ]
  },
  {
   "cell_type": "code",
   "execution_count": 24,
   "id": "2d0277f2-4102-4088-9a75-375378a21b02",
   "metadata": {},
   "outputs": [],
   "source": [
    "# 50% is poor, maybe if we normalized x axis values?\n",
    "# After normalization we have 55% little better\n",
    "# Test model with X_test, and y_test\n",
    "# Use params to calculate P for all category"
   ]
  },
  {
   "cell_type": "code",
   "execution_count": 25,
   "id": "21fadc3c-c4f4-44db-8067-2c9ea0746aaa",
   "metadata": {},
   "outputs": [],
   "source": [
    "out = pd.DataFrame()\n",
    "out['quality'] = y_test\n",
    "i = 3\n",
    "for params in params_all:\n",
    "    ypr = get_all_p(params, X_test)\n",
    "    out['p_q_' + str(i)] = ypr\n",
    "    i +=1"
   ]
  },
  {
   "cell_type": "code",
   "execution_count": 26,
   "id": "7bd4e0aa-3f40-4672-a3be-fd4549163e73",
   "metadata": {},
   "outputs": [],
   "source": [
    "ypred2 = out.apply(sortacctoprob, axis=1)"
   ]
  },
  {
   "cell_type": "code",
   "execution_count": 27,
   "id": "8beb56ae-dc62-457f-bb4b-4aa9fe205b40",
   "metadata": {},
   "outputs": [
    {
     "data": {
      "text/plain": [
       "0.37"
      ]
     },
     "execution_count": 27,
     "metadata": {},
     "output_type": "execute_result"
    }
   ],
   "source": [
    "accuracy_score(y_test, ypred2)"
   ]
  },
  {
   "cell_type": "code",
   "execution_count": 28,
   "id": "0b0f531b-fd43-452e-90b5-9c4df162b019",
   "metadata": {},
   "outputs": [
    {
     "data": {
      "text/plain": [
       "Index(['fixed acidity', 'volatile acidity', 'citric acid', 'residual sugar',\n",
       "       'chlorides', 'free sulfur dioxide', 'total sulfur dioxide', 'density',\n",
       "       'pH', 'sulphates', 'alcohol', 'quality', 'q_3', 'q_4', 'q_5', 'q_6',\n",
       "       'q_7', 'q_8', 'p_q_3', 'p_q_4', 'p_q_5', 'p_q_6', 'p_q_7', 'p_q_8'],\n",
       "      dtype='object')"
      ]
     },
     "execution_count": 28,
     "metadata": {},
     "output_type": "execute_result"
    }
   ],
   "source": [
    "inf.columns"
   ]
  },
  {
   "cell_type": "code",
   "execution_count": 29,
   "id": "efb56239-8301-4db9-82d9-07df25c55a9b",
   "metadata": {},
   "outputs": [
    {
     "data": {
      "text/html": [
       "<style>#sk-container-id-1 {color: black;}#sk-container-id-1 pre{padding: 0;}#sk-container-id-1 div.sk-toggleable {background-color: white;}#sk-container-id-1 label.sk-toggleable__label {cursor: pointer;display: block;width: 100%;margin-bottom: 0;padding: 0.3em;box-sizing: border-box;text-align: center;}#sk-container-id-1 label.sk-toggleable__label-arrow:before {content: \"▸\";float: left;margin-right: 0.25em;color: #696969;}#sk-container-id-1 label.sk-toggleable__label-arrow:hover:before {color: black;}#sk-container-id-1 div.sk-estimator:hover label.sk-toggleable__label-arrow:before {color: black;}#sk-container-id-1 div.sk-toggleable__content {max-height: 0;max-width: 0;overflow: hidden;text-align: left;background-color: #f0f8ff;}#sk-container-id-1 div.sk-toggleable__content pre {margin: 0.2em;color: black;border-radius: 0.25em;background-color: #f0f8ff;}#sk-container-id-1 input.sk-toggleable__control:checked~div.sk-toggleable__content {max-height: 200px;max-width: 100%;overflow: auto;}#sk-container-id-1 input.sk-toggleable__control:checked~label.sk-toggleable__label-arrow:before {content: \"▾\";}#sk-container-id-1 div.sk-estimator input.sk-toggleable__control:checked~label.sk-toggleable__label {background-color: #d4ebff;}#sk-container-id-1 div.sk-label input.sk-toggleable__control:checked~label.sk-toggleable__label {background-color: #d4ebff;}#sk-container-id-1 input.sk-hidden--visually {border: 0;clip: rect(1px 1px 1px 1px);clip: rect(1px, 1px, 1px, 1px);height: 1px;margin: -1px;overflow: hidden;padding: 0;position: absolute;width: 1px;}#sk-container-id-1 div.sk-estimator {font-family: monospace;background-color: #f0f8ff;border: 1px dotted black;border-radius: 0.25em;box-sizing: border-box;margin-bottom: 0.5em;}#sk-container-id-1 div.sk-estimator:hover {background-color: #d4ebff;}#sk-container-id-1 div.sk-parallel-item::after {content: \"\";width: 100%;border-bottom: 1px solid gray;flex-grow: 1;}#sk-container-id-1 div.sk-label:hover label.sk-toggleable__label {background-color: #d4ebff;}#sk-container-id-1 div.sk-serial::before {content: \"\";position: absolute;border-left: 1px solid gray;box-sizing: border-box;top: 0;bottom: 0;left: 50%;z-index: 0;}#sk-container-id-1 div.sk-serial {display: flex;flex-direction: column;align-items: center;background-color: white;padding-right: 0.2em;padding-left: 0.2em;position: relative;}#sk-container-id-1 div.sk-item {position: relative;z-index: 1;}#sk-container-id-1 div.sk-parallel {display: flex;align-items: stretch;justify-content: center;background-color: white;position: relative;}#sk-container-id-1 div.sk-item::before, #sk-container-id-1 div.sk-parallel-item::before {content: \"\";position: absolute;border-left: 1px solid gray;box-sizing: border-box;top: 0;bottom: 0;left: 50%;z-index: -1;}#sk-container-id-1 div.sk-parallel-item {display: flex;flex-direction: column;z-index: 1;position: relative;background-color: white;}#sk-container-id-1 div.sk-parallel-item:first-child::after {align-self: flex-end;width: 50%;}#sk-container-id-1 div.sk-parallel-item:last-child::after {align-self: flex-start;width: 50%;}#sk-container-id-1 div.sk-parallel-item:only-child::after {width: 0;}#sk-container-id-1 div.sk-dashed-wrapped {border: 1px dashed gray;margin: 0 0.4em 0.5em 0.4em;box-sizing: border-box;padding-bottom: 0.4em;background-color: white;}#sk-container-id-1 div.sk-label label {font-family: monospace;font-weight: bold;display: inline-block;line-height: 1.2em;}#sk-container-id-1 div.sk-label-container {text-align: center;}#sk-container-id-1 div.sk-container {/* jupyter's `normalize.less` sets `[hidden] { display: none; }` but bootstrap.min.css set `[hidden] { display: none !important; }` so we also need the `!important` here to be able to override the default hidden behavior on the sphinx rendered scikit-learn.org. See: https://github.com/scikit-learn/scikit-learn/issues/21755 */display: inline-block !important;position: relative;}#sk-container-id-1 div.sk-text-repr-fallback {display: none;}</style><div id=\"sk-container-id-1\" class=\"sk-top-container\"><div class=\"sk-text-repr-fallback\"><pre>LogisticRegression()</pre><b>In a Jupyter environment, please rerun this cell to show the HTML representation or trust the notebook. <br />On GitHub, the HTML representation is unable to render, please try loading this page with nbviewer.org.</b></div><div class=\"sk-container\" hidden><div class=\"sk-item\"><div class=\"sk-estimator sk-toggleable\"><input class=\"sk-toggleable__control sk-hidden--visually\" id=\"sk-estimator-id-1\" type=\"checkbox\" checked><label for=\"sk-estimator-id-1\" class=\"sk-toggleable__label sk-toggleable__label-arrow\">LogisticRegression</label><div class=\"sk-toggleable__content\"><pre>LogisticRegression()</pre></div></div></div></div></div>"
      ],
      "text/plain": [
       "LogisticRegression()"
      ]
     },
     "execution_count": 29,
     "metadata": {},
     "output_type": "execute_result"
    }
   ],
   "source": [
    "from sklearn.linear_model import LogisticRegression\n",
    "logreg = LogisticRegression()\n",
    "\n",
    "logreg.fit(inf[['fixed acidity', 'volatile acidity', 'citric acid', 'residual sugar',\n",
    "                'chlorides', 'free sulfur dioxide', 'total sulfur dioxide', 'density',\n",
    "                'pH', 'sulphates', 'alcohol']], \n",
    "           y_train)\n"
   ]
  },
  {
   "cell_type": "code",
   "execution_count": 30,
   "id": "b06198c5-c3de-4278-a585-2446fe21594b",
   "metadata": {},
   "outputs": [],
   "source": [
    "y_pred4 = logreg.predict(X_test[['fixed acidity', 'volatile acidity', 'citric acid', 'residual sugar',\n",
    "                'chlorides', 'free sulfur dioxide', 'total sulfur dioxide', 'density',\n",
    "                'pH', 'sulphates', 'alcohol']])"
   ]
  },
  {
   "cell_type": "code",
   "execution_count": 31,
   "id": "0dd8afa7-bcf7-4024-bdbd-045d2e819002",
   "metadata": {},
   "outputs": [
    {
     "data": {
      "text/plain": [
       "0.3525"
      ]
     },
     "execution_count": 31,
     "metadata": {},
     "output_type": "execute_result"
    }
   ],
   "source": [
    "accuracy_score(y_test, y_pred4)"
   ]
  },
  {
   "cell_type": "code",
   "execution_count": null,
   "id": "78d73bb6-1012-44f2-bc9f-d9ba15c237d7",
   "metadata": {},
   "outputs": [],
   "source": []
  },
  {
   "cell_type": "code",
   "execution_count": 32,
   "id": "54d520e0-85cb-49fb-888b-042a39308126",
   "metadata": {},
   "outputs": [
    {
     "data": {
      "text/plain": [
       "array([[  0,   0,   1,   0,   1,   0],\n",
       "       [  0,   0,   5,   0,   9,   0],\n",
       "       [  0,   0, 117,   0,  52,   0],\n",
       "       [  0,   0, 102,   0,  68,   0],\n",
       "       [  0,   0,  16,   0,  24,   0],\n",
       "       [  0,   0,   2,   0,   3,   0]])"
      ]
     },
     "execution_count": 32,
     "metadata": {},
     "output_type": "execute_result"
    }
   ],
   "source": [
    "confusion_matrix(y_test, y_pred4)"
   ]
  },
  {
   "cell_type": "code",
   "execution_count": 33,
   "id": "f3d4f4bd-d5f8-4745-af66-156b686066d2",
   "metadata": {},
   "outputs": [
    {
     "data": {
      "text/plain": [
       "array([[  0.,   0.,   1.,   0.,   1.,   0.],\n",
       "       [  0.,   0.,   5.,   0.,   9.,   0.],\n",
       "       [  0.,   0., 117.,   0.,  52.,   0.],\n",
       "       [  0.,   0., 102.,   0.,  68.,   0.],\n",
       "       [  0.,   0.,  16.,   0.,  24.,   0.],\n",
       "       [  0.,   0.,   2.,   0.,   3.,   0.]])"
      ]
     },
     "execution_count": 33,
     "metadata": {},
     "output_type": "execute_result"
    }
   ],
   "source": [
    "ClassifiersAndMetrics.confusion_matrix(y_test, y_pred4)"
   ]
  },
  {
   "cell_type": "code",
   "execution_count": 34,
   "id": "21304ede-800c-49d7-8756-aeeb5332d676",
   "metadata": {},
   "outputs": [
    {
     "name": "stderr",
     "output_type": "stream",
     "text": [
      "/opt/homebrew/lib/python3.11/site-packages/sklearn/metrics/_classification.py:1469: UndefinedMetricWarning: Precision and F-score are ill-defined and being set to 0.0 in labels with no predicted samples. Use `zero_division` parameter to control this behavior.\n",
      "  _warn_prf(average, modifier, msg_start, len(result))\n",
      "/opt/homebrew/lib/python3.11/site-packages/sklearn/metrics/_classification.py:1469: UndefinedMetricWarning: Precision and F-score are ill-defined and being set to 0.0 in labels with no predicted samples. Use `zero_division` parameter to control this behavior.\n",
      "  _warn_prf(average, modifier, msg_start, len(result))\n",
      "/opt/homebrew/lib/python3.11/site-packages/sklearn/metrics/_classification.py:1469: UndefinedMetricWarning: Precision and F-score are ill-defined and being set to 0.0 in labels with no predicted samples. Use `zero_division` parameter to control this behavior.\n",
      "  _warn_prf(average, modifier, msg_start, len(result))\n"
     ]
    },
    {
     "data": {
      "text/plain": [
       "'              precision    recall  f1-score   support\\n\\n           3       0.00      0.00      0.00         2\\n           4       0.00      0.00      0.00        14\\n           5       0.48      0.69      0.57       169\\n           6       0.00      0.00      0.00       170\\n           7       0.15      0.60      0.24        40\\n           8       0.00      0.00      0.00         5\\n\\n    accuracy                           0.35       400\\n   macro avg       0.11      0.22      0.14       400\\nweighted avg       0.22      0.35      0.26       400\\n'"
      ]
     },
     "execution_count": 34,
     "metadata": {},
     "output_type": "execute_result"
    }
   ],
   "source": [
    "classification_report(y_test, y_pred4)"
   ]
  },
  {
   "cell_type": "code",
   "execution_count": 35,
   "id": "e109ac86-db05-4522-8b37-e3706694ce7a",
   "metadata": {},
   "outputs": [
    {
     "data": {
      "text/plain": [
       "0.3525"
      ]
     },
     "execution_count": 35,
     "metadata": {},
     "output_type": "execute_result"
    }
   ],
   "source": [
    "ClassifiersAndMetrics.accuracy(y_test, y_pred4)"
   ]
  },
  {
   "cell_type": "code",
   "execution_count": 36,
   "id": "d258d349-989a-4125-9b04-cebec53fbe42",
   "metadata": {},
   "outputs": [
    {
     "data": {
      "text/plain": [
       "0.37"
      ]
     },
     "execution_count": 36,
     "metadata": {},
     "output_type": "execute_result"
    }
   ],
   "source": [
    "ClassifiersAndMetrics.accuracy(y_test, ypred2)"
   ]
  },
  {
   "cell_type": "code",
   "execution_count": 37,
   "id": "1926b942-a524-43a9-a078-f2df009cbf8e",
   "metadata": {},
   "outputs": [
    {
     "name": "stdout",
     "output_type": "stream",
     "text": [
      "Precision: 3 : None\n",
      "Precision: 4 : None\n",
      "Precision: 5 : 0.48148148148148145\n",
      "Precision: 6 : None\n",
      "Precision: 7 : 0.15286624203821655\n",
      "Precision: 8 : None\n"
     ]
    }
   ],
   "source": [
    "for i in range(3, 9):\n",
    "    print(\"Precision:\", i, \":\", ClassifiersAndMetrics.precision(y_test, y_pred4, p_for=i))"
   ]
  },
  {
   "cell_type": "code",
   "execution_count": 38,
   "id": "74d0513f-6af8-40b5-90f5-7edef8f62e57",
   "metadata": {},
   "outputs": [
    {
     "name": "stdout",
     "output_type": "stream",
     "text": [
      "Precision: 3 : None\n",
      "Precision: 4 : None\n",
      "Precision: 5 : 0.4746376811594203\n",
      "Precision: 6 : None\n",
      "Precision: 7 : 0.13709677419354838\n",
      "Precision: 8 : None\n"
     ]
    }
   ],
   "source": [
    "for i in range(3, 9):\n",
    "    print(\"Precision:\", i, \":\", ClassifiersAndMetrics.precision(y_test, ypred2, p_for=i))"
   ]
  },
  {
   "cell_type": "code",
   "execution_count": 39,
   "id": "2b92adc6-0ee3-4c2e-9d9d-a8b2d3c2f3ea",
   "metadata": {},
   "outputs": [
    {
     "name": "stdout",
     "output_type": "stream",
     "text": [
      "Precision: 3 : 0.0\n",
      "Precision: 4 : None\n",
      "Precision: 5 : 0.6306990881458967\n",
      "Precision: 6 : 0.5391304347826087\n",
      "Precision: 7 : 0.5942028985507246\n",
      "Precision: 8 : None\n"
     ]
    }
   ],
   "source": [
    "for i in range(3, 9):\n",
    "    print(\"Precision:\", i, \":\", ClassifiersAndMetrics.precision(y_train, ypred, p_for=i))"
   ]
  },
  {
   "cell_type": "code",
   "execution_count": 40,
   "id": "2a16211c-004b-4ae7-a08e-8485728001e5",
   "metadata": {},
   "outputs": [
    {
     "name": "stdout",
     "output_type": "stream",
     "text": [
      "Recall: 3 : 0.0\n",
      "Recall: 4 : 0.0\n",
      "Recall: 5 : 0.6923076923076923\n",
      "Recall: 6 : 0.0\n",
      "Recall: 7 : 0.6\n",
      "Recall: 8 : 0.0\n"
     ]
    }
   ],
   "source": [
    "for i in range(3, 9):\n",
    "    print(\"Recall:\", i, \":\", ClassifiersAndMetrics.recall(y_test, y_pred4, p_for=i))"
   ]
  },
  {
   "cell_type": "code",
   "execution_count": 41,
   "id": "6c216455-cc1f-47fb-a96c-e7e221486215",
   "metadata": {},
   "outputs": [
    {
     "name": "stdout",
     "output_type": "stream",
     "text": [
      "Recall: 3 : 0.0\n",
      "Recall: 4 : 0.0\n",
      "Recall: 5 : 0.7751479289940828\n",
      "Recall: 6 : 0.0\n",
      "Recall: 7 : 0.425\n",
      "Recall: 8 : 0.0\n"
     ]
    }
   ],
   "source": [
    "for i in range(3, 9):\n",
    "    print(\"Recall:\", i, \":\", ClassifiersAndMetrics.recall(y_test, ypred2, p_for=i))"
   ]
  },
  {
   "cell_type": "code",
   "execution_count": 42,
   "id": "868ce582-196b-4636-a601-e58e1f2191aa",
   "metadata": {},
   "outputs": [
    {
     "name": "stdout",
     "output_type": "stream",
     "text": [
      "Recall: 3 : 0.0\n",
      "Recall: 4 : 0.0\n",
      "Recall: 5 : 0.810546875\n",
      "Recall: 6 : 0.5299145299145299\n",
      "Recall: 7 : 0.2578616352201258\n",
      "Recall: 8 : 0.0\n"
     ]
    }
   ],
   "source": [
    "for i in range(3, 9):\n",
    "    print(\"Recall:\", i, \":\", ClassifiersAndMetrics.recall(y_train, ypred, p_for=i))"
   ]
  },
  {
   "cell_type": "code",
   "execution_count": 43,
   "id": "48e3099e-d083-4a0d-abbf-ca8a7715b58a",
   "metadata": {},
   "outputs": [
    {
     "data": {
      "text/plain": [
       "count    400.000000\n",
       "mean       5.620000\n",
       "std        0.926145\n",
       "min        5.000000\n",
       "25%        5.000000\n",
       "50%        5.000000\n",
       "75%        7.000000\n",
       "max        7.000000\n",
       "dtype: float64"
      ]
     },
     "execution_count": 43,
     "metadata": {},
     "output_type": "execute_result"
    }
   ],
   "source": [
    "ypred2.describe()"
   ]
  },
  {
   "cell_type": "code",
   "execution_count": 44,
   "id": "9de7d747-65e5-45cd-b2c6-bb98ddabe8c1",
   "metadata": {},
   "outputs": [
    {
     "name": "stdout",
     "output_type": "stream",
     "text": [
      "F1 Score: 3 : None\n",
      "F1 Score: 4 : None\n",
      "F1 Score: 5 : 0.467780429594272\n",
      "F1 Score: 6 : None\n",
      "F1 Score: 7 : 0.16080402010050254\n",
      "F1 Score: 8 : None\n"
     ]
    }
   ],
   "source": [
    "for i in range(3, 9):\n",
    "    print(\"F1 Score:\", i, \":\", ClassifiersAndMetrics.f1_score(y_train, y_pred4, p_for=i))"
   ]
  },
  {
   "cell_type": "code",
   "execution_count": 45,
   "id": "b5fd1a48-eab6-40d5-906f-7dcb92acc9a5",
   "metadata": {},
   "outputs": [
    {
     "name": "stdout",
     "output_type": "stream",
     "text": [
      "F1 Score: 3 : None\n",
      "F1 Score: 4 : None\n",
      "F1 Score: 5 : 0.5176991150442477\n",
      "F1 Score: 6 : None\n",
      "F1 Score: 7 : 0.14457831325301204\n",
      "F1 Score: 8 : None\n"
     ]
    }
   ],
   "source": [
    "for i in range(3, 9):\n",
    "    print(\"F1 Score:\", i, \":\", ClassifiersAndMetrics.f1_score(y_train, ypred2, p_for=i))"
   ]
  },
  {
   "cell_type": "code",
   "execution_count": 46,
   "id": "ef0f4de8-c151-4c43-8988-168e59cbfd86",
   "metadata": {},
   "outputs": [
    {
     "name": "stdout",
     "output_type": "stream",
     "text": [
      "F1 Score: 3 : None\n",
      "F1 Score: 4 : None\n",
      "F1 Score: 5 : 0.7094017094017093\n",
      "F1 Score: 6 : 0.5344827586206897\n",
      "F1 Score: 7 : 0.35964912280701755\n",
      "F1 Score: 8 : None\n"
     ]
    }
   ],
   "source": [
    "for i in range(3, 9):\n",
    "    print(\"F1 Score:\", i, \":\", ClassifiersAndMetrics.f1_score(y_train, ypred, p_for=i))"
   ]
  },
  {
   "cell_type": "code",
   "execution_count": null,
   "id": "f80288c9-2c89-4885-a30a-91b27b4a182c",
   "metadata": {},
   "outputs": [],
   "source": []
  },
  {
   "cell_type": "code",
   "execution_count": null,
   "id": "53a7bf82-2176-42fc-8669-1e2053c5c068",
   "metadata": {},
   "outputs": [],
   "source": []
  }
 ],
 "metadata": {
  "kernelspec": {
   "display_name": "Python 3 (ipykernel)",
   "language": "python",
   "name": "python3"
  },
  "language_info": {
   "codemirror_mode": {
    "name": "ipython",
    "version": 3
   },
   "file_extension": ".py",
   "mimetype": "text/x-python",
   "name": "python",
   "nbconvert_exporter": "python",
   "pygments_lexer": "ipython3",
   "version": "3.11.5"
  }
 },
 "nbformat": 4,
 "nbformat_minor": 5
}
