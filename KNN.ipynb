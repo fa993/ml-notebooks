{
 "cells": [
  {
   "cell_type": "code",
   "execution_count": 1,
   "id": "3ccfb9c1-d4a4-4855-a925-577a96f28dc6",
   "metadata": {},
   "outputs": [],
   "source": [
    "#KNN\n",
    "#Data Needs to be scaled like regression algorithms\n",
    "#Basically distance formula + voting\n",
    "#Could get computationally expensive if not done correctly\n",
    "#Working approach, just blindly check every point using distance formula\n",
    "#Think of better approaches\n",
    "#Use same dataset as regression"
   ]
  },
  {
   "cell_type": "code",
   "execution_count": 2,
   "id": "d36d017d-05b2-4f67-b193-77d4de12dfe6",
   "metadata": {},
   "outputs": [],
   "source": [
    "import numpy as np # linear algebra\n",
    "import pandas as pd # data processing, CSV file I/O (e.g. pd.read_csv)\n",
    "from matplotlib import pyplot as plt\n",
    "import seaborn as sns \n",
    "import sklearn.metrics\n",
    "import math"
   ]
  },
  {
   "cell_type": "code",
   "execution_count": 3,
   "id": "8d4b1025-c8fe-4398-954d-59a7651e99a7",
   "metadata": {},
   "outputs": [],
   "source": [
    "infori = pd.read_csv('data/Social_Network_Ads.csv')"
   ]
  },
  {
   "cell_type": "code",
   "execution_count": 4,
   "id": "82e96eda-8cd5-4716-b13f-8c95d9fd57da",
   "metadata": {},
   "outputs": [
    {
     "name": "stdout",
     "output_type": "stream",
     "text": [
      "<class 'pandas.core.frame.DataFrame'>\n",
      "RangeIndex: 400 entries, 0 to 399\n",
      "Data columns (total 5 columns):\n",
      " #   Column           Non-Null Count  Dtype \n",
      "---  ------           --------------  ----- \n",
      " 0   User ID          400 non-null    int64 \n",
      " 1   Gender           400 non-null    object\n",
      " 2   Age              400 non-null    int64 \n",
      " 3   EstimatedSalary  400 non-null    int64 \n",
      " 4   Purchased        400 non-null    int64 \n",
      "dtypes: int64(4), object(1)\n",
      "memory usage: 15.8+ KB\n"
     ]
    }
   ],
   "source": [
    "infori.info()"
   ]
  },
  {
   "cell_type": "code",
   "execution_count": 5,
   "id": "afee0ddf-ae89-442c-9345-18f7bffd0217",
   "metadata": {},
   "outputs": [],
   "source": [
    "from sklearn.model_selection import train_test_split\n",
    "\n",
    "x_train, x_test, y_train, y_test = train_test_split(infori[['Age', 'EstimatedSalary']], infori['Purchased'], test_size=0.25, random_state=0)"
   ]
  },
  {
   "cell_type": "code",
   "execution_count": 6,
   "id": "5198384a-23ff-4364-b708-7a7860f7f59f",
   "metadata": {},
   "outputs": [
    {
     "data": {
      "text/html": [
       "<div>\n",
       "<style scoped>\n",
       "    .dataframe tbody tr th:only-of-type {\n",
       "        vertical-align: middle;\n",
       "    }\n",
       "\n",
       "    .dataframe tbody tr th {\n",
       "        vertical-align: top;\n",
       "    }\n",
       "\n",
       "    .dataframe thead th {\n",
       "        text-align: right;\n",
       "    }\n",
       "</style>\n",
       "<table border=\"1\" class=\"dataframe\">\n",
       "  <thead>\n",
       "    <tr style=\"text-align: right;\">\n",
       "      <th></th>\n",
       "      <th>Age</th>\n",
       "      <th>EstimatedSalary</th>\n",
       "    </tr>\n",
       "  </thead>\n",
       "  <tbody>\n",
       "    <tr>\n",
       "      <th>250</th>\n",
       "      <td>44</td>\n",
       "      <td>39000</td>\n",
       "    </tr>\n",
       "    <tr>\n",
       "      <th>63</th>\n",
       "      <td>32</td>\n",
       "      <td>120000</td>\n",
       "    </tr>\n",
       "    <tr>\n",
       "      <th>312</th>\n",
       "      <td>38</td>\n",
       "      <td>50000</td>\n",
       "    </tr>\n",
       "    <tr>\n",
       "      <th>159</th>\n",
       "      <td>32</td>\n",
       "      <td>135000</td>\n",
       "    </tr>\n",
       "    <tr>\n",
       "      <th>283</th>\n",
       "      <td>52</td>\n",
       "      <td>21000</td>\n",
       "    </tr>\n",
       "    <tr>\n",
       "      <th>...</th>\n",
       "      <td>...</td>\n",
       "      <td>...</td>\n",
       "    </tr>\n",
       "    <tr>\n",
       "      <th>323</th>\n",
       "      <td>48</td>\n",
       "      <td>30000</td>\n",
       "    </tr>\n",
       "    <tr>\n",
       "      <th>192</th>\n",
       "      <td>29</td>\n",
       "      <td>43000</td>\n",
       "    </tr>\n",
       "    <tr>\n",
       "      <th>117</th>\n",
       "      <td>36</td>\n",
       "      <td>52000</td>\n",
       "    </tr>\n",
       "    <tr>\n",
       "      <th>47</th>\n",
       "      <td>27</td>\n",
       "      <td>54000</td>\n",
       "    </tr>\n",
       "    <tr>\n",
       "      <th>172</th>\n",
       "      <td>26</td>\n",
       "      <td>118000</td>\n",
       "    </tr>\n",
       "  </tbody>\n",
       "</table>\n",
       "<p>300 rows × 2 columns</p>\n",
       "</div>"
      ],
      "text/plain": [
       "     Age  EstimatedSalary\n",
       "250   44            39000\n",
       "63    32           120000\n",
       "312   38            50000\n",
       "159   32           135000\n",
       "283   52            21000\n",
       "..   ...              ...\n",
       "323   48            30000\n",
       "192   29            43000\n",
       "117   36            52000\n",
       "47    27            54000\n",
       "172   26           118000\n",
       "\n",
       "[300 rows x 2 columns]"
      ]
     },
     "execution_count": 6,
     "metadata": {},
     "output_type": "execute_result"
    }
   ],
   "source": [
    "x_train"
   ]
  },
  {
   "cell_type": "code",
   "execution_count": 7,
   "id": "e2b44099-26e6-4bcb-9301-f79078d47f0e",
   "metadata": {},
   "outputs": [
    {
     "data": {
      "text/plain": [
       "Age                   44\n",
       "EstimatedSalary    39000\n",
       "Name: 250, dtype: int64"
      ]
     },
     "execution_count": 7,
     "metadata": {},
     "output_type": "execute_result"
    }
   ],
   "source": [
    "ref_cell = x_train.iloc[0]\n",
    "ref_cell"
   ]
  },
  {
   "cell_type": "code",
   "execution_count": 8,
   "id": "7120d693-ef2e-48d2-847f-0d300cf065bc",
   "metadata": {},
   "outputs": [],
   "source": [
    "dist = x_train[x_train.columns[:2]].apply(lambda x: ((x - ref_cell) ** 2).sum(), axis=1)"
   ]
  },
  {
   "cell_type": "code",
   "execution_count": 9,
   "id": "0e19d11e-67cb-4b25-b74d-50cddf8cacd6",
   "metadata": {},
   "outputs": [
    {
     "data": {
      "text/html": [
       "<div>\n",
       "<style scoped>\n",
       "    .dataframe tbody tr th:only-of-type {\n",
       "        vertical-align: middle;\n",
       "    }\n",
       "\n",
       "    .dataframe tbody tr th {\n",
       "        vertical-align: top;\n",
       "    }\n",
       "\n",
       "    .dataframe thead th {\n",
       "        text-align: right;\n",
       "    }\n",
       "</style>\n",
       "<table border=\"1\" class=\"dataframe\">\n",
       "  <thead>\n",
       "    <tr style=\"text-align: right;\">\n",
       "      <th></th>\n",
       "      <th>Age</th>\n",
       "      <th>EstimatedSalary</th>\n",
       "    </tr>\n",
       "  </thead>\n",
       "  <tbody>\n",
       "    <tr>\n",
       "      <th>250</th>\n",
       "      <td>44</td>\n",
       "      <td>39000</td>\n",
       "    </tr>\n",
       "    <tr>\n",
       "      <th>63</th>\n",
       "      <td>32</td>\n",
       "      <td>120000</td>\n",
       "    </tr>\n",
       "    <tr>\n",
       "      <th>312</th>\n",
       "      <td>38</td>\n",
       "      <td>50000</td>\n",
       "    </tr>\n",
       "    <tr>\n",
       "      <th>159</th>\n",
       "      <td>32</td>\n",
       "      <td>135000</td>\n",
       "    </tr>\n",
       "    <tr>\n",
       "      <th>283</th>\n",
       "      <td>52</td>\n",
       "      <td>21000</td>\n",
       "    </tr>\n",
       "    <tr>\n",
       "      <th>...</th>\n",
       "      <td>...</td>\n",
       "      <td>...</td>\n",
       "    </tr>\n",
       "    <tr>\n",
       "      <th>323</th>\n",
       "      <td>48</td>\n",
       "      <td>30000</td>\n",
       "    </tr>\n",
       "    <tr>\n",
       "      <th>192</th>\n",
       "      <td>29</td>\n",
       "      <td>43000</td>\n",
       "    </tr>\n",
       "    <tr>\n",
       "      <th>117</th>\n",
       "      <td>36</td>\n",
       "      <td>52000</td>\n",
       "    </tr>\n",
       "    <tr>\n",
       "      <th>47</th>\n",
       "      <td>27</td>\n",
       "      <td>54000</td>\n",
       "    </tr>\n",
       "    <tr>\n",
       "      <th>172</th>\n",
       "      <td>26</td>\n",
       "      <td>118000</td>\n",
       "    </tr>\n",
       "  </tbody>\n",
       "</table>\n",
       "<p>300 rows × 2 columns</p>\n",
       "</div>"
      ],
      "text/plain": [
       "     Age  EstimatedSalary\n",
       "250   44            39000\n",
       "63    32           120000\n",
       "312   38            50000\n",
       "159   32           135000\n",
       "283   52            21000\n",
       "..   ...              ...\n",
       "323   48            30000\n",
       "192   29            43000\n",
       "117   36            52000\n",
       "47    27            54000\n",
       "172   26           118000\n",
       "\n",
       "[300 rows x 2 columns]"
      ]
     },
     "execution_count": 9,
     "metadata": {},
     "output_type": "execute_result"
    }
   ],
   "source": [
    "x_train"
   ]
  },
  {
   "cell_type": "code",
   "execution_count": 10,
   "id": "44e7bba0-07d7-4e9e-9790-5592e06ba9f9",
   "metadata": {},
   "outputs": [
    {
     "data": {
      "text/plain": [
       "250          0\n",
       "386         25\n",
       "200         81\n",
       "292        121\n",
       "278    1000064\n",
       "dtype: int64"
      ]
     },
     "execution_count": 10,
     "metadata": {},
     "output_type": "execute_result"
    }
   ],
   "source": [
    "dist.nsmallest(5)"
   ]
  },
  {
   "cell_type": "code",
   "execution_count": 11,
   "id": "4a405f54-2cbf-45a1-8e67-cd511506296b",
   "metadata": {},
   "outputs": [],
   "source": [
    "def normalise(x):\n",
    "    return (x - x.mean()) / x.std()\n",
    "def normalise_all(x_all):\n",
    "    cpy = pd.DataFrame()\n",
    "    for col in x_all.columns:\n",
    "        cpy[col] = normalise(x_all[col])\n",
    "    return cpy"
   ]
  },
  {
   "cell_type": "code",
   "execution_count": 12,
   "id": "b4b9c62f-b8f6-4a54-9cf7-e27320c10f35",
   "metadata": {},
   "outputs": [],
   "source": [
    "def get_k_nearest_neighbours(x_tr, y_tr, x, k):\n",
    "    dist = pd.DataFrame()\n",
    "    dist['d'] = x_tr.apply(lambda row: ((row - x) ** 2).sum(), axis=1)\n",
    "    dist['y'] = y_tr\n",
    "    return dist.nsmallest(k, ['d'], keep='all')['y']"
   ]
  },
  {
   "cell_type": "code",
   "execution_count": 13,
   "id": "42dd4987-d129-41cb-a941-0fb4018b3671",
   "metadata": {},
   "outputs": [
    {
     "data": {
      "text/html": [
       "<div>\n",
       "<style scoped>\n",
       "    .dataframe tbody tr th:only-of-type {\n",
       "        vertical-align: middle;\n",
       "    }\n",
       "\n",
       "    .dataframe tbody tr th {\n",
       "        vertical-align: top;\n",
       "    }\n",
       "\n",
       "    .dataframe thead th {\n",
       "        text-align: right;\n",
       "    }\n",
       "</style>\n",
       "<table border=\"1\" class=\"dataframe\">\n",
       "  <thead>\n",
       "    <tr style=\"text-align: right;\">\n",
       "      <th></th>\n",
       "      <th>Age</th>\n",
       "      <th>EstimatedSalary</th>\n",
       "    </tr>\n",
       "  </thead>\n",
       "  <tbody>\n",
       "    <tr>\n",
       "      <th>250</th>\n",
       "      <td>0.580679</td>\n",
       "      <td>-0.885228</td>\n",
       "    </tr>\n",
       "    <tr>\n",
       "      <th>63</th>\n",
       "      <td>-0.605726</td>\n",
       "      <td>1.459299</td>\n",
       "    </tr>\n",
       "    <tr>\n",
       "      <th>312</th>\n",
       "      <td>-0.012523</td>\n",
       "      <td>-0.566835</td>\n",
       "    </tr>\n",
       "    <tr>\n",
       "      <th>159</th>\n",
       "      <td>-0.605726</td>\n",
       "      <td>1.893471</td>\n",
       "    </tr>\n",
       "    <tr>\n",
       "      <th>283</th>\n",
       "      <td>1.371616</td>\n",
       "      <td>-1.406234</td>\n",
       "    </tr>\n",
       "    <tr>\n",
       "      <th>...</th>\n",
       "      <td>...</td>\n",
       "      <td>...</td>\n",
       "    </tr>\n",
       "    <tr>\n",
       "      <th>323</th>\n",
       "      <td>0.976147</td>\n",
       "      <td>-1.145731</td>\n",
       "    </tr>\n",
       "    <tr>\n",
       "      <th>192</th>\n",
       "      <td>-0.902327</td>\n",
       "      <td>-0.769449</td>\n",
       "    </tr>\n",
       "    <tr>\n",
       "      <th>117</th>\n",
       "      <td>-0.210257</td>\n",
       "      <td>-0.508946</td>\n",
       "    </tr>\n",
       "    <tr>\n",
       "      <th>47</th>\n",
       "      <td>-1.100061</td>\n",
       "      <td>-0.451056</td>\n",
       "    </tr>\n",
       "    <tr>\n",
       "      <th>172</th>\n",
       "      <td>-1.198928</td>\n",
       "      <td>1.401410</td>\n",
       "    </tr>\n",
       "  </tbody>\n",
       "</table>\n",
       "<p>300 rows × 2 columns</p>\n",
       "</div>"
      ],
      "text/plain": [
       "          Age  EstimatedSalary\n",
       "250  0.580679        -0.885228\n",
       "63  -0.605726         1.459299\n",
       "312 -0.012523        -0.566835\n",
       "159 -0.605726         1.893471\n",
       "283  1.371616        -1.406234\n",
       "..        ...              ...\n",
       "323  0.976147        -1.145731\n",
       "192 -0.902327        -0.769449\n",
       "117 -0.210257        -0.508946\n",
       "47  -1.100061        -0.451056\n",
       "172 -1.198928         1.401410\n",
       "\n",
       "[300 rows x 2 columns]"
      ]
     },
     "execution_count": 13,
     "metadata": {},
     "output_type": "execute_result"
    }
   ],
   "source": [
    "x_act_t = normalise_all(x_train)\n",
    "x_act_t"
   ]
  },
  {
   "cell_type": "code",
   "execution_count": 14,
   "id": "9e0b201b-6c61-4f00-9aac-3829fad8210f",
   "metadata": {},
   "outputs": [
    {
     "data": {
      "text/plain": [
       "211    1\n",
       "240    1\n",
       "103    1\n",
       "168    1\n",
       "230    1\n",
       "Name: y, dtype: int64"
      ]
     },
     "execution_count": 14,
     "metadata": {},
     "output_type": "execute_result"
    }
   ],
   "source": [
    "get_k_nearest_neighbours(x_act_t, y_train, x_test.iloc[0], 5)"
   ]
  },
  {
   "cell_type": "code",
   "execution_count": 15,
   "id": "7e58d8c2-2170-4248-aca3-901594e1c46b",
   "metadata": {},
   "outputs": [],
   "source": [
    "def classify(x_tr, y_tr, x, k):\n",
    "    ret = get_k_nearest_neighbours(x_tr, y_tr, x, k)\n",
    "    return ret.value_counts().keys()[0]"
   ]
  },
  {
   "cell_type": "code",
   "execution_count": 16,
   "id": "7ac33bf0-4fdc-47dc-bdbf-c81fe397a740",
   "metadata": {},
   "outputs": [
    {
     "data": {
      "text/plain": [
       "0"
      ]
     },
     "execution_count": 16,
     "metadata": {},
     "output_type": "execute_result"
    }
   ],
   "source": [
    "classify(x_act_t, y_train, normalise(x_test.iloc[0]), 5)"
   ]
  },
  {
   "cell_type": "code",
   "execution_count": 17,
   "id": "061a346f-4a03-4942-bce9-b3ce5daa9ad8",
   "metadata": {},
   "outputs": [],
   "source": [
    "ypred0 = normalise_all(x_test).apply(lambda row: classify(x_act_t, y_train, row, 5), axis=1)"
   ]
  },
  {
   "cell_type": "code",
   "execution_count": 18,
   "id": "81ad0729-fb13-482d-933d-5e45e7365270",
   "metadata": {},
   "outputs": [
    {
     "data": {
      "text/plain": [
       "0.93"
      ]
     },
     "execution_count": 18,
     "metadata": {},
     "output_type": "execute_result"
    }
   ],
   "source": [
    "sklearn.metrics.accuracy_score(y_test, ypred0)"
   ]
  },
  {
   "cell_type": "code",
   "execution_count": 19,
   "id": "e6bf8bdf-59db-4dd7-810a-29dcba1608dc",
   "metadata": {},
   "outputs": [],
   "source": [
    "from sklearn.neighbors import KNeighborsClassifier"
   ]
  },
  {
   "cell_type": "code",
   "execution_count": 20,
   "id": "06a20b8e-151e-413f-94ad-3c4be350447b",
   "metadata": {},
   "outputs": [],
   "source": [
    "mdl = KNeighborsClassifier()"
   ]
  },
  {
   "cell_type": "code",
   "execution_count": 21,
   "id": "701402f6-0a82-4bac-a449-aebe3855aab4",
   "metadata": {},
   "outputs": [
    {
     "data": {
      "text/html": [
       "<style>#sk-container-id-1 {color: black;}#sk-container-id-1 pre{padding: 0;}#sk-container-id-1 div.sk-toggleable {background-color: white;}#sk-container-id-1 label.sk-toggleable__label {cursor: pointer;display: block;width: 100%;margin-bottom: 0;padding: 0.3em;box-sizing: border-box;text-align: center;}#sk-container-id-1 label.sk-toggleable__label-arrow:before {content: \"▸\";float: left;margin-right: 0.25em;color: #696969;}#sk-container-id-1 label.sk-toggleable__label-arrow:hover:before {color: black;}#sk-container-id-1 div.sk-estimator:hover label.sk-toggleable__label-arrow:before {color: black;}#sk-container-id-1 div.sk-toggleable__content {max-height: 0;max-width: 0;overflow: hidden;text-align: left;background-color: #f0f8ff;}#sk-container-id-1 div.sk-toggleable__content pre {margin: 0.2em;color: black;border-radius: 0.25em;background-color: #f0f8ff;}#sk-container-id-1 input.sk-toggleable__control:checked~div.sk-toggleable__content {max-height: 200px;max-width: 100%;overflow: auto;}#sk-container-id-1 input.sk-toggleable__control:checked~label.sk-toggleable__label-arrow:before {content: \"▾\";}#sk-container-id-1 div.sk-estimator input.sk-toggleable__control:checked~label.sk-toggleable__label {background-color: #d4ebff;}#sk-container-id-1 div.sk-label input.sk-toggleable__control:checked~label.sk-toggleable__label {background-color: #d4ebff;}#sk-container-id-1 input.sk-hidden--visually {border: 0;clip: rect(1px 1px 1px 1px);clip: rect(1px, 1px, 1px, 1px);height: 1px;margin: -1px;overflow: hidden;padding: 0;position: absolute;width: 1px;}#sk-container-id-1 div.sk-estimator {font-family: monospace;background-color: #f0f8ff;border: 1px dotted black;border-radius: 0.25em;box-sizing: border-box;margin-bottom: 0.5em;}#sk-container-id-1 div.sk-estimator:hover {background-color: #d4ebff;}#sk-container-id-1 div.sk-parallel-item::after {content: \"\";width: 100%;border-bottom: 1px solid gray;flex-grow: 1;}#sk-container-id-1 div.sk-label:hover label.sk-toggleable__label {background-color: #d4ebff;}#sk-container-id-1 div.sk-serial::before {content: \"\";position: absolute;border-left: 1px solid gray;box-sizing: border-box;top: 0;bottom: 0;left: 50%;z-index: 0;}#sk-container-id-1 div.sk-serial {display: flex;flex-direction: column;align-items: center;background-color: white;padding-right: 0.2em;padding-left: 0.2em;position: relative;}#sk-container-id-1 div.sk-item {position: relative;z-index: 1;}#sk-container-id-1 div.sk-parallel {display: flex;align-items: stretch;justify-content: center;background-color: white;position: relative;}#sk-container-id-1 div.sk-item::before, #sk-container-id-1 div.sk-parallel-item::before {content: \"\";position: absolute;border-left: 1px solid gray;box-sizing: border-box;top: 0;bottom: 0;left: 50%;z-index: -1;}#sk-container-id-1 div.sk-parallel-item {display: flex;flex-direction: column;z-index: 1;position: relative;background-color: white;}#sk-container-id-1 div.sk-parallel-item:first-child::after {align-self: flex-end;width: 50%;}#sk-container-id-1 div.sk-parallel-item:last-child::after {align-self: flex-start;width: 50%;}#sk-container-id-1 div.sk-parallel-item:only-child::after {width: 0;}#sk-container-id-1 div.sk-dashed-wrapped {border: 1px dashed gray;margin: 0 0.4em 0.5em 0.4em;box-sizing: border-box;padding-bottom: 0.4em;background-color: white;}#sk-container-id-1 div.sk-label label {font-family: monospace;font-weight: bold;display: inline-block;line-height: 1.2em;}#sk-container-id-1 div.sk-label-container {text-align: center;}#sk-container-id-1 div.sk-container {/* jupyter's `normalize.less` sets `[hidden] { display: none; }` but bootstrap.min.css set `[hidden] { display: none !important; }` so we also need the `!important` here to be able to override the default hidden behavior on the sphinx rendered scikit-learn.org. See: https://github.com/scikit-learn/scikit-learn/issues/21755 */display: inline-block !important;position: relative;}#sk-container-id-1 div.sk-text-repr-fallback {display: none;}</style><div id=\"sk-container-id-1\" class=\"sk-top-container\"><div class=\"sk-text-repr-fallback\"><pre>KNeighborsClassifier()</pre><b>In a Jupyter environment, please rerun this cell to show the HTML representation or trust the notebook. <br />On GitHub, the HTML representation is unable to render, please try loading this page with nbviewer.org.</b></div><div class=\"sk-container\" hidden><div class=\"sk-item\"><div class=\"sk-estimator sk-toggleable\"><input class=\"sk-toggleable__control sk-hidden--visually\" id=\"sk-estimator-id-1\" type=\"checkbox\" checked><label for=\"sk-estimator-id-1\" class=\"sk-toggleable__label sk-toggleable__label-arrow\">KNeighborsClassifier</label><div class=\"sk-toggleable__content\"><pre>KNeighborsClassifier()</pre></div></div></div></div></div>"
      ],
      "text/plain": [
       "KNeighborsClassifier()"
      ]
     },
     "execution_count": 21,
     "metadata": {},
     "output_type": "execute_result"
    }
   ],
   "source": [
    "mdl.fit(x_train, y_train)"
   ]
  },
  {
   "cell_type": "code",
   "execution_count": 22,
   "id": "48e5e9f6-69e8-4669-84ba-d46343b05182",
   "metadata": {},
   "outputs": [],
   "source": [
    "ypred1 = mdl.predict(x_test)"
   ]
  },
  {
   "cell_type": "code",
   "execution_count": 23,
   "id": "008bfb13-fbc3-4590-b0dc-708bcef6eda7",
   "metadata": {},
   "outputs": [
    {
     "data": {
      "text/plain": [
       "0.83"
      ]
     },
     "execution_count": 23,
     "metadata": {},
     "output_type": "execute_result"
    }
   ],
   "source": [
    "sklearn.metrics.accuracy_score(y_test, ypred1)"
   ]
  },
  {
   "cell_type": "code",
   "execution_count": 24,
   "id": "df63f091-c2ab-4513-9c77-a9e9e4727bc3",
   "metadata": {},
   "outputs": [
    {
     "data": {
      "text/plain": [
       "0.93"
      ]
     },
     "execution_count": 24,
     "metadata": {},
     "output_type": "execute_result"
    }
   ],
   "source": [
    "mdl = KNeighborsClassifier()\n",
    "mdl.fit(x_act_t, y_train)\n",
    "ypredg = mdl.predict(normalise_all(x_test))\n",
    "sklearn.metrics.accuracy_score(y_test, ypredg)"
   ]
  },
  {
   "cell_type": "code",
   "execution_count": 25,
   "id": "decbeff2-89d0-4f43-8464-1d69f782fbb6",
   "metadata": {},
   "outputs": [],
   "source": [
    "# Lol exactly the same\n",
    "# Second run library performs better, maybe the model learns over time?\n",
    "# Third run ours performs better, some black magic indeed\n",
    "# Fourth Run Similar performance across all, it's just normalisation"
   ]
  },
  {
   "cell_type": "code",
   "execution_count": 26,
   "id": "81d63e09-f695-4e51-8580-50f2a7f2c088",
   "metadata": {},
   "outputs": [],
   "source": [
    "infori = pd.read_csv('data/winequality-red.csv')"
   ]
  },
  {
   "cell_type": "code",
   "execution_count": 27,
   "id": "327f53fd-c41b-484b-b39d-aad4fd0c23fe",
   "metadata": {},
   "outputs": [],
   "source": [
    "x_train, x_test, y_train, y_test = train_test_split(infori[infori.columns[0:11]], infori['quality'], test_size=0.25, random_state=0)"
   ]
  },
  {
   "cell_type": "code",
   "execution_count": 28,
   "id": "1dd91729-ebac-4dd1-81e5-ba1f155b312a",
   "metadata": {},
   "outputs": [
    {
     "data": {
      "text/html": [
       "<div>\n",
       "<style scoped>\n",
       "    .dataframe tbody tr th:only-of-type {\n",
       "        vertical-align: middle;\n",
       "    }\n",
       "\n",
       "    .dataframe tbody tr th {\n",
       "        vertical-align: top;\n",
       "    }\n",
       "\n",
       "    .dataframe thead th {\n",
       "        text-align: right;\n",
       "    }\n",
       "</style>\n",
       "<table border=\"1\" class=\"dataframe\">\n",
       "  <thead>\n",
       "    <tr style=\"text-align: right;\">\n",
       "      <th></th>\n",
       "      <th>fixed acidity</th>\n",
       "      <th>volatile acidity</th>\n",
       "      <th>citric acid</th>\n",
       "      <th>residual sugar</th>\n",
       "      <th>chlorides</th>\n",
       "      <th>free sulfur dioxide</th>\n",
       "      <th>total sulfur dioxide</th>\n",
       "      <th>density</th>\n",
       "      <th>pH</th>\n",
       "      <th>sulphates</th>\n",
       "      <th>alcohol</th>\n",
       "    </tr>\n",
       "  </thead>\n",
       "  <tbody>\n",
       "    <tr>\n",
       "      <th>140</th>\n",
       "      <td>0.035686</td>\n",
       "      <td>1.169651</td>\n",
       "      <td>-0.827626</td>\n",
       "      <td>-0.445166</td>\n",
       "      <td>0.057612</td>\n",
       "      <td>-0.012491</td>\n",
       "      <td>0.459672</td>\n",
       "      <td>-0.136860</td>\n",
       "      <td>-0.770363</td>\n",
       "      <td>0.911572</td>\n",
       "      <td>-0.756285</td>\n",
       "    </tr>\n",
       "    <tr>\n",
       "      <th>1232</th>\n",
       "      <td>-0.425017</td>\n",
       "      <td>-0.547120</td>\n",
       "      <td>0.097474</td>\n",
       "      <td>-0.309833</td>\n",
       "      <td>-0.254013</td>\n",
       "      <td>0.270093</td>\n",
       "      <td>0.547912</td>\n",
       "      <td>0.224689</td>\n",
       "      <td>0.590541</td>\n",
       "      <td>-0.106043</td>\n",
       "      <td>-0.850126</td>\n",
       "    </tr>\n",
       "    <tr>\n",
       "      <th>720</th>\n",
       "      <td>0.035686</td>\n",
       "      <td>0.161388</td>\n",
       "      <td>-1.187388</td>\n",
       "      <td>-0.377500</td>\n",
       "      <td>-0.108588</td>\n",
       "      <td>-0.577660</td>\n",
       "      <td>-0.746275</td>\n",
       "      <td>0.447998</td>\n",
       "      <td>-0.575948</td>\n",
       "      <td>-1.236726</td>\n",
       "      <td>-0.756285</td>\n",
       "    </tr>\n",
       "    <tr>\n",
       "      <th>77</th>\n",
       "      <td>-0.885720</td>\n",
       "      <td>1.387654</td>\n",
       "      <td>-1.392965</td>\n",
       "      <td>-0.106833</td>\n",
       "      <td>0.348462</td>\n",
       "      <td>-0.200881</td>\n",
       "      <td>-0.510968</td>\n",
       "      <td>-0.083691</td>\n",
       "      <td>1.368200</td>\n",
       "      <td>-0.614850</td>\n",
       "      <td>0.275966</td>\n",
       "    </tr>\n",
       "    <tr>\n",
       "      <th>39</th>\n",
       "      <td>-0.597781</td>\n",
       "      <td>-0.438119</td>\n",
       "      <td>0.457235</td>\n",
       "      <td>2.261498</td>\n",
       "      <td>-0.274788</td>\n",
       "      <td>-0.389271</td>\n",
       "      <td>1.165593</td>\n",
       "      <td>0.554336</td>\n",
       "      <td>0.136907</td>\n",
       "      <td>0.968106</td>\n",
       "      <td>0.088284</td>\n",
       "    </tr>\n",
       "    <tr>\n",
       "      <th>...</th>\n",
       "      <td>...</td>\n",
       "      <td>...</td>\n",
       "      <td>...</td>\n",
       "      <td>...</td>\n",
       "      <td>...</td>\n",
       "      <td>...</td>\n",
       "      <td>...</td>\n",
       "      <td>...</td>\n",
       "      <td>...</td>\n",
       "      <td>...</td>\n",
       "      <td>...</td>\n",
       "    </tr>\n",
       "    <tr>\n",
       "      <th>763</th>\n",
       "      <td>0.553977</td>\n",
       "      <td>0.679145</td>\n",
       "      <td>-0.056710</td>\n",
       "      <td>-0.377500</td>\n",
       "      <td>0.182262</td>\n",
       "      <td>-1.048634</td>\n",
       "      <td>-0.363901</td>\n",
       "      <td>0.331027</td>\n",
       "      <td>-0.381533</td>\n",
       "      <td>-1.349794</td>\n",
       "      <td>-0.756285</td>\n",
       "    </tr>\n",
       "    <tr>\n",
       "      <th>835</th>\n",
       "      <td>-0.425017</td>\n",
       "      <td>0.733646</td>\n",
       "      <td>-0.879021</td>\n",
       "      <td>-0.715833</td>\n",
       "      <td>-0.440988</td>\n",
       "      <td>1.023652</td>\n",
       "      <td>0.224366</td>\n",
       "      <td>-0.110276</td>\n",
       "      <td>0.525736</td>\n",
       "      <td>-0.840987</td>\n",
       "      <td>-1.037808</td>\n",
       "    </tr>\n",
       "    <tr>\n",
       "      <th>1216</th>\n",
       "      <td>-0.252253</td>\n",
       "      <td>0.215889</td>\n",
       "      <td>0.200263</td>\n",
       "      <td>-0.377500</td>\n",
       "      <td>-0.170913</td>\n",
       "      <td>-0.577660</td>\n",
       "      <td>0.930286</td>\n",
       "      <td>0.006696</td>\n",
       "      <td>-0.122313</td>\n",
       "      <td>0.176628</td>\n",
       "      <td>-0.850126</td>\n",
       "    </tr>\n",
       "    <tr>\n",
       "      <th>559</th>\n",
       "      <td>2.684730</td>\n",
       "      <td>-0.329118</td>\n",
       "      <td>1.125363</td>\n",
       "      <td>1.178833</td>\n",
       "      <td>-0.046263</td>\n",
       "      <td>-0.954440</td>\n",
       "      <td>-0.010941</td>\n",
       "      <td>2.840602</td>\n",
       "      <td>-0.057508</td>\n",
       "      <td>0.120094</td>\n",
       "      <td>2.152787</td>\n",
       "    </tr>\n",
       "    <tr>\n",
       "      <th>684</th>\n",
       "      <td>0.841917</td>\n",
       "      <td>2.450417</td>\n",
       "      <td>0.251657</td>\n",
       "      <td>-0.174500</td>\n",
       "      <td>-0.191688</td>\n",
       "      <td>1.777211</td>\n",
       "      <td>3.077460</td>\n",
       "      <td>0.660674</td>\n",
       "      <td>-0.381533</td>\n",
       "      <td>-1.010589</td>\n",
       "      <td>-0.943967</td>\n",
       "    </tr>\n",
       "  </tbody>\n",
       "</table>\n",
       "<p>1199 rows × 11 columns</p>\n",
       "</div>"
      ],
      "text/plain": [
       "      fixed acidity  volatile acidity  citric acid  residual sugar  chlorides  \\\n",
       "140        0.035686          1.169651    -0.827626       -0.445166   0.057612   \n",
       "1232      -0.425017         -0.547120     0.097474       -0.309833  -0.254013   \n",
       "720        0.035686          0.161388    -1.187388       -0.377500  -0.108588   \n",
       "77        -0.885720          1.387654    -1.392965       -0.106833   0.348462   \n",
       "39        -0.597781         -0.438119     0.457235        2.261498  -0.274788   \n",
       "...             ...               ...          ...             ...        ...   \n",
       "763        0.553977          0.679145    -0.056710       -0.377500   0.182262   \n",
       "835       -0.425017          0.733646    -0.879021       -0.715833  -0.440988   \n",
       "1216      -0.252253          0.215889     0.200263       -0.377500  -0.170913   \n",
       "559        2.684730         -0.329118     1.125363        1.178833  -0.046263   \n",
       "684        0.841917          2.450417     0.251657       -0.174500  -0.191688   \n",
       "\n",
       "      free sulfur dioxide  total sulfur dioxide   density        pH  \\\n",
       "140             -0.012491              0.459672 -0.136860 -0.770363   \n",
       "1232             0.270093              0.547912  0.224689  0.590541   \n",
       "720             -0.577660             -0.746275  0.447998 -0.575948   \n",
       "77              -0.200881             -0.510968 -0.083691  1.368200   \n",
       "39              -0.389271              1.165593  0.554336  0.136907   \n",
       "...                   ...                   ...       ...       ...   \n",
       "763             -1.048634             -0.363901  0.331027 -0.381533   \n",
       "835              1.023652              0.224366 -0.110276  0.525736   \n",
       "1216            -0.577660              0.930286  0.006696 -0.122313   \n",
       "559             -0.954440             -0.010941  2.840602 -0.057508   \n",
       "684              1.777211              3.077460  0.660674 -0.381533   \n",
       "\n",
       "      sulphates   alcohol  \n",
       "140    0.911572 -0.756285  \n",
       "1232  -0.106043 -0.850126  \n",
       "720   -1.236726 -0.756285  \n",
       "77    -0.614850  0.275966  \n",
       "39     0.968106  0.088284  \n",
       "...         ...       ...  \n",
       "763   -1.349794 -0.756285  \n",
       "835   -0.840987 -1.037808  \n",
       "1216   0.176628 -0.850126  \n",
       "559    0.120094  2.152787  \n",
       "684   -1.010589 -0.943967  \n",
       "\n",
       "[1199 rows x 11 columns]"
      ]
     },
     "execution_count": 28,
     "metadata": {},
     "output_type": "execute_result"
    }
   ],
   "source": [
    "x_act_t = normalise_all(x_train)\n",
    "x_act_t"
   ]
  },
  {
   "cell_type": "code",
   "execution_count": 29,
   "id": "344ff100-a8d0-4eae-9e7c-d3063647018e",
   "metadata": {},
   "outputs": [],
   "source": [
    "ypred0 = normalise_all(x_test).apply(lambda row: classify(x_act_t, y_train, row, 5), axis=1)"
   ]
  },
  {
   "cell_type": "code",
   "execution_count": 30,
   "id": "14c512c8-ea0b-4080-8f2a-124385b232f1",
   "metadata": {},
   "outputs": [
    {
     "data": {
      "text/plain": [
       "0.6"
      ]
     },
     "execution_count": 30,
     "metadata": {},
     "output_type": "execute_result"
    }
   ],
   "source": [
    "sklearn.metrics.accuracy_score(y_test, ypred0)"
   ]
  },
  {
   "cell_type": "code",
   "execution_count": 31,
   "id": "8d1546df-4774-45c6-ac53-82032d949bf0",
   "metadata": {},
   "outputs": [],
   "source": [
    "mdl = KNeighborsClassifier()"
   ]
  },
  {
   "cell_type": "code",
   "execution_count": 32,
   "id": "69fa9d85-cf84-4153-abc1-88e488cc0f89",
   "metadata": {},
   "outputs": [
    {
     "data": {
      "text/html": [
       "<style>#sk-container-id-2 {color: black;}#sk-container-id-2 pre{padding: 0;}#sk-container-id-2 div.sk-toggleable {background-color: white;}#sk-container-id-2 label.sk-toggleable__label {cursor: pointer;display: block;width: 100%;margin-bottom: 0;padding: 0.3em;box-sizing: border-box;text-align: center;}#sk-container-id-2 label.sk-toggleable__label-arrow:before {content: \"▸\";float: left;margin-right: 0.25em;color: #696969;}#sk-container-id-2 label.sk-toggleable__label-arrow:hover:before {color: black;}#sk-container-id-2 div.sk-estimator:hover label.sk-toggleable__label-arrow:before {color: black;}#sk-container-id-2 div.sk-toggleable__content {max-height: 0;max-width: 0;overflow: hidden;text-align: left;background-color: #f0f8ff;}#sk-container-id-2 div.sk-toggleable__content pre {margin: 0.2em;color: black;border-radius: 0.25em;background-color: #f0f8ff;}#sk-container-id-2 input.sk-toggleable__control:checked~div.sk-toggleable__content {max-height: 200px;max-width: 100%;overflow: auto;}#sk-container-id-2 input.sk-toggleable__control:checked~label.sk-toggleable__label-arrow:before {content: \"▾\";}#sk-container-id-2 div.sk-estimator input.sk-toggleable__control:checked~label.sk-toggleable__label {background-color: #d4ebff;}#sk-container-id-2 div.sk-label input.sk-toggleable__control:checked~label.sk-toggleable__label {background-color: #d4ebff;}#sk-container-id-2 input.sk-hidden--visually {border: 0;clip: rect(1px 1px 1px 1px);clip: rect(1px, 1px, 1px, 1px);height: 1px;margin: -1px;overflow: hidden;padding: 0;position: absolute;width: 1px;}#sk-container-id-2 div.sk-estimator {font-family: monospace;background-color: #f0f8ff;border: 1px dotted black;border-radius: 0.25em;box-sizing: border-box;margin-bottom: 0.5em;}#sk-container-id-2 div.sk-estimator:hover {background-color: #d4ebff;}#sk-container-id-2 div.sk-parallel-item::after {content: \"\";width: 100%;border-bottom: 1px solid gray;flex-grow: 1;}#sk-container-id-2 div.sk-label:hover label.sk-toggleable__label {background-color: #d4ebff;}#sk-container-id-2 div.sk-serial::before {content: \"\";position: absolute;border-left: 1px solid gray;box-sizing: border-box;top: 0;bottom: 0;left: 50%;z-index: 0;}#sk-container-id-2 div.sk-serial {display: flex;flex-direction: column;align-items: center;background-color: white;padding-right: 0.2em;padding-left: 0.2em;position: relative;}#sk-container-id-2 div.sk-item {position: relative;z-index: 1;}#sk-container-id-2 div.sk-parallel {display: flex;align-items: stretch;justify-content: center;background-color: white;position: relative;}#sk-container-id-2 div.sk-item::before, #sk-container-id-2 div.sk-parallel-item::before {content: \"\";position: absolute;border-left: 1px solid gray;box-sizing: border-box;top: 0;bottom: 0;left: 50%;z-index: -1;}#sk-container-id-2 div.sk-parallel-item {display: flex;flex-direction: column;z-index: 1;position: relative;background-color: white;}#sk-container-id-2 div.sk-parallel-item:first-child::after {align-self: flex-end;width: 50%;}#sk-container-id-2 div.sk-parallel-item:last-child::after {align-self: flex-start;width: 50%;}#sk-container-id-2 div.sk-parallel-item:only-child::after {width: 0;}#sk-container-id-2 div.sk-dashed-wrapped {border: 1px dashed gray;margin: 0 0.4em 0.5em 0.4em;box-sizing: border-box;padding-bottom: 0.4em;background-color: white;}#sk-container-id-2 div.sk-label label {font-family: monospace;font-weight: bold;display: inline-block;line-height: 1.2em;}#sk-container-id-2 div.sk-label-container {text-align: center;}#sk-container-id-2 div.sk-container {/* jupyter's `normalize.less` sets `[hidden] { display: none; }` but bootstrap.min.css set `[hidden] { display: none !important; }` so we also need the `!important` here to be able to override the default hidden behavior on the sphinx rendered scikit-learn.org. See: https://github.com/scikit-learn/scikit-learn/issues/21755 */display: inline-block !important;position: relative;}#sk-container-id-2 div.sk-text-repr-fallback {display: none;}</style><div id=\"sk-container-id-2\" class=\"sk-top-container\"><div class=\"sk-text-repr-fallback\"><pre>KNeighborsClassifier()</pre><b>In a Jupyter environment, please rerun this cell to show the HTML representation or trust the notebook. <br />On GitHub, the HTML representation is unable to render, please try loading this page with nbviewer.org.</b></div><div class=\"sk-container\" hidden><div class=\"sk-item\"><div class=\"sk-estimator sk-toggleable\"><input class=\"sk-toggleable__control sk-hidden--visually\" id=\"sk-estimator-id-2\" type=\"checkbox\" checked><label for=\"sk-estimator-id-2\" class=\"sk-toggleable__label sk-toggleable__label-arrow\">KNeighborsClassifier</label><div class=\"sk-toggleable__content\"><pre>KNeighborsClassifier()</pre></div></div></div></div></div>"
      ],
      "text/plain": [
       "KNeighborsClassifier()"
      ]
     },
     "execution_count": 32,
     "metadata": {},
     "output_type": "execute_result"
    }
   ],
   "source": [
    "mdl.fit(x_train, y_train)"
   ]
  },
  {
   "cell_type": "code",
   "execution_count": 33,
   "id": "f65c3000-2116-438f-ad3d-917fc1700c9f",
   "metadata": {},
   "outputs": [],
   "source": [
    "ypred1 = mdl.predict(x_test)"
   ]
  },
  {
   "cell_type": "code",
   "execution_count": 34,
   "id": "ac40cf78-bdf9-4381-b9c0-c29a78ab703d",
   "metadata": {},
   "outputs": [
    {
     "data": {
      "text/plain": [
       "0.47"
      ]
     },
     "execution_count": 34,
     "metadata": {},
     "output_type": "execute_result"
    }
   ],
   "source": [
    "sklearn.metrics.accuracy_score(y_test, ypred1)"
   ]
  },
  {
   "cell_type": "code",
   "execution_count": 35,
   "id": "984c8a52-c415-4595-8f68-bd4bcdc3d75e",
   "metadata": {},
   "outputs": [],
   "source": [
    "mdl = KNeighborsClassifier()\n",
    "mdl.fit(x_act_t, y_train)\n",
    "ypred2 = mdl.predict(normalise_all(x_test))"
   ]
  },
  {
   "cell_type": "code",
   "execution_count": 36,
   "id": "95eff34d-1dc6-4d7c-8357-960b36bf0205",
   "metadata": {},
   "outputs": [
    {
     "data": {
      "text/plain": [
       "0.605"
      ]
     },
     "execution_count": 36,
     "metadata": {},
     "output_type": "execute_result"
    }
   ],
   "source": [
    "sklearn.metrics.accuracy_score(y_test, ypred2)"
   ]
  },
  {
   "cell_type": "code",
   "execution_count": null,
   "id": "60cf8529-8235-498c-adcb-012c9a9dda48",
   "metadata": {},
   "outputs": [],
   "source": []
  }
 ],
 "metadata": {
  "kernelspec": {
   "display_name": "Python 3 (ipykernel)",
   "language": "python",
   "name": "python3"
  },
  "language_info": {
   "codemirror_mode": {
    "name": "ipython",
    "version": 3
   },
   "file_extension": ".py",
   "mimetype": "text/x-python",
   "name": "python",
   "nbconvert_exporter": "python",
   "pygments_lexer": "ipython3",
   "version": "3.11.5"
  }
 },
 "nbformat": 4,
 "nbformat_minor": 5
}
