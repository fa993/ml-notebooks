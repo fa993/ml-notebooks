{
 "cells": [
  {
   "cell_type": "markdown",
   "id": "eab42063-f81f-4306-9584-2d3d55d785c1",
   "metadata": {},
   "source": [
    "Types of Learning:\n",
    "1) Supervised\n",
    "2) Unsupervised\n",
    "3) Reinforcement\n",
    "4) Semi-supervised"
   ]
  },
  {
   "cell_type": "raw",
   "id": "d9505cec-949e-40bf-a724-280d00618b0e",
   "metadata": {},
   "source": [
    "Supervised: Operates on labelled data, maps i/p to o/p\n",
    "Types: \n",
    "Regression: Find a continuous curve for data points (Simple, Multivariate, Lasso, Decision Tree)\n",
    "Classification: Find which categories input belongs to (Random Forest, SVM, Logistic Regression, Decision Tree)"
   ]
  },
  {
   "cell_type": "raw",
   "id": "ae36a168-3034-45b2-a7d4-a7d133568cd9",
   "metadata": {},
   "source": [
    "Unsupervised: Unlabelled data, find hidden patterns or groups data acc to unknown rule"
   ]
  },
  {
   "cell_type": "raw",
   "id": "34eb1d08-78c9-45a9-b074-40e8d6ae1754",
   "metadata": {},
   "source": [
    "Clustering: Find groups according to location of data points itself, basically cluster the data by similarities"
   ]
  },
  {
   "cell_type": "markdown",
   "id": "c374f15e-b334-4301-b91f-f50f16cb206c",
   "metadata": {},
   "source": [
    "Association: Finds which group of data is associated with others"
   ]
  },
  {
   "cell_type": "raw",
   "id": "36eedf80-82da-400f-8a8e-f1adadf14534",
   "metadata": {},
   "source": [
    "Semi-supervised: Middle ground between 1 and 2 Uses clustering to assign some sort of labels and then goes ahead with supervised learning ( one way ) but variations have some combo of unsup + sup"
   ]
  },
  {
   "cell_type": "markdown",
   "id": "efd56fa3-f339-417a-be48-2f4d58d912b1",
   "metadata": {},
   "source": [
    "Reinforcement Learning: Carrot and Stick, an agent interacts with environment and events. Positive RL rewards favourble actions and Negative RL punishes unfavourable actions."
   ]
  },
  {
   "cell_type": "raw",
   "id": "76238703-ea45-428c-ae04-3c4fafbbf46e",
   "metadata": {},
   "source": [
    "Linear Regression: \n",
    "Single Linear regression:"
   ]
  },
  {
   "cell_type": "code",
   "execution_count": 1,
   "id": "c8741128-2abb-4a42-8a86-c84b5103209f",
   "metadata": {},
   "outputs": [],
   "source": [
    "import numpy as np # linear algebra\n",
    "import pandas as pd # data processing, CSV file I/O (e.g. pd.read_csv)\n",
    "from matplotlib import pyplot as plt\n",
    "import seaborn as sns"
   ]
  },
  {
   "cell_type": "code",
   "execution_count": 2,
   "id": "0d62a11d-4758-40eb-a682-d1bf7273e7f5",
   "metadata": {},
   "outputs": [],
   "source": [
    "tvinf = pd.read_csv('data/tvmarketing.csv')"
   ]
  },
  {
   "cell_type": "code",
   "execution_count": 3,
   "id": "e4a46f73-cab0-4555-a9b5-6ebb2d77a6f3",
   "metadata": {},
   "outputs": [
    {
     "name": "stdout",
     "output_type": "stream",
     "text": [
      "<class 'pandas.core.frame.DataFrame'>\n",
      "RangeIndex: 200 entries, 0 to 199\n",
      "Data columns (total 2 columns):\n",
      " #   Column  Non-Null Count  Dtype  \n",
      "---  ------  --------------  -----  \n",
      " 0   TV      200 non-null    float64\n",
      " 1   Sales   200 non-null    float64\n",
      "dtypes: float64(2)\n",
      "memory usage: 3.3 KB\n"
     ]
    }
   ],
   "source": [
    "tvinf.info()"
   ]
  },
  {
   "cell_type": "code",
   "execution_count": 4,
   "id": "5691a331-47e8-4649-b2b1-ce9e573f4a94",
   "metadata": {},
   "outputs": [],
   "source": [
    "# Simple 2 column data let's do single variable regression\n",
    "# this is data of sales achieved(sales) vs budget for that tv show (TV)"
   ]
  },
  {
   "cell_type": "code",
   "execution_count": 5,
   "id": "02093cf5-d2bc-4ffd-8f62-54cff4dcc066",
   "metadata": {},
   "outputs": [
    {
     "data": {
      "text/plain": [
       "<Axes: xlabel='TV', ylabel='Sales'>"
      ]
     },
     "execution_count": 5,
     "metadata": {},
     "output_type": "execute_result"
    },
    {
     "data": {
      "image/png": "[encoded data removed]",
      "text/plain": [
       "<Figure size 640x480 with 1 Axes>"
      ]
     },
     "metadata": {},
     "output_type": "display_data"
    }
   ],
   "source": [
    "tvinf.plot(x='TV', y='Sales', kind='scatter')"
   ]
  },
  {
   "cell_type": "code",
   "execution_count": 6,
   "id": "c21a171a-b183-47f7-a581-c3a484e359b1",
   "metadata": {},
   "outputs": [],
   "source": [
    "# Good plot for linear regression line will come cleanly"
   ]
  },
  {
   "cell_type": "code",
   "execution_count": 7,
   "id": "d939aac5-01f7-4820-8ec7-b775269f7722",
   "metadata": {},
   "outputs": [],
   "source": [
    "# Equation for simple linear regression \n",
    "# Y = mX + c\n",
    "# m = (sum(y)*sum(x^2) - sum(x)*sum(xy)) / (n*sum(x^2) - sum(x)^2)\n",
    "# c = (n*sum(xy) - sum(x)*sum(y)) / (n*sum(x^2) - sum(x)^2)"
   ]
  },
  {
   "cell_type": "code",
   "execution_count": 8,
   "id": "e2b94984-45f9-4a4b-b9d6-3d81ad66d821",
   "metadata": {},
   "outputs": [],
   "source": [
    "tvinf['x'] = tvinf['TV']"
   ]
  },
  {
   "cell_type": "code",
   "execution_count": 9,
   "id": "94ab67b1-1ca4-4945-b3f6-5e803ec9a1b9",
   "metadata": {},
   "outputs": [],
   "source": [
    "tvinf['y'] = tvinf['Sales']"
   ]
  },
  {
   "cell_type": "code",
   "execution_count": 10,
   "id": "f57b8381-02ad-4b61-8b58-f9454b577e8f",
   "metadata": {},
   "outputs": [],
   "source": [
    "tvinf['xy'] = tvinf['x'] * tvinf['y']"
   ]
  },
  {
   "cell_type": "code",
   "execution_count": 11,
   "id": "4a8d41c8-81db-409d-975c-46102a87c06a",
   "metadata": {},
   "outputs": [
    {
     "name": "stdout",
     "output_type": "stream",
     "text": [
      "<class 'pandas.core.frame.DataFrame'>\n",
      "RangeIndex: 200 entries, 0 to 199\n",
      "Data columns (total 5 columns):\n",
      " #   Column  Non-Null Count  Dtype  \n",
      "---  ------  --------------  -----  \n",
      " 0   TV      200 non-null    float64\n",
      " 1   Sales   200 non-null    float64\n",
      " 2   x       200 non-null    float64\n",
      " 3   y       200 non-null    float64\n",
      " 4   xy      200 non-null    float64\n",
      "dtypes: float64(5)\n",
      "memory usage: 7.9 KB\n"
     ]
    }
   ],
   "source": [
    "tvinf.info()"
   ]
  },
  {
   "cell_type": "code",
   "execution_count": 12,
   "id": "66c94c33-715e-4371-a17c-ec73078d8e87",
   "metadata": {},
   "outputs": [
    {
     "data": {
      "text/html": [
       "<div>\n",
       "<style scoped>\n",
       "    .dataframe tbody tr th:only-of-type {\n",
       "        vertical-align: middle;\n",
       "    }\n",
       "\n",
       "    .dataframe tbody tr th {\n",
       "        vertical-align: top;\n",
       "    }\n",
       "\n",
       "    .dataframe thead th {\n",
       "        text-align: right;\n",
       "    }\n",
       "</style>\n",
       "<table border=\"1\" class=\"dataframe\">\n",
       "  <thead>\n",
       "    <tr style=\"text-align: right;\">\n",
       "      <th></th>\n",
       "      <th>TV</th>\n",
       "      <th>Sales</th>\n",
       "      <th>x</th>\n",
       "      <th>y</th>\n",
       "      <th>xy</th>\n",
       "    </tr>\n",
       "  </thead>\n",
       "  <tbody>\n",
       "    <tr>\n",
       "      <th>0</th>\n",
       "      <td>230.1</td>\n",
       "      <td>22.1</td>\n",
       "      <td>230.1</td>\n",
       "      <td>22.1</td>\n",
       "      <td>5085.21</td>\n",
       "    </tr>\n",
       "    <tr>\n",
       "      <th>1</th>\n",
       "      <td>44.5</td>\n",
       "      <td>10.4</td>\n",
       "      <td>44.5</td>\n",
       "      <td>10.4</td>\n",
       "      <td>462.80</td>\n",
       "    </tr>\n",
       "    <tr>\n",
       "      <th>2</th>\n",
       "      <td>17.2</td>\n",
       "      <td>9.3</td>\n",
       "      <td>17.2</td>\n",
       "      <td>9.3</td>\n",
       "      <td>159.96</td>\n",
       "    </tr>\n",
       "    <tr>\n",
       "      <th>3</th>\n",
       "      <td>151.5</td>\n",
       "      <td>18.5</td>\n",
       "      <td>151.5</td>\n",
       "      <td>18.5</td>\n",
       "      <td>2802.75</td>\n",
       "    </tr>\n",
       "    <tr>\n",
       "      <th>4</th>\n",
       "      <td>180.8</td>\n",
       "      <td>12.9</td>\n",
       "      <td>180.8</td>\n",
       "      <td>12.9</td>\n",
       "      <td>2332.32</td>\n",
       "    </tr>\n",
       "  </tbody>\n",
       "</table>\n",
       "</div>"
      ],
      "text/plain": [
       "      TV  Sales      x     y       xy\n",
       "0  230.1   22.1  230.1  22.1  5085.21\n",
       "1   44.5   10.4   44.5  10.4   462.80\n",
       "2   17.2    9.3   17.2   9.3   159.96\n",
       "3  151.5   18.5  151.5  18.5  2802.75\n",
       "4  180.8   12.9  180.8  12.9  2332.32"
      ]
     },
     "execution_count": 12,
     "metadata": {},
     "output_type": "execute_result"
    }
   ],
   "source": [
    "tvinf.head()"
   ]
  },
  {
   "cell_type": "code",
   "execution_count": 13,
   "id": "cd7a735d-9cfc-42c6-887a-d41fd6de4cba",
   "metadata": {},
   "outputs": [],
   "source": [
    "tvinf['x2'] = tvinf['x'] * tvinf['x']"
   ]
  },
  {
   "cell_type": "code",
   "execution_count": 14,
   "id": "104f9b6c-3496-4897-9c9f-ea43322a0eb8",
   "metadata": {},
   "outputs": [],
   "source": [
    "tvinf['y2'] = tvinf['y'] * tvinf['y']"
   ]
  },
  {
   "cell_type": "code",
   "execution_count": 15,
   "id": "2b358b00-8c46-492a-b6a2-9bf0cafad4f1",
   "metadata": {},
   "outputs": [
    {
     "data": {
      "text/html": [
       "<div>\n",
       "<style scoped>\n",
       "    .dataframe tbody tr th:only-of-type {\n",
       "        vertical-align: middle;\n",
       "    }\n",
       "\n",
       "    .dataframe tbody tr th {\n",
       "        vertical-align: top;\n",
       "    }\n",
       "\n",
       "    .dataframe thead th {\n",
       "        text-align: right;\n",
       "    }\n",
       "</style>\n",
       "<table border=\"1\" class=\"dataframe\">\n",
       "  <thead>\n",
       "    <tr style=\"text-align: right;\">\n",
       "      <th></th>\n",
       "      <th>TV</th>\n",
       "      <th>Sales</th>\n",
       "      <th>x</th>\n",
       "      <th>y</th>\n",
       "      <th>xy</th>\n",
       "      <th>x2</th>\n",
       "      <th>y2</th>\n",
       "    </tr>\n",
       "  </thead>\n",
       "  <tbody>\n",
       "    <tr>\n",
       "      <th>0</th>\n",
       "      <td>230.1</td>\n",
       "      <td>22.1</td>\n",
       "      <td>230.1</td>\n",
       "      <td>22.1</td>\n",
       "      <td>5085.21</td>\n",
       "      <td>52946.01</td>\n",
       "      <td>488.41</td>\n",
       "    </tr>\n",
       "    <tr>\n",
       "      <th>1</th>\n",
       "      <td>44.5</td>\n",
       "      <td>10.4</td>\n",
       "      <td>44.5</td>\n",
       "      <td>10.4</td>\n",
       "      <td>462.80</td>\n",
       "      <td>1980.25</td>\n",
       "      <td>108.16</td>\n",
       "    </tr>\n",
       "    <tr>\n",
       "      <th>2</th>\n",
       "      <td>17.2</td>\n",
       "      <td>9.3</td>\n",
       "      <td>17.2</td>\n",
       "      <td>9.3</td>\n",
       "      <td>159.96</td>\n",
       "      <td>295.84</td>\n",
       "      <td>86.49</td>\n",
       "    </tr>\n",
       "    <tr>\n",
       "      <th>3</th>\n",
       "      <td>151.5</td>\n",
       "      <td>18.5</td>\n",
       "      <td>151.5</td>\n",
       "      <td>18.5</td>\n",
       "      <td>2802.75</td>\n",
       "      <td>22952.25</td>\n",
       "      <td>342.25</td>\n",
       "    </tr>\n",
       "    <tr>\n",
       "      <th>4</th>\n",
       "      <td>180.8</td>\n",
       "      <td>12.9</td>\n",
       "      <td>180.8</td>\n",
       "      <td>12.9</td>\n",
       "      <td>2332.32</td>\n",
       "      <td>32688.64</td>\n",
       "      <td>166.41</td>\n",
       "    </tr>\n",
       "  </tbody>\n",
       "</table>\n",
       "</div>"
      ],
      "text/plain": [
       "      TV  Sales      x     y       xy        x2      y2\n",
       "0  230.1   22.1  230.1  22.1  5085.21  52946.01  488.41\n",
       "1   44.5   10.4   44.5  10.4   462.80   1980.25  108.16\n",
       "2   17.2    9.3   17.2   9.3   159.96    295.84   86.49\n",
       "3  151.5   18.5  151.5  18.5  2802.75  22952.25  342.25\n",
       "4  180.8   12.9  180.8  12.9  2332.32  32688.64  166.41"
      ]
     },
     "execution_count": 15,
     "metadata": {},
     "output_type": "execute_result"
    }
   ],
   "source": [
    "tvinf.head()"
   ]
  },
  {
   "cell_type": "code",
   "execution_count": 16,
   "id": "ba116dbf-38fc-4876-8197-8acc4726d356",
   "metadata": {},
   "outputs": [
    {
     "data": {
      "text/plain": [
       "29408.5"
      ]
     },
     "execution_count": 16,
     "metadata": {},
     "output_type": "execute_result"
    }
   ],
   "source": [
    "tvinf['x'].sum()\n"
   ]
  },
  {
   "cell_type": "code",
   "execution_count": 17,
   "id": "3a58e80d-6faf-41e3-80cc-1430f70f7841",
   "metadata": {},
   "outputs": [],
   "source": [
    "c = (tvinf['y'].sum()*tvinf['x2'].sum() - tvinf['x'].sum() *tvinf['xy'].sum()) / (len(tvinf)*tvinf['x2'].sum() - tvinf['x'].sum()**2)\n",
    "m = (len(tvinf)*tvinf['xy'].sum() - tvinf['x'].sum()*tvinf['y'].sum()) /  (len(tvinf)*tvinf['x2'].sum() - tvinf['x'].sum()**2)\n",
    "\n",
    "\n"
   ]
  },
  {
   "cell_type": "code",
   "execution_count": 18,
   "id": "695f1369-19cc-4089-973f-16bf0c2c6aef",
   "metadata": {},
   "outputs": [
    {
     "data": {
      "text/plain": [
       "0.04753664043301974"
      ]
     },
     "execution_count": 18,
     "metadata": {},
     "output_type": "execute_result"
    }
   ],
   "source": [
    "m"
   ]
  },
  {
   "cell_type": "code",
   "execution_count": 19,
   "id": "0457b376-5c80-4c86-b3a0-743c3033dc12",
   "metadata": {},
   "outputs": [
    {
     "data": {
      "text/plain": [
       "7.032593549127694"
      ]
     },
     "execution_count": 19,
     "metadata": {},
     "output_type": "execute_result"
    }
   ],
   "source": [
    "c"
   ]
  },
  {
   "cell_type": "code",
   "execution_count": 20,
   "id": "27247987-7f42-4e0b-8e8a-d53701e3142b",
   "metadata": {},
   "outputs": [],
   "source": [
    "def abline(slope, intercept):\n",
    "    \"\"\"Plot a line from slope and intercept\"\"\"\n",
    "    axes = plt.gca()\n",
    "    x_vals = np.array(axes.get_xlim())\n",
    "    y_vals = intercept + slope * x_vals\n",
    "    ax = plt.plot(x_vals, y_vals, 'r--', )\n",
    "    return ax\n"
   ]
  },
  {
   "cell_type": "code",
   "execution_count": 21,
   "id": "3fbb63f6-fc7e-4c57-b7a4-791aeca5e558",
   "metadata": {},
   "outputs": [
    {
     "data": {
      "image/png": "[encoded data removed]",
      "text/plain": [
       "<Figure size 640x480 with 1 Axes>"
      ]
     },
     "metadata": {},
     "output_type": "display_data"
    }
   ],
   "source": [
    "plt.scatter(tvinf[\"x\"], tvinf[\"y\"])\n",
    "ax = abline(m, c)"
   ]
  },
  {
   "cell_type": "code",
   "execution_count": 22,
   "id": "d31d1dae-7c75-4e78-8d46-471cb3b928f0",
   "metadata": {},
   "outputs": [],
   "source": [
    "# Looks decent"
   ]
  },
  {
   "cell_type": "code",
   "execution_count": 23,
   "id": "1a4712f5-3f26-472a-af30-0f1497fa38d7",
   "metadata": {},
   "outputs": [],
   "source": [
    "import io, os, sys, types\n",
    "from IPython import get_ipython\n",
    "from nbformat import read\n",
    "from IPython.core.interactiveshell import InteractiveShell\n",
    "\n",
    "def find_notebook(fullname, path=None):\n",
    "    \"\"\"find a notebook, given its fully qualified name and an optional path\n",
    "\n",
    "    This turns \"foo.bar\" into \"foo/bar.ipynb\"\n",
    "    and tries turning \"Foo_Bar\" into \"Foo Bar\" if Foo_Bar\n",
    "    does not exist.\n",
    "    \"\"\"\n",
    "    name = fullname.rsplit('.', 1)[-1]\n",
    "    if not path:\n",
    "        path = ['']\n",
    "    for d in path:\n",
    "        nb_path = os.path.join(d, name + \".ipynb\")\n",
    "        if os.path.isfile(nb_path):\n",
    "            return nb_path\n",
    "        # let import Notebook_Name find \"Notebook Name.ipynb\"\n",
    "        nb_path = nb_path.replace(\"_\", \" \")\n",
    "        if os.path.isfile(nb_path):\n",
    "            return nb_path\n",
    "\n",
    "class NotebookLoader(object):\n",
    "    \"\"\"Module Loader for Jupyter Notebooks\"\"\"\n",
    "\n",
    "    def __init__(self, path=None):\n",
    "        self.shell = InteractiveShell.instance()\n",
    "        self.path = path\n",
    "\n",
    "    def load_module(self, fullname):\n",
    "        \"\"\"import a notebook as a module\"\"\"\n",
    "        path = find_notebook(fullname, self.path)\n",
    "\n",
    "        print(\"importing Jupyter notebook from %s\" % path)\n",
    "\n",
    "        # load the notebook object\n",
    "        with io.open(path, 'r', encoding='utf-8') as f:\n",
    "            nb = read(f, 4)\n",
    "\n",
    "        # create the module and add it to sys.modules\n",
    "        # if name in sys.modules:\n",
    "        #    return sys.modules[name]\n",
    "        mod = types.ModuleType(fullname)\n",
    "        mod.__file__ = path\n",
    "        mod.__loader__ = self\n",
    "        mod.__dict__['get_ipython'] = get_ipython\n",
    "        sys.modules[fullname] = mod\n",
    "\n",
    "        # extra work to ensure that magics that would affect the user_ns\n",
    "        # actually affect the notebook module's ns\n",
    "        save_user_ns = self.shell.user_ns\n",
    "        self.shell.user_ns = mod.__dict__\n",
    "\n",
    "        try:\n",
    "            for cell in nb.cells:\n",
    "                if cell.cell_type == 'code':\n",
    "                    # transform the input to executable Python\n",
    "                    code = self.shell.input_transformer_manager.transform_cell(cell.source)\n",
    "                    # run the code in themodule\n",
    "                    exec(code, mod.__dict__)\n",
    "        finally:\n",
    "            self.shell.user_ns = save_user_ns\n",
    "        return mod\n",
    "\n",
    "class NotebookFinder(object):\n",
    "    \"\"\"Module finder that locates Jupyter Notebooks\"\"\"\n",
    "\n",
    "    def __init__(self):\n",
    "        self.loaders = {}\n",
    "\n",
    "    def find_module(self, fullname, path=None):\n",
    "        nb_path = find_notebook(fullname, path)\n",
    "        if not nb_path:\n",
    "            return\n",
    "\n",
    "        key = path\n",
    "        if path:\n",
    "            # lists aren't hashable\n",
    "            key = os.path.sep.join(path)\n",
    "\n",
    "        if key not in self.loaders:\n",
    "            self.loaders[key] = NotebookLoader(path)\n",
    "        return self.loaders[key]\n",
    "\n",
    "sys.meta_path.append(NotebookFinder())"
   ]
  },
  {
   "cell_type": "code",
   "execution_count": 24,
   "id": "73d1bd5b-06b5-446f-96e5-0cdfa6d5c64f",
   "metadata": {},
   "outputs": [
    {
     "name": "stdout",
     "output_type": "stream",
     "text": [
      "GradientDescent.ipynb           RegrMetrics.ipynb\n",
      "IntroAndSimpleLinearRegr.ipynb  Untitled.ipynb\n",
      "MultiRegrLib.ipynb              \u001b[34mdata\u001b[m\u001b[m/\n",
      "MultipleLineRegr.ipynb\n"
     ]
    }
   ],
   "source": [
    "ls "
   ]
  },
  {
   "cell_type": "code",
   "execution_count": 25,
   "id": "2eb6b257-9069-4dba-b9a3-ecf08146f002",
   "metadata": {},
   "outputs": [
    {
     "name": "stdout",
     "output_type": "stream",
     "text": [
      "importing Jupyter notebook from RegrMetrics.ipynb\n"
     ]
    }
   ],
   "source": [
    "import RegrMetrics"
   ]
  },
  {
   "cell_type": "code",
   "execution_count": 26,
   "id": "9528d5d9-e98d-4b9f-b3ba-90214cab22ec",
   "metadata": {},
   "outputs": [],
   "source": [
    "ypr = m * tvinf['x'] + c"
   ]
  },
  {
   "cell_type": "code",
   "execution_count": 27,
   "id": "4276f678-4d81-4fed-aeda-3b720e6b4c21",
   "metadata": {},
   "outputs": [
    {
     "data": {
      "text/plain": [
       "2.5498060389274864"
      ]
     },
     "execution_count": 27,
     "metadata": {},
     "output_type": "execute_result"
    }
   ],
   "source": [
    "RegrMetrics.mae(ypr, tvinf['y'])"
   ]
  },
  {
   "cell_type": "code",
   "execution_count": 28,
   "id": "96c7467d-2c90-4732-91ca-f90702e3a03a",
   "metadata": {},
   "outputs": [
    {
     "data": {
      "text/plain": [
       "10.512652915656759"
      ]
     },
     "execution_count": 28,
     "metadata": {},
     "output_type": "execute_result"
    }
   ],
   "source": [
    "RegrMetrics.mse(ypr, tvinf['y'])"
   ]
  },
  {
   "cell_type": "code",
   "execution_count": 29,
   "id": "c8b3bf6c-8897-403d-8b38-221524703e96",
   "metadata": {},
   "outputs": [
    {
     "data": {
      "text/plain": [
       "3.2423221486546887"
      ]
     },
     "execution_count": 29,
     "metadata": {},
     "output_type": "execute_result"
    }
   ],
   "source": [
    "RegrMetrics.rmse(ypr, tvinf['y'])"
   ]
  },
  {
   "cell_type": "code",
   "execution_count": 30,
   "id": "1feb98aa-989a-4643-bbe4-ca44fc96970b",
   "metadata": {},
   "outputs": [
    {
     "data": {
      "text/plain": [
       "1.1762897856361971"
      ]
     },
     "execution_count": 30,
     "metadata": {},
     "output_type": "execute_result"
    }
   ],
   "source": [
    "RegrMetrics.rmsle(ypr, tvinf['y'])"
   ]
  },
  {
   "cell_type": "code",
   "execution_count": 31,
   "id": "102411d4-54dc-4d22-9177-bf1a7493b381",
   "metadata": {},
   "outputs": [
    {
     "data": {
      "text/plain": [
       "0.611875050850071"
      ]
     },
     "execution_count": 31,
     "metadata": {},
     "output_type": "execute_result"
    }
   ],
   "source": [
    "RegrMetrics.rsqr(ypr, tvinf['y'], tvinf['y'].mean())"
   ]
  }
 ],
 "metadata": {
  "kernelspec": {
   "display_name": "Python 3 (ipykernel)",
   "language": "python",
   "name": "python3"
  },
  "language_info": {
   "codemirror_mode": {
    "name": "ipython",
    "version": 3
   },
   "file_extension": ".py",
   "mimetype": "text/x-python",
   "name": "python",
   "nbconvert_exporter": "python",
   "pygments_lexer": "ipython3",
   "version": "3.11.5"
  }
 },
 "nbformat": 4,
 "nbformat_minor": 5
}
