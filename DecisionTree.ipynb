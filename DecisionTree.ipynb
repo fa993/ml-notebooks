{
 "cells": [
  {
   "cell_type": "code",
   "execution_count": 1,
   "id": "9860efb0-8f73-48b2-8187-52e6c8d192df",
   "metadata": {},
   "outputs": [],
   "source": [
    "import numpy as np # linear algebra\n",
    "import pandas as pd # data processing, CSV file I/O (e.g. pd.read_csv)\n",
    "from matplotlib import pyplot as plt\n",
    "import seaborn as sns   \n",
    "import math"
   ]
  },
  {
   "cell_type": "code",
   "execution_count": 2,
   "id": "e0dc4834-94d2-449f-971e-041e2de8afb2",
   "metadata": {},
   "outputs": [],
   "source": [
    "infori = pd.read_csv('data/drug200.csv')"
   ]
  },
  {
   "cell_type": "code",
   "execution_count": 3,
   "id": "37c2671d-50c9-4caf-8656-33e8b3c4bc50",
   "metadata": {},
   "outputs": [
    {
     "name": "stdout",
     "output_type": "stream",
     "text": [
      "<class 'pandas.core.frame.DataFrame'>\n",
      "RangeIndex: 200 entries, 0 to 199\n",
      "Data columns (total 6 columns):\n",
      " #   Column       Non-Null Count  Dtype  \n",
      "---  ------       --------------  -----  \n",
      " 0   Age          200 non-null    int64  \n",
      " 1   Sex          200 non-null    object \n",
      " 2   BP           200 non-null    object \n",
      " 3   Cholesterol  200 non-null    object \n",
      " 4   Na_to_K      200 non-null    float64\n",
      " 5   Drug         200 non-null    object \n",
      "dtypes: float64(1), int64(1), object(4)\n",
      "memory usage: 9.5+ KB\n"
     ]
    }
   ],
   "source": [
    "infori.info()"
   ]
  },
  {
   "cell_type": "code",
   "execution_count": 4,
   "id": "5a171533-cc89-433e-97de-d15b57dcd808",
   "metadata": {},
   "outputs": [],
   "source": [
    "from sklearn.model_selection import train_test_split\n",
    "\n",
    "x_train, x_test, y_train, y_test = train_test_split(infori, infori['Drug'], test_size=0.25, random_state=0)"
   ]
  },
  {
   "cell_type": "code",
   "execution_count": 5,
   "id": "196cfdf1-976b-404e-8712-c767d836f20f",
   "metadata": {},
   "outputs": [
    {
     "data": {
      "text/plain": [
       "(array([66.,  0., 15.,  0.,  0., 13.,  0., 38.,  0., 18.]),\n",
       " array([0. , 0.4, 0.8, 1.2, 1.6, 2. , 2.4, 2.8, 3.2, 3.6, 4. ]),\n",
       " <BarContainer object of 10 artists>)"
      ]
     },
     "execution_count": 5,
     "metadata": {},
     "output_type": "execute_result"
    },
    {
     "data": {
      "image/png": "[encoded data removed]",
      "text/plain": [
       "<Figure size 640x480 with 1 Axes>"
      ]
     },
     "metadata": {},
     "output_type": "display_data"
    }
   ],
   "source": [
    "plt.hist(y_train)"
   ]
  },
  {
   "cell_type": "code",
   "execution_count": 6,
   "id": "27410be6-4089-4222-aa25-d7beb09a7fbd",
   "metadata": {},
   "outputs": [
    {
     "name": "stdout",
     "output_type": "stream",
     "text": [
      "<class 'pandas.core.frame.DataFrame'>\n",
      "Index: 150 entries, 71 to 172\n",
      "Data columns (total 6 columns):\n",
      " #   Column       Non-Null Count  Dtype  \n",
      "---  ------       --------------  -----  \n",
      " 0   Age          150 non-null    int64  \n",
      " 1   Sex          150 non-null    object \n",
      " 2   BP           150 non-null    object \n",
      " 3   Cholesterol  150 non-null    object \n",
      " 4   Na_to_K      150 non-null    float64\n",
      " 5   Drug         150 non-null    object \n",
      "dtypes: float64(1), int64(1), object(4)\n",
      "memory usage: 8.2+ KB\n"
     ]
    }
   ],
   "source": [
    "x_train.info()"
   ]
  },
  {
   "cell_type": "code",
   "execution_count": 7,
   "id": "fdfcc620-9d56-460f-ba8f-95c1ff9c698c",
   "metadata": {},
   "outputs": [
    {
     "data": {
      "text/plain": [
       "Cholesterol\n",
       "HIGH      82\n",
       "NORMAL    68\n",
       "Name: count, dtype: int64"
      ]
     },
     "execution_count": 7,
     "metadata": {},
     "output_type": "execute_result"
    }
   ],
   "source": [
    "x_train['Cholesterol'].value_counts()"
   ]
  },
  {
   "cell_type": "code",
   "execution_count": 8,
   "id": "31ebd829-e310-4b00-823c-23023604f3a7",
   "metadata": {},
   "outputs": [],
   "source": [
    "# Construct Decision Tree using multiple ASM\n",
    "# Create a BST with yes-no query style options\n",
    "# traverse tree to evaluate\n",
    "# For continuous variables, sort them in order and evaluate split points \n",
    "# of adjacent elements as possible splits"
   ]
  },
  {
   "cell_type": "code",
   "execution_count": 9,
   "id": "0bf0fe14-36ab-49b0-b755-784f7fe5ccef",
   "metadata": {},
   "outputs": [],
   "source": [
    "# We will first write the algo for only categorical data as that seems \n",
    "# easier"
   ]
  },
  {
   "cell_type": "code",
   "execution_count": 10,
   "id": "f91f96ce-f5fc-4a10-9c87-7d722dde9d85",
   "metadata": {},
   "outputs": [
    {
     "data": {
      "text/plain": [
       "array(['F', 'M'], dtype=object)"
      ]
     },
     "execution_count": 10,
     "metadata": {},
     "output_type": "execute_result"
    }
   ],
   "source": [
    "x_train['Sex'].unique()"
   ]
  },
  {
   "cell_type": "code",
   "execution_count": 11,
   "id": "fdad41d9-c271-40ed-90eb-b2b0b626bbe6",
   "metadata": {},
   "outputs": [
    {
     "name": "stdout",
     "output_type": "stream",
     "text": [
      "Sex\n",
      "M    79\n",
      "F    71\n",
      "Name: count, dtype: int64\n",
      "F\n",
      "Sex\n",
      "M    6241\n",
      "F    5041\n",
      "Name: count, dtype: int64\n"
     ]
    },
    {
     "data": {
      "text/plain": [
       "11282"
      ]
     },
     "execution_count": 11,
     "metadata": {},
     "output_type": "execute_result"
    }
   ],
   "source": [
    "freqs = x_train['Sex'].value_counts()\n",
    "print(freqs)\n",
    "print(freqs.idxmin())\n",
    "freqs_sq = np.square(freqs)\n",
    "print(freqs_sq)\n",
    "np.sum(freqs_sq)"
   ]
  },
  {
   "cell_type": "code",
   "execution_count": 12,
   "id": "443c1800-c591-4eb8-b7ad-b88f048f929a",
   "metadata": {},
   "outputs": [],
   "source": [
    "class DecisionTreeNode:\n",
    "    node_data = None,\n",
    "    node_score = None, \n",
    "    child_1 = None,\n",
    "    child_2 = None,\n",
    "    split_col = None,\n",
    "    split_val = None,\n",
    "    isLeaf = None\n",
    "    "
   ]
  },
  {
   "cell_type": "code",
   "execution_count": 13,
   "id": "d02a011b-16d7-49bc-854d-5ed9682ba150",
   "metadata": {},
   "outputs": [],
   "source": [
    "def calculate_gini(node, col):\n",
    "    # 1 - sum(pi^2) for all i in col\n",
    "    # count frequency for every row in col\n",
    "    n2 = len(node.index) ** 2\n",
    "    if n2 == 0:\n",
    "        print('How?', node.index)\n",
    "    tmp1 = node[col].value_counts()\n",
    "    tmp2 = np.square(tmp1)\n",
    "    tmp3 = np.sum(tmp2)\n",
    "    tmp4 = tmp3 / n2\n",
    "    tmp5 = 1 - tmp4\n",
    "    return tmp5"
   ]
  },
  {
   "cell_type": "code",
   "execution_count": 14,
   "id": "479a4feb-5295-47fb-928f-f3babde95a53",
   "metadata": {},
   "outputs": [],
   "source": [
    "def calculate_entropy(node, col):\n",
    "    # 1 - sum(pi^2) for all i in col\n",
    "    n = len(node.index)\n",
    "    if n == 0:\n",
    "        print('How?', node.index)\n",
    "    tmp1 = node[col].value_counts()\n",
    "    tmp2 = tmp1 / n\n",
    "    tmp3 = np.log2(tmp2)\n",
    "    tmp4 = np.dot(tmp2, tmp3)\n",
    "    tmp5 = - tmp4\n",
    "    return tmp5"
   ]
  },
  {
   "cell_type": "code",
   "execution_count": 15,
   "id": "c808bc0f-e53a-4112-9bc9-a0dfaefb0b93",
   "metadata": {},
   "outputs": [],
   "source": [
    "def split_category(data_node, y_col, split_cols, score_calc):\n",
    "    parent_score = score_calc(data_node, y_col)\n",
    "    min_child_1, min_child_2, min_col, min_val, child_1_score, child_2_score, max_dec = None, None, None, None, None, None, 0\n",
    "    for col in split_cols:\n",
    "        # Assume data is partitioned in 2 parts rows with col = split_val\n",
    "        # and those without\n",
    "        # pick split val with highest occurence\n",
    "        for split_val in data_node[col].unique():\n",
    "            child_set_1 = None,\n",
    "            child_set_2 = None\n",
    "            if data_node[col].dtypes.kind in 'bifuc':\n",
    "                child_set_1 = data_node[data_node[col]>=split_val]\n",
    "                child_set_2 = data_node[data_node[col]<split_val]\n",
    "            else:\n",
    "                child_set_1 = data_node[data_node[col]==split_val]\n",
    "                child_set_2 = data_node[data_node[col]!=split_val]\n",
    "            if len(child_set_2) == 0 or len(child_set_1) == 0:\n",
    "                continue\n",
    "            child_score_1 = score_calc(child_set_1, y_col)\n",
    "            child_score_2 = score_calc(child_set_2, y_col)\n",
    "            # Gini(S) - ((5/10 * Gini(S_1)) + (5/10 * Gini(S_2)))\n",
    "            info_decrease = parent_score - ((len(child_set_1) * child_score_1 + len(child_set_2)  * child_score_2) / len(data_node))\n",
    "            if info_decrease > max_dec:\n",
    "                min_child_1 = child_set_1\n",
    "                min_child_2 = child_set_2 \n",
    "                min_col = col\n",
    "                min_val = split_val\n",
    "                max_dec = info_decrease\n",
    "                child_1_score = child_score_1\n",
    "                child_2_score = child_score_2\n",
    "    if child_1_score == None:\n",
    "        return None, None, None, None\n",
    "    if min(child_1_score, child_2_score) >= parent_score:\n",
    "        print('Possible Info Loss')\n",
    "    child_node_1 = DecisionTreeNode()\n",
    "    child_node_1.node_data = min_child_1\n",
    "    child_node_1.node_score = child_1_score\n",
    "    child_node_2 = DecisionTreeNode()\n",
    "    child_node_2.node_data = min_child_2\n",
    "    child_node_2.node_score = child_2_score\n",
    "    return child_node_1, child_node_2, min_col, min_val\n",
    "    "
   ]
  },
  {
   "cell_type": "code",
   "execution_count": 16,
   "id": "95199447-5273-4d1f-91c8-3adf4604c176",
   "metadata": {},
   "outputs": [
    {
     "name": "stdout",
     "output_type": "stream",
     "text": [
      "71     14.0\n",
      "124    40.5\n",
      "184    35.5\n",
      "97     37.0\n",
      "149    39.0\n",
      "       ... \n",
      "67     36.5\n",
      "192    44.5\n",
      "117    56.0\n",
      "47     54.0\n",
      "172    53.5\n",
      "Name: Age, Length: 150, dtype: float64\n",
      "71     28\n",
      "124    53\n",
      "184    18\n",
      "97     56\n",
      "149    22\n",
      "       ..\n",
      "67     17\n",
      "192    72\n",
      "117    40\n",
      "47     68\n",
      "172    39\n",
      "Name: Age, Length: 150, dtype: int64\n",
      "i\n"
     ]
    }
   ],
   "source": [
    "print(x_train['Age'].rolling(2,min_periods=1).sum() / 2)\n",
    "print(x_train['Age'])\n",
    "print(x_train['Age'].dtypes.kind)"
   ]
  },
  {
   "cell_type": "code",
   "execution_count": 17,
   "id": "cb1080d6-fd39-4351-8eac-d954955d301d",
   "metadata": {},
   "outputs": [
    {
     "data": {
      "text/plain": [
       "(<__main__.DecisionTreeNode at 0x11fecb390>,\n",
       " <__main__.DecisionTreeNode at 0x12aff8e10>,\n",
       " 'BP',\n",
       " 'HIGH')"
      ]
     },
     "execution_count": 17,
     "metadata": {},
     "output_type": "execute_result"
    }
   ],
   "source": [
    "split_category(x_train, 'Drug', ['Sex', 'BP', 'Cholesterol'], calculate_gini)"
   ]
  },
  {
   "cell_type": "code",
   "execution_count": 18,
   "id": "a7e4126b-14c6-4180-8339-917ebef8a759",
   "metadata": {},
   "outputs": [
    {
     "data": {
      "text/plain": [
       "28"
      ]
     },
     "execution_count": 18,
     "metadata": {},
     "output_type": "execute_result"
    }
   ],
   "source": [
    "x_train['Age'].iloc[0]"
   ]
  },
  {
   "cell_type": "code",
   "execution_count": 19,
   "id": "3700ea4c-6ec0-4796-b431-73a651b43b11",
   "metadata": {},
   "outputs": [],
   "source": [
    "def score_calc(node, col):\n",
    "    return calculate_gini(node, col)"
   ]
  },
  {
   "cell_type": "code",
   "execution_count": 20,
   "id": "db3388d4-949d-463f-adf8-c74de90119db",
   "metadata": {},
   "outputs": [],
   "source": [
    "class DecisionTree:\n",
    "    root_node = None\n",
    "    y_col_name = 'Drug'\n",
    "    x_cols = ['Sex', 'BP', 'Cholesterol', 'Age', 'Na_to_K']\n",
    "\n",
    "    def recursive_create(self, node):\n",
    "        node.node_score = score_calc(node.node_data, self.y_col_name)\n",
    "        print('Parent Score:', node.node_score)\n",
    "        node.child_1, node.child_2, node.split_col, node.split_val =  split_category(node.node_data, self.y_col_name, self.x_cols, score_calc)\n",
    "        if node.child_1 is None or node.node_score == 1:\n",
    "            # This is a leaf\n",
    "            node.isLeaf = True\n",
    "            print('Is Leaf')\n",
    "        else:\n",
    "            print('Split Col:', node.split_col, 'Split Val:', node.split_val)\n",
    "            node.isLeaf = False\n",
    "            self.recursive_create(node.child_1)\n",
    "            self.recursive_create(node.child_2)\n",
    "            \n",
    "\n",
    "    def create_decision_tree(self, x_data):\n",
    "        self.root_node = DecisionTreeNode()\n",
    "        self.root_node.node_data = x_data\n",
    "        self.recursive_create(self.root_node)\n",
    "\n",
    "    def flow_print(self, node=None, prev=''):\n",
    "        if node is None:\n",
    "            return\n",
    "        if node.isLeaf:\n",
    "            print(prev, node.node_data[self.y_col_name].iloc[0])\n",
    "        else:\n",
    "            if node.node_data[node.split_col].dtypes.kind in 'bifuc':\n",
    "                print(prev, 'If', node.split_col, '>=', node.split_val, 'then')\n",
    "            else:\n",
    "                print(prev, 'If', node.split_col, '==', node.split_val, 'then')\n",
    "            self.flow_print(node.child_1, prev + '\\t')\n",
    "            print(prev, 'else')\n",
    "            self.flow_print(node.child_2, prev + '\\t')\n",
    "\n",
    "\n",
    "    def evaluate(self, node, x):\n",
    "        if node.isLeaf:\n",
    "            return node.node_data[self.y_col_name].iloc[0]\n",
    "        elif node.node_data[node.split_col].dtypes.kind in 'bifuc' and x[node.split_col] >= node.split_val:\n",
    "            return self.evaluate(node.child_1, x)\n",
    "        elif node.node_data[node.split_col].dtypes.kind not in 'bifuc' and x[node.split_col] == node.split_val:\n",
    "            return self.evaluate(node.child_1, x)\n",
    "        else:\n",
    "            return self.evaluate(node.child_2, x)\n",
    "\n",
    "    def visualise(self, node, prev= ''):\n",
    "        if node is None:\n",
    "            return\n",
    "        print(prev, node.node_score)\n",
    "        self.visualise(node.child_1, prev + '\\t')\n",
    "        self.visualise(node.child_2, prev + '\\t')\n",
    "            "
   ]
  },
  {
   "cell_type": "code",
   "execution_count": 21,
   "id": "7cd5cfea-5177-45c1-946b-3459ffb5a820",
   "metadata": {},
   "outputs": [
    {
     "name": "stdout",
     "output_type": "stream",
     "text": [
      "Parent Score: 0.7103111111111111\n",
      "Split Col: Na_to_K Split Val: 15.015\n",
      "Parent Score: 0.0\n",
      "Is Leaf\n",
      "Parent Score: 0.69359410430839\n",
      "Split Col: BP Split Val: HIGH\n",
      "Parent Score: 0.49586776859504134\n",
      "Split Col: Age Split Val: 51\n",
      "Parent Score: 0.0\n",
      "Is Leaf\n",
      "Parent Score: 0.0\n",
      "Is Leaf\n",
      "Parent Score: 0.37985390234525185\n",
      "Split Col: BP Split Val: LOW\n",
      "Parent Score: 0.4965277777777778\n",
      "Split Col: Cholesterol Split Val: HIGH\n",
      "Parent Score: 0.0\n",
      "Is Leaf\n",
      "Parent Score: 0.0\n",
      "Is Leaf\n",
      "Parent Score: 0.0\n",
      "Is Leaf\n"
     ]
    }
   ],
   "source": [
    "tree = DecisionTree()\n",
    "tree.create_decision_tree(x_train)"
   ]
  },
  {
   "cell_type": "code",
   "execution_count": 22,
   "id": "d389d005-3f86-4a66-afc3-bac6b4fda7ab",
   "metadata": {},
   "outputs": [
    {
     "data": {
      "text/html": [
       "<div>\n",
       "<style scoped>\n",
       "    .dataframe tbody tr th:only-of-type {\n",
       "        vertical-align: middle;\n",
       "    }\n",
       "\n",
       "    .dataframe tbody tr th {\n",
       "        vertical-align: top;\n",
       "    }\n",
       "\n",
       "    .dataframe thead th {\n",
       "        text-align: right;\n",
       "    }\n",
       "</style>\n",
       "<table border=\"1\" class=\"dataframe\">\n",
       "  <thead>\n",
       "    <tr style=\"text-align: right;\">\n",
       "      <th></th>\n",
       "      <th>Age</th>\n",
       "      <th>Sex</th>\n",
       "      <th>BP</th>\n",
       "      <th>Cholesterol</th>\n",
       "      <th>Na_to_K</th>\n",
       "      <th>Drug</th>\n",
       "    </tr>\n",
       "  </thead>\n",
       "  <tbody>\n",
       "    <tr>\n",
       "      <th>137</th>\n",
       "      <td>35</td>\n",
       "      <td>F</td>\n",
       "      <td>HIGH</td>\n",
       "      <td>HIGH</td>\n",
       "      <td>12.894</td>\n",
       "      <td>drugA</td>\n",
       "    </tr>\n",
       "    <tr>\n",
       "      <th>101</th>\n",
       "      <td>45</td>\n",
       "      <td>F</td>\n",
       "      <td>HIGH</td>\n",
       "      <td>HIGH</td>\n",
       "      <td>12.854</td>\n",
       "      <td>drugA</td>\n",
       "    </tr>\n",
       "    <tr>\n",
       "      <th>144</th>\n",
       "      <td>39</td>\n",
       "      <td>M</td>\n",
       "      <td>HIGH</td>\n",
       "      <td>HIGH</td>\n",
       "      <td>9.664</td>\n",
       "      <td>drugA</td>\n",
       "    </tr>\n",
       "    <tr>\n",
       "      <th>187</th>\n",
       "      <td>47</td>\n",
       "      <td>M</td>\n",
       "      <td>HIGH</td>\n",
       "      <td>HIGH</td>\n",
       "      <td>10.403</td>\n",
       "      <td>drugA</td>\n",
       "    </tr>\n",
       "    <tr>\n",
       "      <th>46</th>\n",
       "      <td>37</td>\n",
       "      <td>F</td>\n",
       "      <td>HIGH</td>\n",
       "      <td>HIGH</td>\n",
       "      <td>13.091</td>\n",
       "      <td>drugA</td>\n",
       "    </tr>\n",
       "    <tr>\n",
       "      <th>191</th>\n",
       "      <td>23</td>\n",
       "      <td>M</td>\n",
       "      <td>HIGH</td>\n",
       "      <td>HIGH</td>\n",
       "      <td>8.011</td>\n",
       "      <td>drugA</td>\n",
       "    </tr>\n",
       "    <tr>\n",
       "      <th>110</th>\n",
       "      <td>50</td>\n",
       "      <td>M</td>\n",
       "      <td>HIGH</td>\n",
       "      <td>HIGH</td>\n",
       "      <td>7.490</td>\n",
       "      <td>drugA</td>\n",
       "    </tr>\n",
       "    <tr>\n",
       "      <th>78</th>\n",
       "      <td>19</td>\n",
       "      <td>F</td>\n",
       "      <td>HIGH</td>\n",
       "      <td>HIGH</td>\n",
       "      <td>13.313</td>\n",
       "      <td>drugA</td>\n",
       "    </tr>\n",
       "    <tr>\n",
       "      <th>100</th>\n",
       "      <td>31</td>\n",
       "      <td>M</td>\n",
       "      <td>HIGH</td>\n",
       "      <td>NORMAL</td>\n",
       "      <td>11.871</td>\n",
       "      <td>drugA</td>\n",
       "    </tr>\n",
       "    <tr>\n",
       "      <th>76</th>\n",
       "      <td>36</td>\n",
       "      <td>F</td>\n",
       "      <td>HIGH</td>\n",
       "      <td>HIGH</td>\n",
       "      <td>11.198</td>\n",
       "      <td>drugA</td>\n",
       "    </tr>\n",
       "    <tr>\n",
       "      <th>156</th>\n",
       "      <td>31</td>\n",
       "      <td>M</td>\n",
       "      <td>HIGH</td>\n",
       "      <td>NORMAL</td>\n",
       "      <td>11.227</td>\n",
       "      <td>drugA</td>\n",
       "    </tr>\n",
       "    <tr>\n",
       "      <th>17</th>\n",
       "      <td>43</td>\n",
       "      <td>M</td>\n",
       "      <td>HIGH</td>\n",
       "      <td>HIGH</td>\n",
       "      <td>13.972</td>\n",
       "      <td>drugA</td>\n",
       "    </tr>\n",
       "    <tr>\n",
       "      <th>176</th>\n",
       "      <td>48</td>\n",
       "      <td>M</td>\n",
       "      <td>HIGH</td>\n",
       "      <td>NORMAL</td>\n",
       "      <td>10.446</td>\n",
       "      <td>drugA</td>\n",
       "    </tr>\n",
       "    <tr>\n",
       "      <th>169</th>\n",
       "      <td>20</td>\n",
       "      <td>F</td>\n",
       "      <td>HIGH</td>\n",
       "      <td>HIGH</td>\n",
       "      <td>11.262</td>\n",
       "      <td>drugA</td>\n",
       "    </tr>\n",
       "    <tr>\n",
       "      <th>147</th>\n",
       "      <td>26</td>\n",
       "      <td>F</td>\n",
       "      <td>HIGH</td>\n",
       "      <td>NORMAL</td>\n",
       "      <td>12.307</td>\n",
       "      <td>drugA</td>\n",
       "    </tr>\n",
       "    <tr>\n",
       "      <th>174</th>\n",
       "      <td>42</td>\n",
       "      <td>M</td>\n",
       "      <td>HIGH</td>\n",
       "      <td>NORMAL</td>\n",
       "      <td>12.766</td>\n",
       "      <td>drugA</td>\n",
       "    </tr>\n",
       "    <tr>\n",
       "      <th>140</th>\n",
       "      <td>49</td>\n",
       "      <td>M</td>\n",
       "      <td>HIGH</td>\n",
       "      <td>NORMAL</td>\n",
       "      <td>6.269</td>\n",
       "      <td>drugA</td>\n",
       "    </tr>\n",
       "    <tr>\n",
       "      <th>36</th>\n",
       "      <td>32</td>\n",
       "      <td>M</td>\n",
       "      <td>HIGH</td>\n",
       "      <td>NORMAL</td>\n",
       "      <td>9.445</td>\n",
       "      <td>drugA</td>\n",
       "    </tr>\n",
       "  </tbody>\n",
       "</table>\n",
       "</div>"
      ],
      "text/plain": [
       "     Age Sex    BP Cholesterol  Na_to_K   Drug\n",
       "137   35   F  HIGH        HIGH   12.894  drugA\n",
       "101   45   F  HIGH        HIGH   12.854  drugA\n",
       "144   39   M  HIGH        HIGH    9.664  drugA\n",
       "187   47   M  HIGH        HIGH   10.403  drugA\n",
       "46    37   F  HIGH        HIGH   13.091  drugA\n",
       "191   23   M  HIGH        HIGH    8.011  drugA\n",
       "110   50   M  HIGH        HIGH    7.490  drugA\n",
       "78    19   F  HIGH        HIGH   13.313  drugA\n",
       "100   31   M  HIGH      NORMAL   11.871  drugA\n",
       "76    36   F  HIGH        HIGH   11.198  drugA\n",
       "156   31   M  HIGH      NORMAL   11.227  drugA\n",
       "17    43   M  HIGH        HIGH   13.972  drugA\n",
       "176   48   M  HIGH      NORMAL   10.446  drugA\n",
       "169   20   F  HIGH        HIGH   11.262  drugA\n",
       "147   26   F  HIGH      NORMAL   12.307  drugA\n",
       "174   42   M  HIGH      NORMAL   12.766  drugA\n",
       "140   49   M  HIGH      NORMAL    6.269  drugA\n",
       "36    32   M  HIGH      NORMAL    9.445  drugA"
      ]
     },
     "execution_count": 22,
     "metadata": {},
     "output_type": "execute_result"
    }
   ],
   "source": [
    "tree.root_node.child_2.child_1.child_2.node_data"
   ]
  },
  {
   "cell_type": "code",
   "execution_count": 23,
   "id": "f43c2a93-eb6f-4060-bd33-8bd4d6213e9c",
   "metadata": {},
   "outputs": [
    {
     "name": "stdout",
     "output_type": "stream",
     "text": [
      " 0.7103111111111111\n",
      "\t 0.0\n",
      "\t 0.69359410430839\n",
      "\t\t 0.49586776859504134\n",
      "\t\t\t 0.0\n",
      "\t\t\t 0.0\n",
      "\t\t 0.37985390234525185\n",
      "\t\t\t 0.4965277777777778\n",
      "\t\t\t\t 0.0\n",
      "\t\t\t\t 0.0\n",
      "\t\t\t 0.0\n"
     ]
    }
   ],
   "source": [
    "tree.visualise(tree.root_node)"
   ]
  },
  {
   "cell_type": "code",
   "execution_count": 24,
   "id": "e8af8964-1e8d-4652-b8e4-867f3dd46bb2",
   "metadata": {},
   "outputs": [],
   "source": [
    "# Wow that is clean. Had absolutely no faith in this.. but wow\n",
    "# Guess math rules us all"
   ]
  },
  {
   "cell_type": "code",
   "execution_count": 25,
   "id": "ef6d5b82-c102-4b44-a7d6-7c60ad666386",
   "metadata": {},
   "outputs": [
    {
     "name": "stdout",
     "output_type": "stream",
     "text": [
      " If Na_to_K >= 15.015 then\n",
      "\t drugY\n",
      " else\n",
      "\t If BP == HIGH then\n",
      "\t\t If Age >= 51 then\n",
      "\t\t\t drugB\n",
      "\t\t else\n",
      "\t\t\t drugA\n",
      "\t else\n",
      "\t\t If BP == LOW then\n",
      "\t\t\t If Cholesterol == HIGH then\n",
      "\t\t\t\t drugC\n",
      "\t\t\t else\n",
      "\t\t\t\t drugX\n",
      "\t\t else\n",
      "\t\t\t drugX\n"
     ]
    }
   ],
   "source": [
    "tree.flow_print(tree.root_node)"
   ]
  },
  {
   "cell_type": "code",
   "execution_count": 26,
   "id": "51948858-86c2-4588-b228-6c5b0fa627fc",
   "metadata": {},
   "outputs": [],
   "source": [
    "ypred = x_test.apply(lambda row: tree.evaluate(tree.root_node, row), axis=1)"
   ]
  },
  {
   "cell_type": "code",
   "execution_count": 27,
   "id": "65f2ffff-4749-4efe-8d4f-749f527b6f54",
   "metadata": {},
   "outputs": [],
   "source": [
    "from sklearn.metrics import accuracy_score"
   ]
  },
  {
   "cell_type": "code",
   "execution_count": 28,
   "id": "089e3f5e-4dc1-41f0-9552-c37d6411e5a1",
   "metadata": {},
   "outputs": [
    {
     "data": {
      "text/plain": [
       "1.0"
      ]
     },
     "execution_count": 28,
     "metadata": {},
     "output_type": "execute_result"
    }
   ],
   "source": [
    "accuracy_score(ypred, y_test)"
   ]
  },
  {
   "cell_type": "code",
   "execution_count": 29,
   "id": "919237bd-6cfc-4c1a-ba1d-ff5db7a4a285",
   "metadata": {},
   "outputs": [],
   "source": [
    "#Makes sense we got 0.0 gini score at the end so every terminator is\n",
    "#pure"
   ]
  },
  {
   "cell_type": "code",
   "execution_count": 30,
   "id": "67ec97c4-3160-44b8-bab4-8fc8513a55cc",
   "metadata": {},
   "outputs": [],
   "source": [
    "# try with entropy"
   ]
  },
  {
   "cell_type": "code",
   "execution_count": 31,
   "id": "ddfa6659-afd8-41c4-b7a2-1980880bb994",
   "metadata": {},
   "outputs": [],
   "source": [
    "def score_calc(node, col):\n",
    "    return calculate_entropy(node, col)"
   ]
  },
  {
   "cell_type": "code",
   "execution_count": 32,
   "id": "eb1c1ba7-55af-4924-99cb-a182909dcdfa",
   "metadata": {},
   "outputs": [
    {
     "name": "stdout",
     "output_type": "stream",
     "text": [
      "Parent Score: 2.028025472599629\n",
      "Split Col: Na_to_K Split Val: 15.015\n",
      "Parent Score: -0.0\n",
      "Is Leaf\n",
      "Parent Score: 1.8543534846028098\n",
      "Split Col: BP Split Val: HIGH\n",
      "Parent Score: 0.9940302114769565\n",
      "Split Col: Age Split Val: 51\n",
      "Parent Score: -0.0\n",
      "Is Leaf\n",
      "Parent Score: -0.0\n",
      "Is Leaf\n",
      "Parent Score: 0.8189555018403103\n",
      "Split Col: BP Split Val: LOW\n",
      "Parent Score: 0.99498482818597\n",
      "Split Col: Cholesterol Split Val: HIGH\n",
      "Parent Score: -0.0\n",
      "Is Leaf\n",
      "Parent Score: -0.0\n",
      "Is Leaf\n",
      "Parent Score: -0.0\n",
      "Is Leaf\n"
     ]
    }
   ],
   "source": [
    "tree = DecisionTree()\n",
    "tree.create_decision_tree(x_train)"
   ]
  },
  {
   "cell_type": "code",
   "execution_count": 33,
   "id": "39f73045-f5b7-4484-81cf-1a429e23a4e2",
   "metadata": {},
   "outputs": [
    {
     "name": "stdout",
     "output_type": "stream",
     "text": [
      " 2.028025472599629\n",
      "\t -0.0\n",
      "\t 1.8543534846028098\n",
      "\t\t 0.9940302114769565\n",
      "\t\t\t -0.0\n",
      "\t\t\t -0.0\n",
      "\t\t 0.8189555018403103\n",
      "\t\t\t 0.99498482818597\n",
      "\t\t\t\t -0.0\n",
      "\t\t\t\t -0.0\n",
      "\t\t\t -0.0\n"
     ]
    }
   ],
   "source": [
    "tree.visualise(tree.root_node)"
   ]
  },
  {
   "cell_type": "code",
   "execution_count": 34,
   "id": "04ee6d8b-e6b2-4dd5-ab0b-972e4a7cd50a",
   "metadata": {},
   "outputs": [
    {
     "name": "stdout",
     "output_type": "stream",
     "text": [
      " If Na_to_K >= 15.015 then\n",
      "\t drugY\n",
      " else\n",
      "\t If BP == HIGH then\n",
      "\t\t If Age >= 51 then\n",
      "\t\t\t drugB\n",
      "\t\t else\n",
      "\t\t\t drugA\n",
      "\t else\n",
      "\t\t If BP == LOW then\n",
      "\t\t\t If Cholesterol == HIGH then\n",
      "\t\t\t\t drugC\n",
      "\t\t\t else\n",
      "\t\t\t\t drugX\n",
      "\t\t else\n",
      "\t\t\t drugX\n"
     ]
    }
   ],
   "source": [
    "tree.flow_print(tree.root_node)"
   ]
  },
  {
   "cell_type": "code",
   "execution_count": 35,
   "id": "ed565780-8b2a-4468-b79a-59e8e1a5daf0",
   "metadata": {},
   "outputs": [],
   "source": [
    "ypred = x_test.apply(lambda row: tree.evaluate(tree.root_node, row), axis=1)"
   ]
  },
  {
   "cell_type": "code",
   "execution_count": 36,
   "id": "7eb32de5-ea45-46e3-ab13-fdc740581243",
   "metadata": {},
   "outputs": [
    {
     "data": {
      "text/plain": [
       "1.0"
      ]
     },
     "execution_count": 36,
     "metadata": {},
     "output_type": "execute_result"
    }
   ],
   "source": [
    "accuracy_score(ypred, y_test)"
   ]
  },
  {
   "cell_type": "code",
   "execution_count": null,
   "id": "f6b3a992-6ceb-4e57-b5d0-d1a09a113fdd",
   "metadata": {},
   "outputs": [],
   "source": []
  }
 ],
 "metadata": {
  "kernelspec": {
   "display_name": "Python 3 (ipykernel)",
   "language": "python",
   "name": "python3"
  },
  "language_info": {
   "codemirror_mode": {
    "name": "ipython",
    "version": 3
   },
   "file_extension": ".py",
   "mimetype": "text/x-python",
   "name": "python",
   "nbconvert_exporter": "python",
   "pygments_lexer": "ipython3",
   "version": "3.11.5"
  }
 },
 "nbformat": 4,
 "nbformat_minor": 5
}
