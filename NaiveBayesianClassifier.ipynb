{
 "cells": [
  {
   "cell_type": "code",
   "execution_count": 1,
   "id": "727bd001-9d11-4a7e-bc69-7d6d4b96ba87",
   "metadata": {},
   "outputs": [],
   "source": [
    "import numpy as np # linear algebra\n",
    "import pandas as pd # data processing, CSV file I/O (e.g. pd.read_csv)\n",
    "from matplotlib import pyplot as plt\n",
    "import seaborn as sns   \n",
    "import math"
   ]
  },
  {
   "cell_type": "code",
   "execution_count": 2,
   "id": "3c0fa812-ebe7-488c-ab62-2ca20c484d53",
   "metadata": {},
   "outputs": [],
   "source": [
    "infori = pd.read_csv('data/Social_Network_Ads.csv')"
   ]
  },
  {
   "cell_type": "code",
   "execution_count": 3,
   "id": "e1d1d167-97b9-4dd0-b3da-1a9eb8f52ca4",
   "metadata": {},
   "outputs": [
    {
     "data": {
      "text/html": [
       "<div>\n",
       "<style scoped>\n",
       "    .dataframe tbody tr th:only-of-type {\n",
       "        vertical-align: middle;\n",
       "    }\n",
       "\n",
       "    .dataframe tbody tr th {\n",
       "        vertical-align: top;\n",
       "    }\n",
       "\n",
       "    .dataframe thead th {\n",
       "        text-align: right;\n",
       "    }\n",
       "</style>\n",
       "<table border=\"1\" class=\"dataframe\">\n",
       "  <thead>\n",
       "    <tr style=\"text-align: right;\">\n",
       "      <th></th>\n",
       "      <th>User ID</th>\n",
       "      <th>Age</th>\n",
       "      <th>EstimatedSalary</th>\n",
       "      <th>Purchased</th>\n",
       "    </tr>\n",
       "  </thead>\n",
       "  <tbody>\n",
       "    <tr>\n",
       "      <th>count</th>\n",
       "      <td>4.000000e+02</td>\n",
       "      <td>400.000000</td>\n",
       "      <td>400.000000</td>\n",
       "      <td>400.000000</td>\n",
       "    </tr>\n",
       "    <tr>\n",
       "      <th>mean</th>\n",
       "      <td>1.569154e+07</td>\n",
       "      <td>37.655000</td>\n",
       "      <td>69742.500000</td>\n",
       "      <td>0.357500</td>\n",
       "    </tr>\n",
       "    <tr>\n",
       "      <th>std</th>\n",
       "      <td>7.165832e+04</td>\n",
       "      <td>10.482877</td>\n",
       "      <td>34096.960282</td>\n",
       "      <td>0.479864</td>\n",
       "    </tr>\n",
       "    <tr>\n",
       "      <th>min</th>\n",
       "      <td>1.556669e+07</td>\n",
       "      <td>18.000000</td>\n",
       "      <td>15000.000000</td>\n",
       "      <td>0.000000</td>\n",
       "    </tr>\n",
       "    <tr>\n",
       "      <th>25%</th>\n",
       "      <td>1.562676e+07</td>\n",
       "      <td>29.750000</td>\n",
       "      <td>43000.000000</td>\n",
       "      <td>0.000000</td>\n",
       "    </tr>\n",
       "    <tr>\n",
       "      <th>50%</th>\n",
       "      <td>1.569434e+07</td>\n",
       "      <td>37.000000</td>\n",
       "      <td>70000.000000</td>\n",
       "      <td>0.000000</td>\n",
       "    </tr>\n",
       "    <tr>\n",
       "      <th>75%</th>\n",
       "      <td>1.575036e+07</td>\n",
       "      <td>46.000000</td>\n",
       "      <td>88000.000000</td>\n",
       "      <td>1.000000</td>\n",
       "    </tr>\n",
       "    <tr>\n",
       "      <th>max</th>\n",
       "      <td>1.581524e+07</td>\n",
       "      <td>60.000000</td>\n",
       "      <td>150000.000000</td>\n",
       "      <td>1.000000</td>\n",
       "    </tr>\n",
       "  </tbody>\n",
       "</table>\n",
       "</div>"
      ],
      "text/plain": [
       "            User ID         Age  EstimatedSalary   Purchased\n",
       "count  4.000000e+02  400.000000       400.000000  400.000000\n",
       "mean   1.569154e+07   37.655000     69742.500000    0.357500\n",
       "std    7.165832e+04   10.482877     34096.960282    0.479864\n",
       "min    1.556669e+07   18.000000     15000.000000    0.000000\n",
       "25%    1.562676e+07   29.750000     43000.000000    0.000000\n",
       "50%    1.569434e+07   37.000000     70000.000000    0.000000\n",
       "75%    1.575036e+07   46.000000     88000.000000    1.000000\n",
       "max    1.581524e+07   60.000000    150000.000000    1.000000"
      ]
     },
     "execution_count": 3,
     "metadata": {},
     "output_type": "execute_result"
    }
   ],
   "source": [
    "infori.describe()"
   ]
  },
  {
   "cell_type": "code",
   "execution_count": 4,
   "id": "53eb7245-fe4d-4da1-908d-0cd18b918059",
   "metadata": {},
   "outputs": [],
   "source": [
    "from sklearn.model_selection import train_test_split\n",
    "\n",
    "x_train, x_test, y_train, y_test = train_test_split(infori[['Age', 'EstimatedSalary']], infori['Purchased'], test_size=0.25, random_state=0)"
   ]
  },
  {
   "cell_type": "code",
   "execution_count": 5,
   "id": "641cf452-6f89-4424-8728-baa1c4a8dcf0",
   "metadata": {},
   "outputs": [],
   "source": [
    "# For Bayesian Model with continuous data we will use gausian normal distr\n",
    "# We basically need a lot of metadata regarding counts in classes\n",
    "# Stuff like mean, and standard deviation"
   ]
  },
  {
   "cell_type": "code",
   "execution_count": 6,
   "id": "e2f4cf66-f540-4866-97b6-3745633b9661",
   "metadata": {},
   "outputs": [],
   "source": [
    "# Do for age"
   ]
  },
  {
   "cell_type": "code",
   "execution_count": 7,
   "id": "f1933ffa-2ac6-42a9-8868-93473c98241a",
   "metadata": {},
   "outputs": [
    {
     "data": {
      "text/html": [
       "<div>\n",
       "<style scoped>\n",
       "    .dataframe tbody tr th:only-of-type {\n",
       "        vertical-align: middle;\n",
       "    }\n",
       "\n",
       "    .dataframe tbody tr th {\n",
       "        vertical-align: top;\n",
       "    }\n",
       "\n",
       "    .dataframe thead th {\n",
       "        text-align: right;\n",
       "    }\n",
       "</style>\n",
       "<table border=\"1\" class=\"dataframe\">\n",
       "  <thead>\n",
       "    <tr style=\"text-align: right;\">\n",
       "      <th></th>\n",
       "      <th>Age</th>\n",
       "      <th>EstimatedSalary</th>\n",
       "    </tr>\n",
       "  </thead>\n",
       "  <tbody>\n",
       "    <tr>\n",
       "      <th>250</th>\n",
       "      <td>44</td>\n",
       "      <td>39000</td>\n",
       "    </tr>\n",
       "    <tr>\n",
       "      <th>63</th>\n",
       "      <td>32</td>\n",
       "      <td>120000</td>\n",
       "    </tr>\n",
       "    <tr>\n",
       "      <th>312</th>\n",
       "      <td>38</td>\n",
       "      <td>50000</td>\n",
       "    </tr>\n",
       "    <tr>\n",
       "      <th>159</th>\n",
       "      <td>32</td>\n",
       "      <td>135000</td>\n",
       "    </tr>\n",
       "    <tr>\n",
       "      <th>283</th>\n",
       "      <td>52</td>\n",
       "      <td>21000</td>\n",
       "    </tr>\n",
       "    <tr>\n",
       "      <th>...</th>\n",
       "      <td>...</td>\n",
       "      <td>...</td>\n",
       "    </tr>\n",
       "    <tr>\n",
       "      <th>323</th>\n",
       "      <td>48</td>\n",
       "      <td>30000</td>\n",
       "    </tr>\n",
       "    <tr>\n",
       "      <th>192</th>\n",
       "      <td>29</td>\n",
       "      <td>43000</td>\n",
       "    </tr>\n",
       "    <tr>\n",
       "      <th>117</th>\n",
       "      <td>36</td>\n",
       "      <td>52000</td>\n",
       "    </tr>\n",
       "    <tr>\n",
       "      <th>47</th>\n",
       "      <td>27</td>\n",
       "      <td>54000</td>\n",
       "    </tr>\n",
       "    <tr>\n",
       "      <th>172</th>\n",
       "      <td>26</td>\n",
       "      <td>118000</td>\n",
       "    </tr>\n",
       "  </tbody>\n",
       "</table>\n",
       "<p>300 rows × 2 columns</p>\n",
       "</div>"
      ],
      "text/plain": [
       "     Age  EstimatedSalary\n",
       "250   44            39000\n",
       "63    32           120000\n",
       "312   38            50000\n",
       "159   32           135000\n",
       "283   52            21000\n",
       "..   ...              ...\n",
       "323   48            30000\n",
       "192   29            43000\n",
       "117   36            52000\n",
       "47    27            54000\n",
       "172   26           118000\n",
       "\n",
       "[300 rows x 2 columns]"
      ]
     },
     "execution_count": 7,
     "metadata": {},
     "output_type": "execute_result"
    }
   ],
   "source": [
    "x_train"
   ]
  },
  {
   "cell_type": "code",
   "execution_count": 8,
   "id": "91cf818c-2db3-4a07-9bf5-93b5dbccbb5a",
   "metadata": {},
   "outputs": [],
   "source": [
    "def get_gauss_mat_for_data(x, y):\n",
    "    num_classes = y.nunique() # rows\n",
    "    dims = (len(x.columns), 2)\n",
    "    mat = {}\n",
    "    for cl in y.unique():\n",
    "        mat[cl] = {}\n",
    "        x['y_filter'] = y - cl\n",
    "        filtered_x = x[x['y_filter'] == 0]\n",
    "        for col in x.columns[:-1]:\n",
    "            mat[cl][col] = (filtered_x[col].mean(), filtered_x[col].var())\n",
    "    x.drop(['y_filter'], axis=1, inplace=True)\n",
    "    return mat  "
   ]
  },
  {
   "cell_type": "code",
   "execution_count": 9,
   "id": "d376ab85-d467-435b-aff9-02da3e1939bf",
   "metadata": {},
   "outputs": [
    {
     "data": {
      "text/plain": [
       "73.809009009009"
      ]
     },
     "execution_count": 9,
     "metadata": {},
     "output_type": "execute_result"
    }
   ],
   "source": [
    "info_mat = get_gauss_mat_for_data(x_train, y_train)\n",
    "info_mat[1]['Age'][1]"
   ]
  },
  {
   "cell_type": "code",
   "execution_count": 10,
   "id": "947ab426-326c-4b2c-8056-fa6e51847e43",
   "metadata": {},
   "outputs": [],
   "source": [
    "def get_gausian_prob_val(info_mat, class_for, col, v):\n",
    "    return math.e**-((v - info_mat[class_for][col][0])**2 / (2 * info_mat[class_for][col][1])) / math.sqrt(2 * math.pi * info_mat[class_for][col][1])\n",
    "    "
   ]
  },
  {
   "cell_type": "code",
   "execution_count": 11,
   "id": "8a611006-eaee-49fc-9955-a65dc98ea18b",
   "metadata": {},
   "outputs": [
    {
     "data": {
      "text/plain": [
       "0.008213860954664979"
      ]
     },
     "execution_count": 11,
     "metadata": {},
     "output_type": "execute_result"
    }
   ],
   "source": [
    "get_gausian_prob_val(info_mat, 1, 'Age', x_test['Age'].iloc[0])"
   ]
  },
  {
   "cell_type": "code",
   "execution_count": 12,
   "id": "de7d0a15-01bf-43c8-a8e2-64c0bb8e3bb7",
   "metadata": {},
   "outputs": [
    {
     "data": {
      "text/plain": [
       "30"
      ]
     },
     "execution_count": 12,
     "metadata": {},
     "output_type": "execute_result"
    }
   ],
   "source": [
    "x_test.iloc[0]['Age']"
   ]
  },
  {
   "cell_type": "code",
   "execution_count": 13,
   "id": "1bd12ba4-6d32-4d87-bef1-204107b471e9",
   "metadata": {},
   "outputs": [],
   "source": [
    "def classify(info_mat, priori_prob_classes, xvals):\n",
    "    maxclass = None\n",
    "    maxprob = 0\n",
    "    for class_k, class_prob in priori_prob_classes.items():\n",
    "        prob = class_prob\n",
    "        for col in xvals.index:\n",
    "            prob *= get_gausian_prob_val(info_mat, class_k, col, xvals[col])\n",
    "        if(prob > maxprob):\n",
    "            maxprob = prob\n",
    "            maxclass = class_k\n",
    "    return maxclass"
   ]
  },
  {
   "cell_type": "code",
   "execution_count": 14,
   "id": "1294eb82-2d81-4e81-894a-feff66a00028",
   "metadata": {},
   "outputs": [],
   "source": [
    "even_priori_probability = {0: 0.5, 1: 0.5}"
   ]
  },
  {
   "cell_type": "code",
   "execution_count": 15,
   "id": "ae92c9cb-837d-4ed7-972b-b7e582296313",
   "metadata": {},
   "outputs": [
    {
     "data": {
      "text/plain": [
       "0"
      ]
     },
     "execution_count": 15,
     "metadata": {},
     "output_type": "execute_result"
    }
   ],
   "source": [
    "classify(info_mat, even_priori_probability, x_test.iloc[0])"
   ]
  },
  {
   "cell_type": "code",
   "execution_count": 16,
   "id": "d3f0ad5a-177e-46e1-ac26-9200256c91b1",
   "metadata": {},
   "outputs": [
    {
     "data": {
      "text/plain": [
       "0"
      ]
     },
     "execution_count": 16,
     "metadata": {},
     "output_type": "execute_result"
    }
   ],
   "source": [
    "classify(info_mat, even_priori_probability, x_test.iloc[1])"
   ]
  },
  {
   "cell_type": "code",
   "execution_count": 17,
   "id": "943861ac-b2c7-4081-bc07-62ae4bda90f0",
   "metadata": {},
   "outputs": [],
   "source": [
    "pred0 = x_train.apply(lambda x: classify(info_mat, even_priori_probability, x), axis=1)"
   ]
  },
  {
   "cell_type": "code",
   "execution_count": 18,
   "id": "dfe224a2-0a1b-4c7f-862c-442930e5e76d",
   "metadata": {},
   "outputs": [],
   "source": [
    "pred1 = x_test.apply(lambda x: classify(info_mat, even_priori_probability, x), axis=1)"
   ]
  },
  {
   "cell_type": "code",
   "execution_count": 19,
   "id": "7dff31f2-69ee-400d-b83e-775228c9d95a",
   "metadata": {},
   "outputs": [],
   "source": [
    "from sklearn import metrics"
   ]
  },
  {
   "cell_type": "code",
   "execution_count": 20,
   "id": "898ec864-81f4-430c-95eb-a51317809502",
   "metadata": {},
   "outputs": [
    {
     "data": {
      "text/plain": [
       "0.92"
      ]
     },
     "execution_count": 20,
     "metadata": {},
     "output_type": "execute_result"
    }
   ],
   "source": [
    "metrics.accuracy_score(y_test, pred1)"
   ]
  },
  {
   "cell_type": "code",
   "execution_count": 21,
   "id": "f1ad1037-1fba-4104-b1cf-60f53bbd1795",
   "metadata": {},
   "outputs": [
    {
     "data": {
      "text/plain": [
       "array([[63,  5],\n",
       "       [ 3, 29]])"
      ]
     },
     "execution_count": 21,
     "metadata": {},
     "output_type": "execute_result"
    }
   ],
   "source": [
    "metrics.confusion_matrix(y_test, pred1)"
   ]
  },
  {
   "cell_type": "code",
   "execution_count": 22,
   "id": "cafc3ad0-9a12-4149-9960-ad723273c971",
   "metadata": {},
   "outputs": [],
   "source": [
    "from sklearn.naive_bayes import GaussianNB"
   ]
  },
  {
   "cell_type": "code",
   "execution_count": 23,
   "id": "7fdcffd6-65af-49b7-98d4-e6a951e37adc",
   "metadata": {},
   "outputs": [],
   "source": [
    "mdl = GaussianNB()"
   ]
  },
  {
   "cell_type": "code",
   "execution_count": 24,
   "id": "b9389861-5e09-4ad4-a7b6-7d27d65a8e3b",
   "metadata": {},
   "outputs": [
    {
     "data": {
      "text/html": [
       "<style>#sk-container-id-1 {color: black;}#sk-container-id-1 pre{padding: 0;}#sk-container-id-1 div.sk-toggleable {background-color: white;}#sk-container-id-1 label.sk-toggleable__label {cursor: pointer;display: block;width: 100%;margin-bottom: 0;padding: 0.3em;box-sizing: border-box;text-align: center;}#sk-container-id-1 label.sk-toggleable__label-arrow:before {content: \"▸\";float: left;margin-right: 0.25em;color: #696969;}#sk-container-id-1 label.sk-toggleable__label-arrow:hover:before {color: black;}#sk-container-id-1 div.sk-estimator:hover label.sk-toggleable__label-arrow:before {color: black;}#sk-container-id-1 div.sk-toggleable__content {max-height: 0;max-width: 0;overflow: hidden;text-align: left;background-color: #f0f8ff;}#sk-container-id-1 div.sk-toggleable__content pre {margin: 0.2em;color: black;border-radius: 0.25em;background-color: #f0f8ff;}#sk-container-id-1 input.sk-toggleable__control:checked~div.sk-toggleable__content {max-height: 200px;max-width: 100%;overflow: auto;}#sk-container-id-1 input.sk-toggleable__control:checked~label.sk-toggleable__label-arrow:before {content: \"▾\";}#sk-container-id-1 div.sk-estimator input.sk-toggleable__control:checked~label.sk-toggleable__label {background-color: #d4ebff;}#sk-container-id-1 div.sk-label input.sk-toggleable__control:checked~label.sk-toggleable__label {background-color: #d4ebff;}#sk-container-id-1 input.sk-hidden--visually {border: 0;clip: rect(1px 1px 1px 1px);clip: rect(1px, 1px, 1px, 1px);height: 1px;margin: -1px;overflow: hidden;padding: 0;position: absolute;width: 1px;}#sk-container-id-1 div.sk-estimator {font-family: monospace;background-color: #f0f8ff;border: 1px dotted black;border-radius: 0.25em;box-sizing: border-box;margin-bottom: 0.5em;}#sk-container-id-1 div.sk-estimator:hover {background-color: #d4ebff;}#sk-container-id-1 div.sk-parallel-item::after {content: \"\";width: 100%;border-bottom: 1px solid gray;flex-grow: 1;}#sk-container-id-1 div.sk-label:hover label.sk-toggleable__label {background-color: #d4ebff;}#sk-container-id-1 div.sk-serial::before {content: \"\";position: absolute;border-left: 1px solid gray;box-sizing: border-box;top: 0;bottom: 0;left: 50%;z-index: 0;}#sk-container-id-1 div.sk-serial {display: flex;flex-direction: column;align-items: center;background-color: white;padding-right: 0.2em;padding-left: 0.2em;position: relative;}#sk-container-id-1 div.sk-item {position: relative;z-index: 1;}#sk-container-id-1 div.sk-parallel {display: flex;align-items: stretch;justify-content: center;background-color: white;position: relative;}#sk-container-id-1 div.sk-item::before, #sk-container-id-1 div.sk-parallel-item::before {content: \"\";position: absolute;border-left: 1px solid gray;box-sizing: border-box;top: 0;bottom: 0;left: 50%;z-index: -1;}#sk-container-id-1 div.sk-parallel-item {display: flex;flex-direction: column;z-index: 1;position: relative;background-color: white;}#sk-container-id-1 div.sk-parallel-item:first-child::after {align-self: flex-end;width: 50%;}#sk-container-id-1 div.sk-parallel-item:last-child::after {align-self: flex-start;width: 50%;}#sk-container-id-1 div.sk-parallel-item:only-child::after {width: 0;}#sk-container-id-1 div.sk-dashed-wrapped {border: 1px dashed gray;margin: 0 0.4em 0.5em 0.4em;box-sizing: border-box;padding-bottom: 0.4em;background-color: white;}#sk-container-id-1 div.sk-label label {font-family: monospace;font-weight: bold;display: inline-block;line-height: 1.2em;}#sk-container-id-1 div.sk-label-container {text-align: center;}#sk-container-id-1 div.sk-container {/* jupyter's `normalize.less` sets `[hidden] { display: none; }` but bootstrap.min.css set `[hidden] { display: none !important; }` so we also need the `!important` here to be able to override the default hidden behavior on the sphinx rendered scikit-learn.org. See: https://github.com/scikit-learn/scikit-learn/issues/21755 */display: inline-block !important;position: relative;}#sk-container-id-1 div.sk-text-repr-fallback {display: none;}</style><div id=\"sk-container-id-1\" class=\"sk-top-container\"><div class=\"sk-text-repr-fallback\"><pre>GaussianNB()</pre><b>In a Jupyter environment, please rerun this cell to show the HTML representation or trust the notebook. <br />On GitHub, the HTML representation is unable to render, please try loading this page with nbviewer.org.</b></div><div class=\"sk-container\" hidden><div class=\"sk-item\"><div class=\"sk-estimator sk-toggleable\"><input class=\"sk-toggleable__control sk-hidden--visually\" id=\"sk-estimator-id-1\" type=\"checkbox\" checked><label for=\"sk-estimator-id-1\" class=\"sk-toggleable__label sk-toggleable__label-arrow\">GaussianNB</label><div class=\"sk-toggleable__content\"><pre>GaussianNB()</pre></div></div></div></div></div>"
      ],
      "text/plain": [
       "GaussianNB()"
      ]
     },
     "execution_count": 24,
     "metadata": {},
     "output_type": "execute_result"
    }
   ],
   "source": [
    "mdl.fit(x_train, y_train)"
   ]
  },
  {
   "cell_type": "code",
   "execution_count": 25,
   "id": "d7ecc6b1-ef5c-48a6-bada-eae3e023cb37",
   "metadata": {},
   "outputs": [],
   "source": [
    "pred2 = mdl.predict(x_test)"
   ]
  },
  {
   "cell_type": "code",
   "execution_count": 26,
   "id": "e9788d95-4950-487b-8607-d041235982c5",
   "metadata": {},
   "outputs": [
    {
     "data": {
      "text/plain": [
       "0.9"
      ]
     },
     "execution_count": 26,
     "metadata": {},
     "output_type": "execute_result"
    }
   ],
   "source": [
    "metrics.accuracy_score(y_test, pred2)"
   ]
  },
  {
   "cell_type": "code",
   "execution_count": 27,
   "id": "dabb298f-47fd-4ba5-91d7-88d77928f4d5",
   "metadata": {},
   "outputs": [],
   "source": [
    "infori = pd.read_csv('data/winequality-red.csv')"
   ]
  },
  {
   "cell_type": "code",
   "execution_count": 28,
   "id": "7fcf5d9f-f81d-4a86-93c7-3fbe2fef7416",
   "metadata": {},
   "outputs": [
    {
     "data": {
      "text/html": [
       "<div>\n",
       "<style scoped>\n",
       "    .dataframe tbody tr th:only-of-type {\n",
       "        vertical-align: middle;\n",
       "    }\n",
       "\n",
       "    .dataframe tbody tr th {\n",
       "        vertical-align: top;\n",
       "    }\n",
       "\n",
       "    .dataframe thead th {\n",
       "        text-align: right;\n",
       "    }\n",
       "</style>\n",
       "<table border=\"1\" class=\"dataframe\">\n",
       "  <thead>\n",
       "    <tr style=\"text-align: right;\">\n",
       "      <th></th>\n",
       "      <th>fixed acidity</th>\n",
       "      <th>volatile acidity</th>\n",
       "      <th>citric acid</th>\n",
       "      <th>residual sugar</th>\n",
       "      <th>chlorides</th>\n",
       "      <th>free sulfur dioxide</th>\n",
       "      <th>total sulfur dioxide</th>\n",
       "      <th>density</th>\n",
       "      <th>pH</th>\n",
       "      <th>sulphates</th>\n",
       "      <th>alcohol</th>\n",
       "      <th>quality</th>\n",
       "    </tr>\n",
       "  </thead>\n",
       "  <tbody>\n",
       "    <tr>\n",
       "      <th>count</th>\n",
       "      <td>1599.000000</td>\n",
       "      <td>1599.000000</td>\n",
       "      <td>1599.000000</td>\n",
       "      <td>1599.000000</td>\n",
       "      <td>1599.000000</td>\n",
       "      <td>1599.000000</td>\n",
       "      <td>1599.000000</td>\n",
       "      <td>1599.000000</td>\n",
       "      <td>1599.000000</td>\n",
       "      <td>1599.000000</td>\n",
       "      <td>1599.000000</td>\n",
       "      <td>1599.000000</td>\n",
       "    </tr>\n",
       "    <tr>\n",
       "      <th>mean</th>\n",
       "      <td>8.319637</td>\n",
       "      <td>0.527821</td>\n",
       "      <td>0.270976</td>\n",
       "      <td>2.538806</td>\n",
       "      <td>0.087467</td>\n",
       "      <td>15.874922</td>\n",
       "      <td>46.467792</td>\n",
       "      <td>0.996747</td>\n",
       "      <td>3.311113</td>\n",
       "      <td>0.658149</td>\n",
       "      <td>10.422983</td>\n",
       "      <td>5.636023</td>\n",
       "    </tr>\n",
       "    <tr>\n",
       "      <th>std</th>\n",
       "      <td>1.741096</td>\n",
       "      <td>0.179060</td>\n",
       "      <td>0.194801</td>\n",
       "      <td>1.409928</td>\n",
       "      <td>0.047065</td>\n",
       "      <td>10.460157</td>\n",
       "      <td>32.895324</td>\n",
       "      <td>0.001887</td>\n",
       "      <td>0.154386</td>\n",
       "      <td>0.169507</td>\n",
       "      <td>1.065668</td>\n",
       "      <td>0.807569</td>\n",
       "    </tr>\n",
       "    <tr>\n",
       "      <th>min</th>\n",
       "      <td>4.600000</td>\n",
       "      <td>0.120000</td>\n",
       "      <td>0.000000</td>\n",
       "      <td>0.900000</td>\n",
       "      <td>0.012000</td>\n",
       "      <td>1.000000</td>\n",
       "      <td>6.000000</td>\n",
       "      <td>0.990070</td>\n",
       "      <td>2.740000</td>\n",
       "      <td>0.330000</td>\n",
       "      <td>8.400000</td>\n",
       "      <td>3.000000</td>\n",
       "    </tr>\n",
       "    <tr>\n",
       "      <th>25%</th>\n",
       "      <td>7.100000</td>\n",
       "      <td>0.390000</td>\n",
       "      <td>0.090000</td>\n",
       "      <td>1.900000</td>\n",
       "      <td>0.070000</td>\n",
       "      <td>7.000000</td>\n",
       "      <td>22.000000</td>\n",
       "      <td>0.995600</td>\n",
       "      <td>3.210000</td>\n",
       "      <td>0.550000</td>\n",
       "      <td>9.500000</td>\n",
       "      <td>5.000000</td>\n",
       "    </tr>\n",
       "    <tr>\n",
       "      <th>50%</th>\n",
       "      <td>7.900000</td>\n",
       "      <td>0.520000</td>\n",
       "      <td>0.260000</td>\n",
       "      <td>2.200000</td>\n",
       "      <td>0.079000</td>\n",
       "      <td>14.000000</td>\n",
       "      <td>38.000000</td>\n",
       "      <td>0.996750</td>\n",
       "      <td>3.310000</td>\n",
       "      <td>0.620000</td>\n",
       "      <td>10.200000</td>\n",
       "      <td>6.000000</td>\n",
       "    </tr>\n",
       "    <tr>\n",
       "      <th>75%</th>\n",
       "      <td>9.200000</td>\n",
       "      <td>0.640000</td>\n",
       "      <td>0.420000</td>\n",
       "      <td>2.600000</td>\n",
       "      <td>0.090000</td>\n",
       "      <td>21.000000</td>\n",
       "      <td>62.000000</td>\n",
       "      <td>0.997835</td>\n",
       "      <td>3.400000</td>\n",
       "      <td>0.730000</td>\n",
       "      <td>11.100000</td>\n",
       "      <td>6.000000</td>\n",
       "    </tr>\n",
       "    <tr>\n",
       "      <th>max</th>\n",
       "      <td>15.900000</td>\n",
       "      <td>1.580000</td>\n",
       "      <td>1.000000</td>\n",
       "      <td>15.500000</td>\n",
       "      <td>0.611000</td>\n",
       "      <td>72.000000</td>\n",
       "      <td>289.000000</td>\n",
       "      <td>1.003690</td>\n",
       "      <td>4.010000</td>\n",
       "      <td>2.000000</td>\n",
       "      <td>14.900000</td>\n",
       "      <td>8.000000</td>\n",
       "    </tr>\n",
       "  </tbody>\n",
       "</table>\n",
       "</div>"
      ],
      "text/plain": [
       "       fixed acidity  volatile acidity  citric acid  residual sugar  \\\n",
       "count    1599.000000       1599.000000  1599.000000     1599.000000   \n",
       "mean        8.319637          0.527821     0.270976        2.538806   \n",
       "std         1.741096          0.179060     0.194801        1.409928   \n",
       "min         4.600000          0.120000     0.000000        0.900000   \n",
       "25%         7.100000          0.390000     0.090000        1.900000   \n",
       "50%         7.900000          0.520000     0.260000        2.200000   \n",
       "75%         9.200000          0.640000     0.420000        2.600000   \n",
       "max        15.900000          1.580000     1.000000       15.500000   \n",
       "\n",
       "         chlorides  free sulfur dioxide  total sulfur dioxide      density  \\\n",
       "count  1599.000000          1599.000000           1599.000000  1599.000000   \n",
       "mean      0.087467            15.874922             46.467792     0.996747   \n",
       "std       0.047065            10.460157             32.895324     0.001887   \n",
       "min       0.012000             1.000000              6.000000     0.990070   \n",
       "25%       0.070000             7.000000             22.000000     0.995600   \n",
       "50%       0.079000            14.000000             38.000000     0.996750   \n",
       "75%       0.090000            21.000000             62.000000     0.997835   \n",
       "max       0.611000            72.000000            289.000000     1.003690   \n",
       "\n",
       "                pH    sulphates      alcohol      quality  \n",
       "count  1599.000000  1599.000000  1599.000000  1599.000000  \n",
       "mean      3.311113     0.658149    10.422983     5.636023  \n",
       "std       0.154386     0.169507     1.065668     0.807569  \n",
       "min       2.740000     0.330000     8.400000     3.000000  \n",
       "25%       3.210000     0.550000     9.500000     5.000000  \n",
       "50%       3.310000     0.620000    10.200000     6.000000  \n",
       "75%       3.400000     0.730000    11.100000     6.000000  \n",
       "max       4.010000     2.000000    14.900000     8.000000  "
      ]
     },
     "execution_count": 28,
     "metadata": {},
     "output_type": "execute_result"
    }
   ],
   "source": [
    "infori.describe()"
   ]
  },
  {
   "cell_type": "code",
   "execution_count": 29,
   "id": "b627d328-3835-4ae5-b57a-1b6f933fc009",
   "metadata": {},
   "outputs": [],
   "source": [
    "x_train, x_test, y_train, y_test = train_test_split(infori[infori.columns[0:11]], infori['quality'], test_size=0.25, random_state=0)"
   ]
  },
  {
   "cell_type": "code",
   "execution_count": 30,
   "id": "173daddc-47b7-4966-8622-1ce07fe501e6",
   "metadata": {},
   "outputs": [
    {
     "data": {
      "text/html": [
       "<div>\n",
       "<style scoped>\n",
       "    .dataframe tbody tr th:only-of-type {\n",
       "        vertical-align: middle;\n",
       "    }\n",
       "\n",
       "    .dataframe tbody tr th {\n",
       "        vertical-align: top;\n",
       "    }\n",
       "\n",
       "    .dataframe thead th {\n",
       "        text-align: right;\n",
       "    }\n",
       "</style>\n",
       "<table border=\"1\" class=\"dataframe\">\n",
       "  <thead>\n",
       "    <tr style=\"text-align: right;\">\n",
       "      <th></th>\n",
       "      <th>fixed acidity</th>\n",
       "      <th>volatile acidity</th>\n",
       "      <th>citric acid</th>\n",
       "      <th>residual sugar</th>\n",
       "      <th>chlorides</th>\n",
       "      <th>free sulfur dioxide</th>\n",
       "      <th>total sulfur dioxide</th>\n",
       "      <th>density</th>\n",
       "      <th>pH</th>\n",
       "      <th>sulphates</th>\n",
       "      <th>alcohol</th>\n",
       "    </tr>\n",
       "  </thead>\n",
       "  <tbody>\n",
       "    <tr>\n",
       "      <th>140</th>\n",
       "      <td>8.4</td>\n",
       "      <td>0.745</td>\n",
       "      <td>0.11</td>\n",
       "      <td>1.9</td>\n",
       "      <td>0.090</td>\n",
       "      <td>16.0</td>\n",
       "      <td>63.0</td>\n",
       "      <td>0.99650</td>\n",
       "      <td>3.19</td>\n",
       "      <td>0.82</td>\n",
       "      <td>9.6</td>\n",
       "    </tr>\n",
       "    <tr>\n",
       "      <th>1232</th>\n",
       "      <td>7.6</td>\n",
       "      <td>0.430</td>\n",
       "      <td>0.29</td>\n",
       "      <td>2.1</td>\n",
       "      <td>0.075</td>\n",
       "      <td>19.0</td>\n",
       "      <td>66.0</td>\n",
       "      <td>0.99718</td>\n",
       "      <td>3.40</td>\n",
       "      <td>0.64</td>\n",
       "      <td>9.5</td>\n",
       "    </tr>\n",
       "    <tr>\n",
       "      <th>720</th>\n",
       "      <td>8.4</td>\n",
       "      <td>0.560</td>\n",
       "      <td>0.04</td>\n",
       "      <td>2.0</td>\n",
       "      <td>0.082</td>\n",
       "      <td>10.0</td>\n",
       "      <td>22.0</td>\n",
       "      <td>0.99760</td>\n",
       "      <td>3.22</td>\n",
       "      <td>0.44</td>\n",
       "      <td>9.6</td>\n",
       "    </tr>\n",
       "    <tr>\n",
       "      <th>77</th>\n",
       "      <td>6.8</td>\n",
       "      <td>0.785</td>\n",
       "      <td>0.00</td>\n",
       "      <td>2.4</td>\n",
       "      <td>0.104</td>\n",
       "      <td>14.0</td>\n",
       "      <td>30.0</td>\n",
       "      <td>0.99660</td>\n",
       "      <td>3.52</td>\n",
       "      <td>0.55</td>\n",
       "      <td>10.7</td>\n",
       "    </tr>\n",
       "    <tr>\n",
       "      <th>39</th>\n",
       "      <td>7.3</td>\n",
       "      <td>0.450</td>\n",
       "      <td>0.36</td>\n",
       "      <td>5.9</td>\n",
       "      <td>0.074</td>\n",
       "      <td>12.0</td>\n",
       "      <td>87.0</td>\n",
       "      <td>0.99780</td>\n",
       "      <td>3.33</td>\n",
       "      <td>0.83</td>\n",
       "      <td>10.5</td>\n",
       "    </tr>\n",
       "    <tr>\n",
       "      <th>...</th>\n",
       "      <td>...</td>\n",
       "      <td>...</td>\n",
       "      <td>...</td>\n",
       "      <td>...</td>\n",
       "      <td>...</td>\n",
       "      <td>...</td>\n",
       "      <td>...</td>\n",
       "      <td>...</td>\n",
       "      <td>...</td>\n",
       "      <td>...</td>\n",
       "      <td>...</td>\n",
       "    </tr>\n",
       "    <tr>\n",
       "      <th>763</th>\n",
       "      <td>9.3</td>\n",
       "      <td>0.655</td>\n",
       "      <td>0.26</td>\n",
       "      <td>2.0</td>\n",
       "      <td>0.096</td>\n",
       "      <td>5.0</td>\n",
       "      <td>35.0</td>\n",
       "      <td>0.99738</td>\n",
       "      <td>3.25</td>\n",
       "      <td>0.42</td>\n",
       "      <td>9.6</td>\n",
       "    </tr>\n",
       "    <tr>\n",
       "      <th>835</th>\n",
       "      <td>7.6</td>\n",
       "      <td>0.665</td>\n",
       "      <td>0.10</td>\n",
       "      <td>1.5</td>\n",
       "      <td>0.066</td>\n",
       "      <td>27.0</td>\n",
       "      <td>55.0</td>\n",
       "      <td>0.99655</td>\n",
       "      <td>3.39</td>\n",
       "      <td>0.51</td>\n",
       "      <td>9.3</td>\n",
       "    </tr>\n",
       "    <tr>\n",
       "      <th>1216</th>\n",
       "      <td>7.9</td>\n",
       "      <td>0.570</td>\n",
       "      <td>0.31</td>\n",
       "      <td>2.0</td>\n",
       "      <td>0.079</td>\n",
       "      <td>10.0</td>\n",
       "      <td>79.0</td>\n",
       "      <td>0.99677</td>\n",
       "      <td>3.29</td>\n",
       "      <td>0.69</td>\n",
       "      <td>9.5</td>\n",
       "    </tr>\n",
       "    <tr>\n",
       "      <th>559</th>\n",
       "      <td>13.0</td>\n",
       "      <td>0.470</td>\n",
       "      <td>0.49</td>\n",
       "      <td>4.3</td>\n",
       "      <td>0.085</td>\n",
       "      <td>6.0</td>\n",
       "      <td>47.0</td>\n",
       "      <td>1.00210</td>\n",
       "      <td>3.30</td>\n",
       "      <td>0.68</td>\n",
       "      <td>12.7</td>\n",
       "    </tr>\n",
       "    <tr>\n",
       "      <th>684</th>\n",
       "      <td>9.8</td>\n",
       "      <td>0.980</td>\n",
       "      <td>0.32</td>\n",
       "      <td>2.3</td>\n",
       "      <td>0.078</td>\n",
       "      <td>35.0</td>\n",
       "      <td>152.0</td>\n",
       "      <td>0.99800</td>\n",
       "      <td>3.25</td>\n",
       "      <td>0.48</td>\n",
       "      <td>9.4</td>\n",
       "    </tr>\n",
       "  </tbody>\n",
       "</table>\n",
       "<p>1199 rows × 11 columns</p>\n",
       "</div>"
      ],
      "text/plain": [
       "      fixed acidity  volatile acidity  citric acid  residual sugar  chlorides  \\\n",
       "140             8.4             0.745         0.11             1.9      0.090   \n",
       "1232            7.6             0.430         0.29             2.1      0.075   \n",
       "720             8.4             0.560         0.04             2.0      0.082   \n",
       "77              6.8             0.785         0.00             2.4      0.104   \n",
       "39              7.3             0.450         0.36             5.9      0.074   \n",
       "...             ...               ...          ...             ...        ...   \n",
       "763             9.3             0.655         0.26             2.0      0.096   \n",
       "835             7.6             0.665         0.10             1.5      0.066   \n",
       "1216            7.9             0.570         0.31             2.0      0.079   \n",
       "559            13.0             0.470         0.49             4.3      0.085   \n",
       "684             9.8             0.980         0.32             2.3      0.078   \n",
       "\n",
       "      free sulfur dioxide  total sulfur dioxide  density    pH  sulphates  \\\n",
       "140                  16.0                  63.0  0.99650  3.19       0.82   \n",
       "1232                 19.0                  66.0  0.99718  3.40       0.64   \n",
       "720                  10.0                  22.0  0.99760  3.22       0.44   \n",
       "77                   14.0                  30.0  0.99660  3.52       0.55   \n",
       "39                   12.0                  87.0  0.99780  3.33       0.83   \n",
       "...                   ...                   ...      ...   ...        ...   \n",
       "763                   5.0                  35.0  0.99738  3.25       0.42   \n",
       "835                  27.0                  55.0  0.99655  3.39       0.51   \n",
       "1216                 10.0                  79.0  0.99677  3.29       0.69   \n",
       "559                   6.0                  47.0  1.00210  3.30       0.68   \n",
       "684                  35.0                 152.0  0.99800  3.25       0.48   \n",
       "\n",
       "      alcohol  \n",
       "140       9.6  \n",
       "1232      9.5  \n",
       "720       9.6  \n",
       "77       10.7  \n",
       "39       10.5  \n",
       "...       ...  \n",
       "763       9.6  \n",
       "835       9.3  \n",
       "1216      9.5  \n",
       "559      12.7  \n",
       "684       9.4  \n",
       "\n",
       "[1199 rows x 11 columns]"
      ]
     },
     "execution_count": 30,
     "metadata": {},
     "output_type": "execute_result"
    }
   ],
   "source": [
    "x_train"
   ]
  },
  {
   "cell_type": "code",
   "execution_count": 31,
   "id": "1d5fc310-2668-419a-b419-8fa98c41a2c7",
   "metadata": {},
   "outputs": [
    {
     "data": {
      "text/plain": [
       "140     5\n",
       "1232    5\n",
       "720     5\n",
       "77      6\n",
       "39      5\n",
       "       ..\n",
       "763     5\n",
       "835     5\n",
       "1216    6\n",
       "559     6\n",
       "684     5\n",
       "Name: quality, Length: 1199, dtype: int64"
      ]
     },
     "execution_count": 31,
     "metadata": {},
     "output_type": "execute_result"
    }
   ],
   "source": [
    "y_train"
   ]
  },
  {
   "cell_type": "code",
   "execution_count": 32,
   "id": "40d6c399-3f6c-49dc-8877-55bf7979ed1c",
   "metadata": {},
   "outputs": [
    {
     "data": {
      "text/plain": [
       "{5: {'fixed acidity': (8.156640624999998, 2.3794861484833665),\n",
       "  'volatile acidity': (0.578759765625, 0.02812482867156923),\n",
       "  'citric acid': (0.24244140625, 0.03142357777336105),\n",
       "  'residual sugar': (2.5508789062500004, 2.125023687851639),\n",
       "  'chlorides': (0.09178320312499999, 0.0028532660186827295),\n",
       "  'free sulfur dioxide': (17.501953125, 126.92367523850294),\n",
       "  'total sulfur dioxide': (58.001953125, 1443.7661409919276),\n",
       "  'density': (0.9970811328125, 2.615583841426125e-06),\n",
       "  'pH': (3.3055273437499997, 0.022443165591364965),\n",
       "  'sulphates': (0.618125, 0.03071663405088063),\n",
       "  'alcohol': (9.89697265625, 0.5586649855522261)},\n",
       " 6: {'fixed acidity': (8.395940170940172, 3.2431740606526476),\n",
       "  'volatile acidity': (0.5036645299145299, 0.026884990002562274),\n",
       "  'citric acid': (0.27384615384615385, 0.03910209191237028),\n",
       "  'residual sugar': (2.501923076923077, 2.419664388074452),\n",
       "  'chlorides': (0.08515598290598289, 0.001692093390252384),\n",
       "  'free sulfur dioxide': (15.636752136752136, 99.25534874357143),\n",
       "  'total sulfur dioxide': (41.26495726495727, 644.5335017112318),\n",
       "  'density': (0.9966832692307692, 3.936212201449494e-06),\n",
       "  'pH': (3.310619658119658, 0.02421867301744175),\n",
       "  'sulphates': (0.6772863247863249, 0.0285204574571277),\n",
       "  'alcohol': (10.584900284900286, 1.1227170254864762)},\n",
       " 7: {'fixed acidity': (8.886163522012579, 4.009680757901441),\n",
       "  'volatile acidity': (0.39691823899371076, 0.019527151500676694),\n",
       "  'citric acid': (0.3757232704402516, 0.037051214075312484),\n",
       "  'residual sugar': (2.732075471698113, 1.9828887031287319),\n",
       "  'chlorides': (0.07676729559748427, 0.0009807493033994108),\n",
       "  'free sulfur dioxide': (14.069182389937106, 100.61860122601705),\n",
       "  'total sulfur dioxide': (36.0503144654088, 1288.1873258498529),\n",
       "  'density': (0.9961106289308177, 4.5157856778919075e-06),\n",
       "  'pH': (3.2926415094339623, 0.022536016240745162),\n",
       "  'sulphates': (0.7444025157232705, 0.02000834328477032),\n",
       "  'alcohol': (11.418343815513628, 0.9625534281594716)},\n",
       " 4: {'fixed acidity': (7.917948717948718, 3.041511470985155),\n",
       "  'volatile acidity': (0.7143589743589742, 0.05497128879892038),\n",
       "  'citric acid': (0.18487179487179484, 0.04537827260458839),\n",
       "  'residual sugar': (2.620512820512821, 1.347989203778677),\n",
       "  'chlorides': (0.09448717948717948, 0.007776203778677465),\n",
       "  'free sulfur dioxide': (14.256410256410257, 91.24831309041835),\n",
       "  'total sulfur dioxide': (37.48717948717949, 682.6248313090418),\n",
       "  'density': (0.9966215384615384, 2.6183186234817766e-06),\n",
       "  'pH': (3.382307692307693, 0.033486639676113365),\n",
       "  'sulphates': (0.6112820512820513, 0.06723252361673417),\n",
       "  'alcohol': (10.257692307692306, 0.6998076923076922)},\n",
       " 3: {'fixed acidity': (7.699999999999999, 1.4400000000000006),\n",
       "  'volatile acidity': (0.956875, 0.11108526785714286),\n",
       "  'citric acid': (0.07, 0.020428571428571428),\n",
       "  'residual sugar': (2.7562500000000005, 2.4410267857142856),\n",
       "  'chlorides': (0.11887499999999998, 0.004432410714285717),\n",
       "  'free sulfur dioxide': (11.875, 116.41071428571429),\n",
       "  'total sulfur dioxide': (23.25, 279.92857142857144),\n",
       "  'density': (0.9968049999999999, 2.530742857142878e-06),\n",
       "  'pH': (3.44625, 0.012798214285714279),\n",
       "  'sulphates': (0.5625, 0.01856428571428571),\n",
       "  'alcohol': (10.26875, 0.27209821428571435)},\n",
       " 8: {'fixed acidity': (8.346153846153847, 3.8660256410256406),\n",
       "  'volatile acidity': (0.40538461538461534, 0.00921025641025641),\n",
       "  'citric acid': (0.3976923076923077, 0.02741923076923077),\n",
       "  'residual sugar': (2.4076923076923076, 0.9891025641025641),\n",
       "  'chlorides': (0.06899999999999998, 0.0001321666666666669),\n",
       "  'free sulfur dioxide': (13.538461538461538, 125.76923076923076),\n",
       "  'total sulfur dioxide': (31.53846153846154, 594.2692307692308),\n",
       "  'density': (0.9949653846153846, 5.590960256410232e-06),\n",
       "  'pH': (3.2715384615384613, 0.03301410256410258),\n",
       "  'sulphates': (0.7461538461538461, 0.01567564102564103),\n",
       "  'alcohol': (12.153846153846153, 1.5610256410256411)}}"
      ]
     },
     "execution_count": 32,
     "metadata": {},
     "output_type": "execute_result"
    }
   ],
   "source": [
    "info_mat = get_gauss_mat_for_data(x_train, y_train)\n",
    "info_mat"
   ]
  },
  {
   "cell_type": "code",
   "execution_count": 33,
   "id": "0f07bb91-83d7-47c1-bf4e-c25835e4bc83",
   "metadata": {},
   "outputs": [],
   "source": [
    "even_priori_probability = {3: 0.1, 4: 0.1, 5: 0.1, 6: 0.1, 7: 0.1, 8: 0.1}"
   ]
  },
  {
   "cell_type": "code",
   "execution_count": 34,
   "id": "0d8ad778-5a33-4bf4-b2ea-2f72021eefa7",
   "metadata": {},
   "outputs": [
    {
     "data": {
      "text/plain": [
       "fixed acidity           10.8000\n",
       "volatile acidity         0.4700\n",
       "citric acid              0.4300\n",
       "residual sugar           2.1000\n",
       "chlorides                0.1710\n",
       "free sulfur dioxide     27.0000\n",
       "total sulfur dioxide    66.0000\n",
       "density                  0.9982\n",
       "pH                       3.1700\n",
       "sulphates                0.7600\n",
       "alcohol                 10.8000\n",
       "Name: 1109, dtype: float64"
      ]
     },
     "execution_count": 34,
     "metadata": {},
     "output_type": "execute_result"
    }
   ],
   "source": [
    "x_test.iloc[0]"
   ]
  },
  {
   "cell_type": "code",
   "execution_count": 35,
   "id": "640f2bf6-84e4-44fe-8562-e2d31c3632ad",
   "metadata": {},
   "outputs": [
    {
     "data": {
      "text/plain": [
       "5"
      ]
     },
     "execution_count": 35,
     "metadata": {},
     "output_type": "execute_result"
    }
   ],
   "source": [
    "classify(info_mat, even_priori_probability, x_test.iloc[0])"
   ]
  },
  {
   "cell_type": "code",
   "execution_count": 36,
   "id": "66368b1f-ea5e-41a2-8b07-be08a19eff7f",
   "metadata": {},
   "outputs": [],
   "source": [
    "pred0 = x_train.apply(lambda x: classify(info_mat, even_priori_probability, x), axis=1)"
   ]
  },
  {
   "cell_type": "code",
   "execution_count": 37,
   "id": "3b3ba36a-62ed-4bb7-919f-e5d3e8bd9f14",
   "metadata": {},
   "outputs": [],
   "source": [
    "pred1 = x_test.apply(lambda x: classify(info_mat, even_priori_probability, x), axis=1)"
   ]
  },
  {
   "cell_type": "code",
   "execution_count": 38,
   "id": "0c4168ce-3816-47af-aabb-caca98117034",
   "metadata": {},
   "outputs": [
    {
     "data": {
      "text/plain": [
       "0.3703085904920767"
      ]
     },
     "execution_count": 38,
     "metadata": {},
     "output_type": "execute_result"
    }
   ],
   "source": [
    "metrics.accuracy_score(y_train, pred0)"
   ]
  },
  {
   "cell_type": "code",
   "execution_count": 39,
   "id": "f759bea8-8c3d-412b-bd21-48655d56fb94",
   "metadata": {},
   "outputs": [
    {
     "data": {
      "text/plain": [
       "0.315"
      ]
     },
     "execution_count": 39,
     "metadata": {},
     "output_type": "execute_result"
    }
   ],
   "source": [
    "metrics.accuracy_score(y_test, pred1)"
   ]
  },
  {
   "cell_type": "code",
   "execution_count": 40,
   "id": "847054ca-3395-4c70-93f8-1bf8ad814260",
   "metadata": {},
   "outputs": [],
   "source": [
    "mdl = GaussianNB()"
   ]
  },
  {
   "cell_type": "code",
   "execution_count": 41,
   "id": "0589e9ec-b460-4358-9e40-5b71e3457c57",
   "metadata": {},
   "outputs": [
    {
     "data": {
      "text/html": [
       "<style>#sk-container-id-2 {color: black;}#sk-container-id-2 pre{padding: 0;}#sk-container-id-2 div.sk-toggleable {background-color: white;}#sk-container-id-2 label.sk-toggleable__label {cursor: pointer;display: block;width: 100%;margin-bottom: 0;padding: 0.3em;box-sizing: border-box;text-align: center;}#sk-container-id-2 label.sk-toggleable__label-arrow:before {content: \"▸\";float: left;margin-right: 0.25em;color: #696969;}#sk-container-id-2 label.sk-toggleable__label-arrow:hover:before {color: black;}#sk-container-id-2 div.sk-estimator:hover label.sk-toggleable__label-arrow:before {color: black;}#sk-container-id-2 div.sk-toggleable__content {max-height: 0;max-width: 0;overflow: hidden;text-align: left;background-color: #f0f8ff;}#sk-container-id-2 div.sk-toggleable__content pre {margin: 0.2em;color: black;border-radius: 0.25em;background-color: #f0f8ff;}#sk-container-id-2 input.sk-toggleable__control:checked~div.sk-toggleable__content {max-height: 200px;max-width: 100%;overflow: auto;}#sk-container-id-2 input.sk-toggleable__control:checked~label.sk-toggleable__label-arrow:before {content: \"▾\";}#sk-container-id-2 div.sk-estimator input.sk-toggleable__control:checked~label.sk-toggleable__label {background-color: #d4ebff;}#sk-container-id-2 div.sk-label input.sk-toggleable__control:checked~label.sk-toggleable__label {background-color: #d4ebff;}#sk-container-id-2 input.sk-hidden--visually {border: 0;clip: rect(1px 1px 1px 1px);clip: rect(1px, 1px, 1px, 1px);height: 1px;margin: -1px;overflow: hidden;padding: 0;position: absolute;width: 1px;}#sk-container-id-2 div.sk-estimator {font-family: monospace;background-color: #f0f8ff;border: 1px dotted black;border-radius: 0.25em;box-sizing: border-box;margin-bottom: 0.5em;}#sk-container-id-2 div.sk-estimator:hover {background-color: #d4ebff;}#sk-container-id-2 div.sk-parallel-item::after {content: \"\";width: 100%;border-bottom: 1px solid gray;flex-grow: 1;}#sk-container-id-2 div.sk-label:hover label.sk-toggleable__label {background-color: #d4ebff;}#sk-container-id-2 div.sk-serial::before {content: \"\";position: absolute;border-left: 1px solid gray;box-sizing: border-box;top: 0;bottom: 0;left: 50%;z-index: 0;}#sk-container-id-2 div.sk-serial {display: flex;flex-direction: column;align-items: center;background-color: white;padding-right: 0.2em;padding-left: 0.2em;position: relative;}#sk-container-id-2 div.sk-item {position: relative;z-index: 1;}#sk-container-id-2 div.sk-parallel {display: flex;align-items: stretch;justify-content: center;background-color: white;position: relative;}#sk-container-id-2 div.sk-item::before, #sk-container-id-2 div.sk-parallel-item::before {content: \"\";position: absolute;border-left: 1px solid gray;box-sizing: border-box;top: 0;bottom: 0;left: 50%;z-index: -1;}#sk-container-id-2 div.sk-parallel-item {display: flex;flex-direction: column;z-index: 1;position: relative;background-color: white;}#sk-container-id-2 div.sk-parallel-item:first-child::after {align-self: flex-end;width: 50%;}#sk-container-id-2 div.sk-parallel-item:last-child::after {align-self: flex-start;width: 50%;}#sk-container-id-2 div.sk-parallel-item:only-child::after {width: 0;}#sk-container-id-2 div.sk-dashed-wrapped {border: 1px dashed gray;margin: 0 0.4em 0.5em 0.4em;box-sizing: border-box;padding-bottom: 0.4em;background-color: white;}#sk-container-id-2 div.sk-label label {font-family: monospace;font-weight: bold;display: inline-block;line-height: 1.2em;}#sk-container-id-2 div.sk-label-container {text-align: center;}#sk-container-id-2 div.sk-container {/* jupyter's `normalize.less` sets `[hidden] { display: none; }` but bootstrap.min.css set `[hidden] { display: none !important; }` so we also need the `!important` here to be able to override the default hidden behavior on the sphinx rendered scikit-learn.org. See: https://github.com/scikit-learn/scikit-learn/issues/21755 */display: inline-block !important;position: relative;}#sk-container-id-2 div.sk-text-repr-fallback {display: none;}</style><div id=\"sk-container-id-2\" class=\"sk-top-container\"><div class=\"sk-text-repr-fallback\"><pre>GaussianNB()</pre><b>In a Jupyter environment, please rerun this cell to show the HTML representation or trust the notebook. <br />On GitHub, the HTML representation is unable to render, please try loading this page with nbviewer.org.</b></div><div class=\"sk-container\" hidden><div class=\"sk-item\"><div class=\"sk-estimator sk-toggleable\"><input class=\"sk-toggleable__control sk-hidden--visually\" id=\"sk-estimator-id-2\" type=\"checkbox\" checked><label for=\"sk-estimator-id-2\" class=\"sk-toggleable__label sk-toggleable__label-arrow\">GaussianNB</label><div class=\"sk-toggleable__content\"><pre>GaussianNB()</pre></div></div></div></div></div>"
      ],
      "text/plain": [
       "GaussianNB()"
      ]
     },
     "execution_count": 41,
     "metadata": {},
     "output_type": "execute_result"
    }
   ],
   "source": [
    "mdl.fit(x_train, y_train)"
   ]
  },
  {
   "cell_type": "code",
   "execution_count": 42,
   "id": "541cdeea-d224-4fb4-b695-43d89fd9af0e",
   "metadata": {},
   "outputs": [],
   "source": [
    "pred3 = mdl.predict(x_test)"
   ]
  },
  {
   "cell_type": "code",
   "execution_count": 43,
   "id": "5aed5edd-d422-4a84-ade7-14d512109b9c",
   "metadata": {},
   "outputs": [
    {
     "data": {
      "text/plain": [
       "0.55"
      ]
     },
     "execution_count": 43,
     "metadata": {},
     "output_type": "execute_result"
    }
   ],
   "source": [
    "metrics.accuracy_score(y_test, pred3)"
   ]
  },
  {
   "cell_type": "code",
   "execution_count": 44,
   "id": "ea42c30b-c776-4cea-acc2-d826918b3ce1",
   "metadata": {},
   "outputs": [
    {
     "data": {
      "image/png": "[encoded data removed]",
      "text/plain": [
       "<Figure size 640x480 with 1 Axes>"
      ]
     },
     "metadata": {},
     "output_type": "display_data"
    }
   ],
   "source": [
    "# our priori probability was off, base probability off of this\n",
    "yvals, xvals, _ = plt.hist(y_train)"
   ]
  },
  {
   "cell_type": "code",
   "execution_count": 45,
   "id": "683ae770-3dd4-4df2-bc3b-1942917a1fc2",
   "metadata": {},
   "outputs": [
    {
     "data": {
      "text/plain": [
       "(array([3. , 3.5, 4. , 4.5, 5. , 5.5, 6. , 6.5, 7. , 7.5, 8. ]),\n",
       " array([  8.,   0.,  39.,   0., 512.,   0., 468.,   0., 159.,  13.]))"
      ]
     },
     "execution_count": 45,
     "metadata": {},
     "output_type": "execute_result"
    }
   ],
   "source": [
    "xvals, yvals"
   ]
  },
  {
   "cell_type": "code",
   "execution_count": 46,
   "id": "98d67401-4c01-417a-a0ae-34511c32832f",
   "metadata": {},
   "outputs": [],
   "source": [
    "total = np.sum(yvals)"
   ]
  },
  {
   "cell_type": "code",
   "execution_count": 47,
   "id": "8f72028f-b407-4966-84e6-6cbd38a8a6f0",
   "metadata": {},
   "outputs": [],
   "source": [
    "edu_prob = {}\n",
    "for x, y in zip(xvals, yvals):\n",
    "    if x.is_integer():\n",
    "        edu_prob[int(x)] = y / total"
   ]
  },
  {
   "cell_type": "code",
   "execution_count": 48,
   "id": "ea53d07d-99f2-49c4-b814-99582e731593",
   "metadata": {},
   "outputs": [
    {
     "data": {
      "text/plain": [
       "{3: 0.006672226855713094,\n",
       " 4: 0.03252710592160134,\n",
       " 5: 0.427022518765638,\n",
       " 6: 0.390325271059216,\n",
       " 7: 0.13261050875729774}"
      ]
     },
     "execution_count": 48,
     "metadata": {},
     "output_type": "execute_result"
    }
   ],
   "source": [
    "edu_prob"
   ]
  },
  {
   "cell_type": "code",
   "execution_count": 49,
   "id": "9e8af27a-4fed-4e7b-980b-c5f25bdd3bb8",
   "metadata": {},
   "outputs": [
    {
     "data": {
      "text/plain": [
       "0.9891576313594661"
      ]
     },
     "execution_count": 49,
     "metadata": {},
     "output_type": "execute_result"
    }
   ],
   "source": [
    "# double check\n",
    "np.sum(np.fromiter(edu_prob.values(), dtype=np.float64))"
   ]
  },
  {
   "cell_type": "code",
   "execution_count": 50,
   "id": "2d1b27cc-1ee2-402a-9424-3322fb5b7a87",
   "metadata": {},
   "outputs": [],
   "source": [
    "# close enough\n",
    "pred1 = x_test.apply(lambda x: classify(info_mat, edu_prob, x), axis=1)"
   ]
  },
  {
   "cell_type": "code",
   "execution_count": 51,
   "id": "7106bacb-46bd-4711-b265-3c2247b90aa9",
   "metadata": {},
   "outputs": [
    {
     "data": {
      "text/plain": [
       "0.555"
      ]
     },
     "execution_count": 51,
     "metadata": {},
     "output_type": "execute_result"
    }
   ],
   "source": [
    "metrics.accuracy_score(y_test, pred1)"
   ]
  },
  {
   "cell_type": "code",
   "execution_count": 52,
   "id": "ca57e175-8b5f-41ed-8c52-6c569a72cf01",
   "metadata": {},
   "outputs": [],
   "source": [
    "# Achieved similar performance to library built in"
   ]
  },
  {
   "cell_type": "code",
   "execution_count": null,
   "id": "fa00a458-8098-4684-aa2f-43e21b7947ce",
   "metadata": {},
   "outputs": [],
   "source": []
  }
 ],
 "metadata": {
  "kernelspec": {
   "display_name": "Python 3 (ipykernel)",
   "language": "python",
   "name": "python3"
  },
  "language_info": {
   "codemirror_mode": {
    "name": "ipython",
    "version": 3
   },
   "file_extension": ".py",
   "mimetype": "text/x-python",
   "name": "python",
   "nbconvert_exporter": "python",
   "pygments_lexer": "ipython3",
   "version": "3.11.5"
  }
 },
 "nbformat": 4,
 "nbformat_minor": 5
}
